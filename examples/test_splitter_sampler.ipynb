{
 "cells": [
  {
   "cell_type": "code",
   "execution_count": 1,
   "metadata": {
    "collapsed": true
   },
   "outputs": [
    {
     "data": {
      "text/plain": "(846, 12)"
     },
     "execution_count": 1,
     "metadata": {},
     "output_type": "execute_result"
    }
   ],
   "source": [
    "import pandas as pd\n",
    "from sklearn.model_selection import train_test_split\n",
    "\n",
    "df = pd.read_csv('../data/titanic.csv')\n",
    "df.shape"
   ]
  },
  {
   "cell_type": "code",
   "execution_count": 10,
   "outputs": [],
   "source": [
    "\n",
    "def split_df(df, test_ratio=0.2, val_ratio=None, target=None, random_state=1337):\n",
    "    \"\"\"\n",
    "    Split a dataset into training set and test set\n",
    "    df -> (train, test)\n",
    "       -> (X_train, X_test, y_train, y_test)\n",
    "    :param df: a DataFrame to be split\n",
    "    :param test_ratio: ratio of test set, 0-1\n",
    "    :param val_ratio: ratio of validation set, 0-1\n",
    "        split into (train, test) if not specified\n",
    "        split into (train, val, test) if specified\n",
    "    :param target:\n",
    "        split into (train, test) if not specified\n",
    "        split into (X_train, X_test, y_train, y_test) if specified\n",
    "    :param random_state: random state\n",
    "    \"\"\"\n",
    "    if target:\n",
    "        if val_ratio:\n",
    "            count = df.shape[0]\n",
    "            val_count = int(count * val_ratio)\n",
    "            test_count = int(count * test_ratio)\n",
    "            df = df.sample(frac=1, random_state=random_state).reset_index(drop=True)\n",
    "            val = df[:val_count]\n",
    "            test = df[val_count:(val_count + test_count)]\n",
    "            train = df[(val_count + test_count):]\n",
    "            X_train = train.drop(target, axis=1, inplace=False)\n",
    "            X_val = val.drop(target, axis=1, inplace=False)\n",
    "            X_test = test.drop(target, axis=1, inplace=False)\n",
    "            y_train = train[target]\n",
    "            y_val = val[target]\n",
    "            y_test = test[target]\n",
    "            return X_train, X_val, X_test, y_train, y_val, y_test\n",
    "        else:\n",
    "            X = df.drop(target, axis=1, inplace=False)\n",
    "            y = df[target]\n",
    "            X_train, X_test, y_train, y_test = train_test_split(X, y, test_size=test_ratio, random_state=random_state)\n",
    "            return X_train, X_test, y_train, y_test\n",
    "    else:\n",
    "        if val_ratio:\n",
    "            count = df.shape[0]\n",
    "            val_count = int(count * val_ratio)\n",
    "            test_count = int(count * test_ratio)\n",
    "            df = df.sample(frac=1, random_state=random_state).reset_index(drop=True)\n",
    "            val = df[:val_count]\n",
    "            test = df[val_count:(val_count + test_count)]\n",
    "            train = df[(val_count + test_count):]\n",
    "            return train, val, test\n",
    "        else:\n",
    "            train, test = train_test_split(df, test_size=test_ratio, random_state=random_state)\n",
    "            return train, test"
   ],
   "metadata": {
    "collapsed": false,
    "pycharm": {
     "name": "#%%\n"
    }
   }
  },
  {
   "cell_type": "code",
   "execution_count": 13,
   "outputs": [],
   "source": [
    "train, val, test= split_df(df, test_ratio=0.2, val_ratio=0.3, target=None, random_state=1337)"
   ],
   "metadata": {
    "collapsed": false,
    "pycharm": {
     "name": "#%%\n"
    }
   }
  },
  {
   "cell_type": "code",
   "execution_count": 16,
   "outputs": [
    {
     "data": {
      "text/plain": "     PassengerId  Pclass                                               Name  \\\n841          688       3                                  Dakic, Mr. Branko   \n842          790       1                           Guggenheim, Mr. Benjamin   \n843          162       2  Watt, Mrs. James (Elizabeth \"Bessie\" Inglis Mi...   \n844          758       2                           Bailey, Mr. Percy Andrew   \n845          732       3                           Hassan, Mr. Houssein G N   \n\n        Sex   Age  SibSp  Parch      Ticket     Fare    Cabin Embarked  \\\n841    male  19.0      0      0      349228  10.1708      NaN        S   \n842    male  46.0      0      0    PC 17593  79.2000  B82 B84        C   \n843  female  40.0      0      0  C.A. 33595  15.7500      NaN        S   \n844    male  18.0      0      0       29108  11.5000      NaN        S   \n845    male  11.0      0      0        2699  18.7875      NaN        C   \n\n     Survived  \n841         0  \n842         0  \n843         1  \n844         0  \n845         0  ",
      "text/html": "<div>\n<style scoped>\n    .dataframe tbody tr th:only-of-type {\n        vertical-align: middle;\n    }\n\n    .dataframe tbody tr th {\n        vertical-align: top;\n    }\n\n    .dataframe thead th {\n        text-align: right;\n    }\n</style>\n<table border=\"1\" class=\"dataframe\">\n  <thead>\n    <tr style=\"text-align: right;\">\n      <th></th>\n      <th>PassengerId</th>\n      <th>Pclass</th>\n      <th>Name</th>\n      <th>Sex</th>\n      <th>Age</th>\n      <th>SibSp</th>\n      <th>Parch</th>\n      <th>Ticket</th>\n      <th>Fare</th>\n      <th>Cabin</th>\n      <th>Embarked</th>\n      <th>Survived</th>\n    </tr>\n  </thead>\n  <tbody>\n    <tr>\n      <th>841</th>\n      <td>688</td>\n      <td>3</td>\n      <td>Dakic, Mr. Branko</td>\n      <td>male</td>\n      <td>19.0</td>\n      <td>0</td>\n      <td>0</td>\n      <td>349228</td>\n      <td>10.1708</td>\n      <td>NaN</td>\n      <td>S</td>\n      <td>0</td>\n    </tr>\n    <tr>\n      <th>842</th>\n      <td>790</td>\n      <td>1</td>\n      <td>Guggenheim, Mr. Benjamin</td>\n      <td>male</td>\n      <td>46.0</td>\n      <td>0</td>\n      <td>0</td>\n      <td>PC 17593</td>\n      <td>79.2000</td>\n      <td>B82 B84</td>\n      <td>C</td>\n      <td>0</td>\n    </tr>\n    <tr>\n      <th>843</th>\n      <td>162</td>\n      <td>2</td>\n      <td>Watt, Mrs. James (Elizabeth \"Bessie\" Inglis Mi...</td>\n      <td>female</td>\n      <td>40.0</td>\n      <td>0</td>\n      <td>0</td>\n      <td>C.A. 33595</td>\n      <td>15.7500</td>\n      <td>NaN</td>\n      <td>S</td>\n      <td>1</td>\n    </tr>\n    <tr>\n      <th>844</th>\n      <td>758</td>\n      <td>2</td>\n      <td>Bailey, Mr. Percy Andrew</td>\n      <td>male</td>\n      <td>18.0</td>\n      <td>0</td>\n      <td>0</td>\n      <td>29108</td>\n      <td>11.5000</td>\n      <td>NaN</td>\n      <td>S</td>\n      <td>0</td>\n    </tr>\n    <tr>\n      <th>845</th>\n      <td>732</td>\n      <td>3</td>\n      <td>Hassan, Mr. Houssein G N</td>\n      <td>male</td>\n      <td>11.0</td>\n      <td>0</td>\n      <td>0</td>\n      <td>2699</td>\n      <td>18.7875</td>\n      <td>NaN</td>\n      <td>C</td>\n      <td>0</td>\n    </tr>\n  </tbody>\n</table>\n</div>"
     },
     "execution_count": 16,
     "metadata": {},
     "output_type": "execute_result"
    }
   ],
   "source": [
    "train.tail()"
   ],
   "metadata": {
    "collapsed": false,
    "pycharm": {
     "name": "#%%\n"
    }
   }
  },
  {
   "cell_type": "code",
   "execution_count": 2,
   "outputs": [],
   "source": [
    "def sampler(df, n, col=None, random_state=1337):\n",
    "    \"\"\"\n",
    "    Random/Stratified sampling\n",
    "    :param df: a DataFrame\n",
    "    :param n: samples or fraction\n",
    "    :param col: column name for stratified sampling\n",
    "    :param random_state: random state\n",
    "    \"\"\"\n",
    "    if 0 < n < 1 and col is None:\n",
    "        return df.sample(frac=n, random_state=random_state)\n",
    "    if n > 1 and col is None:\n",
    "        return df.sample(n=n, random_state=random_state)\n",
    "    if 0 < n < 1 and col is not None:\n",
    "        new_df, _ = train_test_split(df, test_size=1-n, stratify=df[[col]], random_state=random_state)\n",
    "        return new_df\n",
    "    if n > 1 and col is not None:\n",
    "        new_df, _ = train_test_split(df, test_size=(len(df)-n)/len(df), stratify=df[[col]], random_state=random_state)\n",
    "        return new_df"
   ],
   "metadata": {
    "collapsed": false,
    "pycharm": {
     "name": "#%%\n"
    }
   }
  },
  {
   "cell_type": "code",
   "execution_count": 3,
   "outputs": [
    {
     "data": {
      "text/plain": "(85, 12)"
     },
     "execution_count": 3,
     "metadata": {},
     "output_type": "execute_result"
    }
   ],
   "source": [
    "df2 = sampler(df, 0.1)\n",
    "df2.shape"
   ],
   "metadata": {
    "collapsed": false,
    "pycharm": {
     "name": "#%%\n"
    }
   }
  },
  {
   "cell_type": "code",
   "execution_count": 4,
   "outputs": [
    {
     "data": {
      "text/plain": "(100, 12)"
     },
     "execution_count": 4,
     "metadata": {},
     "output_type": "execute_result"
    }
   ],
   "source": [
    "df2 = sampler(df, 100)\n",
    "df2.shape\n"
   ],
   "metadata": {
    "collapsed": false,
    "pycharm": {
     "name": "#%%\n"
    }
   }
  },
  {
   "cell_type": "code",
   "execution_count": 5,
   "outputs": [
    {
     "data": {
      "text/plain": "male      65\nfemale    35\nName: Sex, dtype: int64"
     },
     "execution_count": 5,
     "metadata": {},
     "output_type": "execute_result"
    }
   ],
   "source": [
    "df2 = sampler(df, 100, 'Sex')\n",
    "df2.Sex.value_counts()\n"
   ],
   "metadata": {
    "collapsed": false,
    "pycharm": {
     "name": "#%%\n"
    }
   }
  },
  {
   "cell_type": "code",
   "execution_count": 6,
   "outputs": [
    {
     "data": {
      "text/plain": "male      55\nfemale    29\nName: Sex, dtype: int64"
     },
     "execution_count": 6,
     "metadata": {},
     "output_type": "execute_result"
    }
   ],
   "source": [
    "df2 = sampler(df, 0.1, 'Sex')\n",
    "df2.Sex.value_counts()\n"
   ],
   "metadata": {
    "collapsed": false,
    "pycharm": {
     "name": "#%%\n"
    }
   }
  },
  {
   "cell_type": "code",
   "execution_count": 6,
   "outputs": [],
   "source": [],
   "metadata": {
    "collapsed": false,
    "pycharm": {
     "name": "#%%\n"
    }
   }
  }
 ],
 "metadata": {
  "kernelspec": {
   "name": "py36",
   "language": "python",
   "display_name": "py36"
  },
  "language_info": {
   "codemirror_mode": {
    "name": "ipython",
    "version": 2
   },
   "file_extension": ".py",
   "mimetype": "text/x-python",
   "name": "python",
   "nbconvert_exporter": "python",
   "pygments_lexer": "ipython2",
   "version": "2.7.6"
  }
 },
 "nbformat": 4,
 "nbformat_minor": 0
}