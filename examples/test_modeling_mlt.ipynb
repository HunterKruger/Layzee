{
 "cells": [
  {
   "cell_type": "code",
   "execution_count": null,
   "metadata": {
    "collapsed": true,
    "pycharm": {
     "is_executing": true
    }
   },
   "outputs": [],
   "source": [
    "import sys\n",
    "\n",
    "sys.path.append(\"..\")\n",
    "import pandas as pd\n",
    "from layzee.feature_handling2 import *\n",
    "from layzee.splitter_sampler import *\n",
    "from layzee.dataframe_observer import *\n",
    "from layzee.modeling import Modeling\n",
    "from layzee.evaluation import MltClsEvaluation"
   ]
  },
  {
   "cell_type": "code",
   "execution_count": 2,
   "outputs": [
    {
     "name": "stdout",
     "output_type": "stream",
     "text": [
      "------------------\n",
      "846 rows, 12 columns.\n",
      "------------------\n",
      "               dtype  unique   unique%  missing  missing%\n",
      "PassengerId    int64     846  1.000000        0  0.000000\n",
      "Pclass         int64       3  0.003546        0  0.000000\n",
      "Name          object     846  1.000000        0  0.000000\n",
      "Sex           object       2  0.002364        0  0.000000\n",
      "Age          float64      86  0.101655      170  0.200946\n",
      "SibSp          int64       7  0.008274        0  0.000000\n",
      "Parch          int64       7  0.008274        0  0.000000\n",
      "Ticket        object     652  0.770686        0  0.000000\n",
      "Fare         float64     243  0.287234        0  0.000000\n",
      "Cabin         object     143  0.169031      654  0.773050\n",
      "Embarked      object       3  0.003546        2  0.002364\n",
      "Survived       int64       2  0.002364        0  0.000000\n",
      "------------------\n"
     ]
    }
   ],
   "source": [
    "titanic = pd.read_csv('../data/titanic.csv')\n",
    "read_df_info(titanic)"
   ],
   "metadata": {
    "collapsed": false,
    "pycharm": {
     "name": "#%%\n"
    }
   }
  },
  {
   "cell_type": "code",
   "execution_count": 3,
   "outputs": [
    {
     "name": "stdout",
     "output_type": "stream",
     "text": [
      "------------------\n",
      "846 rows, 8 columns.\n",
      "------------------\n",
      "            dtype  unique   unique%  missing  missing%\n",
      "Pclass      int64       3  0.003546        0  0.000000\n",
      "Sex        object       2  0.002364        0  0.000000\n",
      "Fare      float64     243  0.287234        0  0.000000\n",
      "Age       float64      86  0.101655      170  0.200946\n",
      "SibSp       int64       7  0.008274        0  0.000000\n",
      "Parch       int64       7  0.008274        0  0.000000\n",
      "Embarked   object       3  0.003546        2  0.002364\n",
      "Survived    int64       2  0.002364        0  0.000000\n",
      "------------------\n"
     ]
    }
   ],
   "source": [
    "titanic = titanic[['Pclass', 'Sex', 'Fare', 'Age', 'SibSp', 'Parch', 'Embarked', 'Survived']]\n",
    "read_df_info(titanic)"
   ],
   "metadata": {
    "collapsed": false,
    "pycharm": {
     "name": "#%%\n"
    }
   }
  },
  {
   "cell_type": "code",
   "execution_count": 7,
   "outputs": [
    {
     "name": "stdout",
     "output_type": "stream",
     "text": [
      "-------------------------------------\n",
      "Type: int64\n",
      "Rows: 846\n",
      "Distinct: 2\n",
      "Missing: 0\n",
      "Missing%: 0.0\n",
      "-------------------------------------\n",
      "Top 2 values:\n",
      "   Survived  Count         %     Cum.%\n",
      "0         0    527  0.622931  0.622931\n",
      "1         1    319  0.377069  1.000000\n",
      "-------------------------------------\n"
     ]
    },
    {
     "data": {
      "text/plain": "<Figure size 576x432 with 1 Axes>",
      "image/png": "[encoded data removed]"
     },
     "metadata": {
      "needs_background": "light"
     },
     "output_type": "display_data"
    }
   ],
   "source": [
    "describe_cat_col(titanic, 'Survived')"
   ],
   "metadata": {
    "collapsed": false,
    "pycharm": {
     "name": "#%%\n"
    }
   }
  },
  {
   "cell_type": "code",
   "execution_count": 4,
   "outputs": [
    {
     "data": {
      "text/plain": "((676, 8), (170, 8))"
     },
     "execution_count": 4,
     "metadata": {},
     "output_type": "execute_result"
    }
   ],
   "source": [
    "train, test = split_df(titanic)\n",
    "train.shape, test.shape"
   ],
   "metadata": {
    "collapsed": false,
    "pycharm": {
     "name": "#%%\n"
    }
   }
  },
  {
   "cell_type": "code",
   "execution_count": 5,
   "outputs": [
    {
     "name": "stdout",
     "output_type": "stream",
     "text": [
      "------------------\n",
      "676 rows, 8 columns.\n",
      "------------------\n",
      "            dtype  unique   unique%  missing  missing%\n",
      "Pclass      int64       3  0.004438        0  0.000000\n",
      "Sex        object       2  0.002959        0  0.000000\n",
      "Fare      float64     221  0.326923        0  0.000000\n",
      "Age       float64      83  0.122781      139  0.205621\n",
      "SibSp       int64       7  0.010355        0  0.000000\n",
      "Parch       int64       6  0.008876        0  0.000000\n",
      "Embarked   object       3  0.004438        1  0.001479\n",
      "Survived    int64       2  0.002959        0  0.000000\n",
      "------------------\n"
     ]
    }
   ],
   "source": [
    "read_df_info(train)"
   ],
   "metadata": {
    "collapsed": false,
    "pycharm": {
     "name": "#%%\n"
    }
   }
  },
  {
   "cell_type": "code",
   "execution_count": 8,
   "outputs": [
    {
     "name": "stdout",
     "output_type": "stream",
     "text": [
      "['Age', 'Embarked']\n",
      "0-0    536\n",
      "1-0    139\n",
      "0-1      1\n",
      "dtype: int64\n"
     ]
    },
    {
     "data": {
      "text/plain": "<Figure size 432x288 with 1 Axes>",
      "image/png": "[encoded data removed]"
     },
     "metadata": {
      "needs_background": "light"
     },
     "output_type": "display_data"
    }
   ],
   "source": [
    "missing_pattern(train)"
   ],
   "metadata": {
    "collapsed": false,
    "pycharm": {
     "name": "#%%\n"
    }
   }
  },
  {
   "cell_type": "code",
   "execution_count": 14,
   "outputs": [],
   "source": [
    "train,test = imputer(train,test, 'Age','median')\n",
    "train,test = imputer(train,test,'Embarked','mode')\n",
    "\n",
    "train_ed, test_ed,a,b,c = general_encoder(\n",
    "    ['Age', 'Fare'],\n",
    "    ['Embarked'],\n",
    "    ['Pclass', 'Sex', 'SibSp', 'Parch', 'Survived'],\n",
    "    return_encoders=True\n",
    ")"
   ],
   "metadata": {
    "collapsed": false,
    "pycharm": {
     "name": "#%%\n"
    }
   }
  },
  {
   "cell_type": "code",
   "execution_count": 15,
   "outputs": [
    {
     "name": "stdout",
     "output_type": "stream",
     "text": [
      "------------------\n",
      "676 rows, 23 columns.\n",
      "------------------\n",
      "              dtype  unique   unique%  missing  missing%\n",
      "Age         float64      83  0.122781        0       0.0\n",
      "Fare        float64     221  0.326923        0       0.0\n",
      "Pclass_1    float64       2  0.002959        0       0.0\n",
      "Pclass_2    float64       2  0.002959        0       0.0\n",
      "Pclass_3    float64       2  0.002959        0       0.0\n",
      "Sex_female  float64       2  0.002959        0       0.0\n",
      "Sex_male    float64       2  0.002959        0       0.0\n",
      "SibSp_0     float64       2  0.002959        0       0.0\n",
      "SibSp_1     float64       2  0.002959        0       0.0\n",
      "SibSp_2     float64       2  0.002959        0       0.0\n",
      "SibSp_3     float64       2  0.002959        0       0.0\n",
      "SibSp_4     float64       2  0.002959        0       0.0\n",
      "SibSp_5     float64       2  0.002959        0       0.0\n",
      "SibSp_8     float64       2  0.002959        0       0.0\n",
      "Parch_0     float64       2  0.002959        0       0.0\n",
      "Parch_1     float64       2  0.002959        0       0.0\n",
      "Parch_2     float64       2  0.002959        0       0.0\n",
      "Parch_3     float64       2  0.002959        0       0.0\n",
      "Parch_4     float64       2  0.002959        0       0.0\n",
      "Parch_5     float64       2  0.002959        0       0.0\n",
      "Survived_0  float64       2  0.002959        0       0.0\n",
      "Survived_1  float64       2  0.002959        0       0.0\n",
      "Embarked    float64       3  0.004438        0       0.0\n",
      "------------------\n",
      "------------------\n",
      "170 rows, 23 columns.\n",
      "------------------\n",
      "              dtype  unique   unique%  missing  missing%\n",
      "Age         float64      53  0.311765        0       0.0\n",
      "Fare        float64      97  0.570588        0       0.0\n",
      "Pclass_1    float64       2  0.011765        0       0.0\n",
      "Pclass_2    float64       2  0.011765        0       0.0\n",
      "Pclass_3    float64       2  0.011765        0       0.0\n",
      "Sex_female  float64       2  0.011765        0       0.0\n",
      "Sex_male    float64       2  0.011765        0       0.0\n",
      "SibSp_0     float64       2  0.011765        0       0.0\n",
      "SibSp_1     float64       2  0.011765        0       0.0\n",
      "SibSp_2     float64       2  0.011765        0       0.0\n",
      "SibSp_3     float64       2  0.011765        0       0.0\n",
      "SibSp_4     float64       2  0.011765        0       0.0\n",
      "SibSp_5     float64       2  0.011765        0       0.0\n",
      "SibSp_8     float64       2  0.011765        0       0.0\n",
      "Parch_0     float64       2  0.011765        0       0.0\n",
      "Parch_1     float64       2  0.011765        0       0.0\n",
      "Parch_2     float64       2  0.011765        0       0.0\n",
      "Parch_3     float64       1  0.005882        0       0.0\n",
      "Parch_4     float64       1  0.005882        0       0.0\n",
      "Parch_5     float64       2  0.011765        0       0.0\n",
      "Survived_0  float64       2  0.011765        0       0.0\n",
      "Survived_1  float64       2  0.011765        0       0.0\n",
      "Embarked    float64       3  0.017647        0       0.0\n",
      "------------------\n"
     ]
    }
   ],
   "source": [
    "read_df_info(train_ed)\n",
    "read_df_info(test_ed)"
   ],
   "metadata": {
    "collapsed": false,
    "pycharm": {
     "name": "#%%\n"
    }
   }
  },
  {
   "cell_type": "code",
   "execution_count": 16,
   "outputs": [
    {
     "name": "stdout",
     "output_type": "stream",
     "text": [
      "-------------------------------------\n",
      "Type: float64\n",
      "Rows: 676\n",
      "Distinct: 3\n",
      "Missing: 0\n",
      "Missing%: 0.0\n",
      "-------------------------------------\n",
      "Top 3 values:\n",
      "   Embarked  Count         %     Cum.%\n",
      "0       2.0    487  0.720414  0.720414\n",
      "1       0.0    132  0.195266  0.915680\n",
      "2       1.0     57  0.084320  1.000000\n",
      "-------------------------------------\n"
     ]
    },
    {
     "data": {
      "text/plain": "<Figure size 576x432 with 1 Axes>",
      "image/png": "[encoded data removed]"
     },
     "metadata": {
      "needs_background": "light"
     },
     "output_type": "display_data"
    }
   ],
   "source": [
    "describe_cat_col(train_ed, 'Embarked')"
   ],
   "metadata": {
    "collapsed": false,
    "pycharm": {
     "name": "#%%\n"
    }
   }
  },
  {
   "cell_type": "code",
   "execution_count": 17,
   "outputs": [
    {
     "data": {
      "text/plain": "((676, 22), (170, 22), (676,), (170,))"
     },
     "execution_count": 17,
     "metadata": {},
     "output_type": "execute_result"
    }
   ],
   "source": [
    "X_train, X_test, y_train, y_test = split_train_test(train_ed, test_ed, 'Embarked')\n",
    "X_train.shape, X_test.shape, y_train.shape, y_test.shape"
   ],
   "metadata": {
    "collapsed": false,
    "pycharm": {
     "name": "#%%\n"
    }
   }
  },
  {
   "cell_type": "code",
   "execution_count": 18,
   "outputs": [
    {
     "name": "stdout",
     "output_type": "stream",
     "text": [
      "['Age', 'Fare', 'Pclass_1', 'Pclass_2', 'Pclass_3', 'Sex_female', 'Sex_male', 'SibSp_0', 'SibSp_1', 'SibSp_2', 'SibSp_3', 'SibSp_4', 'SibSp_5', 'SibSp_8', 'Parch_0', 'Parch_1', 'Parch_2', 'Parch_3', 'Parch_4', 'Parch_5', 'Survived_0', 'Survived_1']\n",
      "['Age', 'Fare', 'Pclass_1', 'Pclass_2', 'Pclass_3', 'Sex_female', 'Sex_male', 'SibSp_0', 'SibSp_1', 'SibSp_2', 'SibSp_3', 'SibSp_4', 'SibSp_5', 'SibSp_8', 'Parch_0', 'Parch_1', 'Parch_2', 'Parch_3', 'Parch_4', 'Parch_5', 'Survived_0', 'Survived_1']\n"
     ]
    }
   ],
   "source": [
    "print(X_train.columns.tolist())\n",
    "print(X_test.columns.tolist())"
   ],
   "metadata": {
    "collapsed": false,
    "pycharm": {
     "name": "#%%\n"
    }
   }
  },
  {
   "cell_type": "code",
   "execution_count": 19,
   "outputs": [
    {
     "name": "stdout",
     "output_type": "stream",
     "text": [
      "Time consumption: 18.59s.\n"
     ]
    }
   ],
   "source": [
    "md = Modeling(X_train, X_test, y_train, y_test, task='mlt', random_state=1445)\n",
    "y_score, y_proba, best_model, best_score, best_params = md.modeling(model='rf',metric='accuracy',cv=2)"
   ],
   "metadata": {
    "collapsed": false,
    "pycharm": {
     "name": "#%%\n"
    }
   }
  },
  {
   "cell_type": "code",
   "execution_count": 20,
   "outputs": [],
   "source": [
    "labels = b.categories_[0].tolist()\n",
    "eva = MltClsEvaluation(y_score, y_test, labels, y_proba)"
   ],
   "metadata": {
    "collapsed": false,
    "pycharm": {
     "name": "#%%\n"
    }
   }
  },
  {
   "cell_type": "code",
   "execution_count": 21,
   "outputs": [
    {
     "name": "stdout",
     "output_type": "stream",
     "text": [
      "1 for S, 0 for not S\n"
     ]
    },
    {
     "data": {
      "text/plain": "<Figure size 402.375x360 with 1 Axes>",
      "image/png": "[encoded data removed]"
     },
     "metadata": {
      "needs_background": "light"
     },
     "output_type": "display_data"
    }
   ],
   "source": [
    "eva.density_chart('S')\n"
   ],
   "metadata": {
    "collapsed": false,
    "pycharm": {
     "name": "#%%\n"
    }
   }
  },
  {
   "cell_type": "code",
   "execution_count": 22,
   "outputs": [
    {
     "name": "stdout",
     "output_type": "stream",
     "text": [
      "Accuracy: 0.7529411764705882\n",
      "Precision: 0.6354700854700855\n",
      "Recall: 0.5920862068965517\n",
      "F1_score: 0.6101479188166494\n",
      "Hamming_Loss: 0.24705882352941178\n",
      "Log_loss: 0.9137380375796343\n",
      "Auc_Roc: 0.8218892175254978\n"
     ]
    }
   ],
   "source": [
    "eva.detailed_metrics()\n"
   ],
   "metadata": {
    "collapsed": false,
    "pycharm": {
     "name": "#%%\n"
    }
   }
  },
  {
   "cell_type": "code",
   "execution_count": 23,
   "outputs": [
    {
     "name": "stdout",
     "output_type": "stream",
     "text": [
      "Class: S\n",
      "Model: ROC AUC=0.802\n"
     ]
    },
    {
     "data": {
      "text/plain": "<Figure size 432x288 with 1 Axes>",
      "image/png": "[encoded data removed]"
     },
     "metadata": {
      "needs_background": "light"
     },
     "output_type": "display_data"
    }
   ],
   "source": [
    "eva.roc_curve('S')"
   ],
   "metadata": {
    "collapsed": false,
    "pycharm": {
     "name": "#%%\n"
    }
   }
  },
  {
   "cell_type": "code",
   "execution_count": 24,
   "outputs": [
    {
     "name": "stdout",
     "output_type": "stream",
     "text": [
      "Class: S\n"
     ]
    },
    {
     "data": {
      "text/plain": "<Figure size 432x288 with 1 Axes>",
      "image/png": "[encoded data removed]"
     },
     "metadata": {
      "needs_background": "light"
     },
     "output_type": "display_data"
    }
   ],
   "source": [
    "eva.calibration_curve('S')"
   ],
   "metadata": {
    "collapsed": false,
    "pycharm": {
     "name": "#%%\n"
    }
   }
  },
  {
   "cell_type": "code",
   "execution_count": 25,
   "outputs": [
    {
     "name": "stdout",
     "output_type": "stream",
     "text": [
      "--------Confusion Matrix-----------\n",
      "          Predicted_C  Predicted_Q  Predicted_S\n",
      "Actual_C           14            0           15\n",
      "Actual_Q            1            7            8\n",
      "Actual_S           13            5          107\n",
      "------------------------------\n",
      "           Predicted_C  Predicted_Q  Predicted_S\n",
      "Actual%_C         0.48         0.00         0.52\n",
      "Actual%_Q         0.06         0.44         0.50\n",
      "Actual%_S         0.10         0.04         0.86\n",
      "------------------------------\n",
      "          Predicted%_C  Predicted%_Q  Predicted%_S\n",
      "Actual_C          0.50          0.00          0.12\n",
      "Actual_Q          0.04          0.58          0.06\n",
      "Actual_S          0.46          0.42          0.82\n",
      "------------------------------\n",
      "              precision    recall  f1-score   support\n",
      "\n",
      "           C       0.50      0.48      0.49        29\n",
      "           Q       0.58      0.44      0.50        16\n",
      "           S       0.82      0.86      0.84       125\n",
      "\n",
      "    accuracy                           0.75       170\n",
      "   macro avg       0.64      0.59      0.61       170\n",
      "weighted avg       0.75      0.75      0.75       170\n",
      "\n"
     ]
    }
   ],
   "source": [
    "eva.confusion_matrix(simple=False)"
   ],
   "metadata": {
    "collapsed": false,
    "pycharm": {
     "name": "#%%\n"
    }
   }
  },
  {
   "cell_type": "code",
   "execution_count": 26,
   "outputs": [
    {
     "data": {
      "text/plain": "<Figure size 432x288 with 1 Axes>",
      "image/png": "[encoded data removed]"
     },
     "metadata": {
      "needs_background": "light"
     },
     "output_type": "display_data"
    }
   ],
   "source": [
    "eva.feature_importance(best_model, X_train.columns.tolist())"
   ],
   "metadata": {
    "collapsed": false,
    "pycharm": {
     "name": "#%%\n"
    }
   }
  },
  {
   "cell_type": "code",
   "execution_count": 20,
   "outputs": [],
   "source": [],
   "metadata": {
    "collapsed": false,
    "pycharm": {
     "name": "#%%\n"
    }
   }
  }
 ],
 "metadata": {
  "kernelspec": {
   "display_name": "Python 3",
   "language": "python",
   "name": "python3"
  },
  "language_info": {
   "codemirror_mode": {
    "name": "ipython",
    "version": 2
   },
   "file_extension": ".py",
   "mimetype": "text/x-python",
   "name": "python",
   "nbconvert_exporter": "python",
   "pygments_lexer": "ipython2",
   "version": "2.7.6"
  }
 },
 "nbformat": 4,
 "nbformat_minor": 0
}