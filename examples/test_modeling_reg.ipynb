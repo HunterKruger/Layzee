{
 "cells": [
  {
   "cell_type": "code",
   "execution_count": 10,
   "outputs": [
    {
     "name": "stdout",
     "output_type": "stream",
     "text": [
      "------------------\n",
      "846 rows, 12 columns.\n",
      "------------------\n",
      "               dtype  unique   unique%  missing  missing%\n",
      "PassengerId    int64     846  1.000000        0  0.000000\n",
      "Pclass         int64       3  0.003546        0  0.000000\n",
      "Name          object     846  1.000000        0  0.000000\n",
      "Sex           object       2  0.002364        0  0.000000\n",
      "Age          float64      86  0.101655      170  0.200946\n",
      "SibSp          int64       7  0.008274        0  0.000000\n",
      "Parch          int64       7  0.008274        0  0.000000\n",
      "Ticket        object     652  0.770686        0  0.000000\n",
      "Fare         float64     243  0.287234        0  0.000000\n",
      "Cabin         object     143  0.169031      654  0.773050\n",
      "Embarked      object       3  0.003546        2  0.002364\n",
      "Survived       int64       2  0.002364        0  0.000000\n",
      "------------------\n"
     ]
    }
   ],
   "source": [
    "import sys\n",
    "sys.path.append(\"..\")\n",
    "import pandas as pd\n",
    "from layzee.feature_handling2 import *\n",
    "from layzee.splitter_sampler import *\n",
    "from layzee.dataframe_observer import *\n",
    "from layzee.modeling import Modeling\n",
    "from layzee.evaluation import RegEvaluation\n",
    "\n",
    "titanic = pd.read_csv('../data/titanic.csv')\n",
    "read_df_info(titanic)"
   ],
   "metadata": {
    "collapsed": false,
    "pycharm": {
     "name": "#%%\n"
    }
   }
  },
  {
   "cell_type": "code",
   "execution_count": 11,
   "outputs": [
    {
     "name": "stdout",
     "output_type": "stream",
     "text": [
      "------------------\n",
      "846 rows, 8 columns.\n",
      "------------------\n",
      "            dtype  unique   unique%  missing  missing%\n",
      "Pclass      int64       3  0.003546        0  0.000000\n",
      "Sex        object       2  0.002364        0  0.000000\n",
      "Fare      float64     243  0.287234        0  0.000000\n",
      "Age       float64      86  0.101655      170  0.200946\n",
      "SibSp       int64       7  0.008274        0  0.000000\n",
      "Parch       int64       7  0.008274        0  0.000000\n",
      "Embarked   object       3  0.003546        2  0.002364\n",
      "Survived    int64       2  0.002364        0  0.000000\n",
      "------------------\n"
     ]
    }
   ],
   "source": [
    "titanic = titanic[['Pclass', 'Sex', 'Fare', 'Age', 'SibSp', 'Parch', 'Embarked', 'Survived']]\n",
    "read_df_info(titanic)"
   ],
   "metadata": {
    "collapsed": false,
    "pycharm": {
     "name": "#%%\n"
    }
   }
  },
  {
   "cell_type": "code",
   "execution_count": 12,
   "outputs": [
    {
     "name": "stdout",
     "output_type": "stream",
     "text": [
      "-------------------------------------\n",
      "Type: int64\n",
      "Rows: 846\n",
      "Distinct: 2\n",
      "Missing: 0\n",
      "Missing%: 0.0\n",
      "-------------------------------------\n",
      "Top 2 values:\n",
      "   Survived  Count         %     Cum.%\n",
      "0         0    527  0.622931  0.622931\n",
      "1         1    319  0.377069  1.000000\n",
      "-------------------------------------\n"
     ]
    },
    {
     "data": {
      "text/plain": "<Figure size 576x432 with 1 Axes>",
      "image/png": "[encoded data removed]"
     },
     "metadata": {
      "needs_background": "light"
     },
     "output_type": "display_data"
    }
   ],
   "source": [
    "describe_cat_col(titanic, 'Survived')"
   ],
   "metadata": {
    "collapsed": false,
    "pycharm": {
     "name": "#%%\n"
    }
   }
  },
  {
   "cell_type": "code",
   "execution_count": 13,
   "outputs": [
    {
     "data": {
      "text/plain": "((676, 8), (170, 8))"
     },
     "execution_count": 13,
     "metadata": {},
     "output_type": "execute_result"
    }
   ],
   "source": [
    "train, test = split_df(titanic)\n",
    "train.shape, test.shape"
   ],
   "metadata": {
    "collapsed": false,
    "pycharm": {
     "name": "#%%\n"
    }
   }
  },
  {
   "cell_type": "code",
   "execution_count": 14,
   "outputs": [
    {
     "name": "stdout",
     "output_type": "stream",
     "text": [
      "------------------\n",
      "676 rows, 8 columns.\n",
      "------------------\n",
      "            dtype  unique   unique%  missing  missing%\n",
      "Pclass      int64       3  0.004438        0  0.000000\n",
      "Sex        object       2  0.002959        0  0.000000\n",
      "Fare      float64     221  0.326923        0  0.000000\n",
      "Age       float64      83  0.122781      139  0.205621\n",
      "SibSp       int64       7  0.010355        0  0.000000\n",
      "Parch       int64       6  0.008876        0  0.000000\n",
      "Embarked   object       3  0.004438        1  0.001479\n",
      "Survived    int64       2  0.002959        0  0.000000\n",
      "------------------\n"
     ]
    }
   ],
   "source": [
    "read_df_info(train)"
   ],
   "metadata": {
    "collapsed": false,
    "pycharm": {
     "name": "#%%\n"
    }
   }
  },
  {
   "cell_type": "code",
   "execution_count": 15,
   "outputs": [
    {
     "name": "stdout",
     "output_type": "stream",
     "text": [
      "['Age', 'Embarked']\n",
      "0-0    536\n",
      "1-0    139\n",
      "0-1      1\n",
      "dtype: int64\n"
     ]
    },
    {
     "data": {
      "text/plain": "<Figure size 432x288 with 1 Axes>",
      "image/png": "[encoded data removed]"
     },
     "metadata": {
      "needs_background": "light"
     },
     "output_type": "display_data"
    }
   ],
   "source": [
    "missing_pattern(train)"
   ],
   "metadata": {
    "collapsed": false,
    "pycharm": {
     "name": "#%%\n"
    }
   }
  },
  {
   "cell_type": "code",
   "execution_count": 16,
   "outputs": [
    {
     "name": "stderr",
     "output_type": "stream",
     "text": [
      "/Users/FY/opt/anaconda3/envs/py36/lib/python3.6/site-packages/pandas/core/series.py:4536: SettingWithCopyWarning: \n",
      "A value is trying to be set on a copy of a slice from a DataFrame\n",
      "\n",
      "See the caveats in the documentation: https://pandas.pydata.org/pandas-docs/stable/user_guide/indexing.html#returning-a-view-versus-a-copy\n",
      "  downcast=downcast,\n"
     ]
    }
   ],
   "source": [
    "train,test = imputer(train,test, 'Age','median')\n",
    "train,test = imputer(train,test,'Embarked','mode')"
   ],
   "metadata": {
    "collapsed": false,
    "pycharm": {
     "name": "#%%\n"
    }
   }
  },
  {
   "cell_type": "code",
   "execution_count": 17,
   "outputs": [],
   "source": [
    "train_ed, test_ed = general_encoder(train,test, ['Age'], None, ['Pclass', 'Sex', 'SibSp', 'Parch', 'Embarked', 'Survived'])"
   ],
   "metadata": {
    "collapsed": false,
    "pycharm": {
     "name": "#%%\n"
    }
   }
  },
  {
   "cell_type": "code",
   "execution_count": 18,
   "outputs": [
    {
     "name": "stdout",
     "output_type": "stream",
     "text": [
      "------------------\n",
      "676 rows, 25 columns.\n",
      "------------------\n",
      "              dtype  unique   unique%  missing  missing%\n",
      "Age         float64      83  0.122781        0       0.0\n",
      "Pclass_1    float64       2  0.002959        0       0.0\n",
      "Pclass_2    float64       2  0.002959        0       0.0\n",
      "Pclass_3    float64       2  0.002959        0       0.0\n",
      "Sex_female  float64       2  0.002959        0       0.0\n",
      "Sex_male    float64       2  0.002959        0       0.0\n",
      "SibSp_0     float64       2  0.002959        0       0.0\n",
      "SibSp_1     float64       2  0.002959        0       0.0\n",
      "SibSp_2     float64       2  0.002959        0       0.0\n",
      "SibSp_3     float64       2  0.002959        0       0.0\n",
      "SibSp_4     float64       2  0.002959        0       0.0\n",
      "SibSp_5     float64       2  0.002959        0       0.0\n",
      "SibSp_8     float64       2  0.002959        0       0.0\n",
      "Parch_0     float64       2  0.002959        0       0.0\n",
      "Parch_1     float64       2  0.002959        0       0.0\n",
      "Parch_2     float64       2  0.002959        0       0.0\n",
      "Parch_3     float64       2  0.002959        0       0.0\n",
      "Parch_4     float64       2  0.002959        0       0.0\n",
      "Parch_5     float64       2  0.002959        0       0.0\n",
      "Embarked_C  float64       2  0.002959        0       0.0\n",
      "Embarked_Q  float64       2  0.002959        0       0.0\n",
      "Embarked_S  float64       2  0.002959        0       0.0\n",
      "Survived_0  float64       2  0.002959        0       0.0\n",
      "Survived_1  float64       2  0.002959        0       0.0\n",
      "Fare        float64     221  0.326923        0       0.0\n",
      "------------------\n",
      "------------------\n",
      "170 rows, 25 columns.\n",
      "------------------\n",
      "              dtype  unique   unique%  missing  missing%\n",
      "Age         float64      53  0.311765        0       0.0\n",
      "Pclass_1    float64       2  0.011765        0       0.0\n",
      "Pclass_2    float64       2  0.011765        0       0.0\n",
      "Pclass_3    float64       2  0.011765        0       0.0\n",
      "Sex_female  float64       2  0.011765        0       0.0\n",
      "Sex_male    float64       2  0.011765        0       0.0\n",
      "SibSp_0     float64       2  0.011765        0       0.0\n",
      "SibSp_1     float64       2  0.011765        0       0.0\n",
      "SibSp_2     float64       2  0.011765        0       0.0\n",
      "SibSp_3     float64       2  0.011765        0       0.0\n",
      "SibSp_4     float64       2  0.011765        0       0.0\n",
      "SibSp_5     float64       2  0.011765        0       0.0\n",
      "SibSp_8     float64       2  0.011765        0       0.0\n",
      "Parch_0     float64       2  0.011765        0       0.0\n",
      "Parch_1     float64       2  0.011765        0       0.0\n",
      "Parch_2     float64       2  0.011765        0       0.0\n",
      "Parch_3     float64       1  0.005882        0       0.0\n",
      "Parch_4     float64       1  0.005882        0       0.0\n",
      "Parch_5     float64       2  0.011765        0       0.0\n",
      "Embarked_C  float64       2  0.011765        0       0.0\n",
      "Embarked_Q  float64       2  0.011765        0       0.0\n",
      "Embarked_S  float64       2  0.011765        0       0.0\n",
      "Survived_0  float64       2  0.011765        0       0.0\n",
      "Survived_1  float64       2  0.011765        0       0.0\n",
      "Fare        float64      97  0.570588        0       0.0\n",
      "------------------\n"
     ]
    }
   ],
   "source": [
    "read_df_info(train_ed)\n",
    "read_df_info(test_ed)"
   ],
   "metadata": {
    "collapsed": false,
    "pycharm": {
     "name": "#%%\n"
    }
   }
  },
  {
   "cell_type": "code",
   "execution_count": 19,
   "outputs": [
    {
     "data": {
      "text/plain": "((676, 24), (170, 24), (676,), (170,))"
     },
     "execution_count": 19,
     "metadata": {},
     "output_type": "execute_result"
    }
   ],
   "source": [
    "X_train, X_test, y_train, y_test = split_train_test(train_ed, test_ed, 'Fare')\n",
    "X_train.shape, X_test.shape, y_train.shape, y_test.shape"
   ],
   "metadata": {
    "collapsed": false,
    "pycharm": {
     "name": "#%%\n"
    }
   }
  },
  {
   "cell_type": "code",
   "execution_count": 20,
   "outputs": [
    {
     "name": "stdout",
     "output_type": "stream",
     "text": [
      "['Age', 'Pclass_1', 'Pclass_2', 'Pclass_3', 'Sex_female', 'Sex_male', 'SibSp_0', 'SibSp_1', 'SibSp_2', 'SibSp_3', 'SibSp_4', 'SibSp_5', 'SibSp_8', 'Parch_0', 'Parch_1', 'Parch_2', 'Parch_3', 'Parch_4', 'Parch_5', 'Embarked_C', 'Embarked_Q', 'Embarked_S', 'Survived_0', 'Survived_1']\n",
      "['Age', 'Pclass_1', 'Pclass_2', 'Pclass_3', 'Sex_female', 'Sex_male', 'SibSp_0', 'SibSp_1', 'SibSp_2', 'SibSp_3', 'SibSp_4', 'SibSp_5', 'SibSp_8', 'Parch_0', 'Parch_1', 'Parch_2', 'Parch_3', 'Parch_4', 'Parch_5', 'Embarked_C', 'Embarked_Q', 'Embarked_S', 'Survived_0', 'Survived_1']\n"
     ]
    }
   ],
   "source": [
    "print(X_train.columns.tolist())\n",
    "print(X_test.columns.tolist())"
   ],
   "metadata": {
    "collapsed": false,
    "pycharm": {
     "name": "#%%\n"
    }
   }
  },
  {
   "cell_type": "code",
   "execution_count": 21,
   "outputs": [
    {
     "name": "stdout",
     "output_type": "stream",
     "text": [
      "Time consumption: 22.08s.\n"
     ]
    }
   ],
   "source": [
    "md = Modeling(X_train, X_test, y_train, y_test, task='reg', random_state=1445)\n",
    "y_score, best_model, best_score, best_params = md.modeling(model='rf', metric='r2', cv=2)"
   ],
   "metadata": {
    "collapsed": false,
    "pycharm": {
     "name": "#%%\n"
    }
   }
  },
  {
   "cell_type": "code",
   "execution_count": 22,
   "outputs": [],
   "source": [
    "re = RegEvaluation(y_score, y_test)"
   ],
   "metadata": {
    "collapsed": false,
    "pycharm": {
     "name": "#%%\n"
    }
   }
  },
  {
   "cell_type": "code",
   "execution_count": 23,
   "outputs": [
    {
     "name": "stdout",
     "output_type": "stream",
     "text": [
      "Explained_Variance_Score: 0.33293856422956813\n",
      "Mean_Absolute_Error: 12.727493791143482\n",
      "Mean_Absolute_Percentage_Error: 3684476230237395.0\n",
      "Mean_Squared_Error: 1523.1024669161911\n",
      "Root_Mean_Squared_Error: 39.02694539566466\n",
      "Pearson_Coefficient: 0.5771901594769536\n",
      "R2_Score: 0.33277517491773856\n"
     ]
    }
   ],
   "source": [
    "re.detailed_metrics()"
   ],
   "metadata": {
    "collapsed": false,
    "pycharm": {
     "name": "#%%\n"
    }
   }
  },
  {
   "cell_type": "code",
   "execution_count": 24,
   "outputs": [
    {
     "data": {
      "text/plain": "<Figure size 432x288 with 1 Axes>",
      "image/png": "[encoded data removed]"
     },
     "metadata": {
      "needs_background": "light"
     },
     "output_type": "display_data"
    }
   ],
   "source": [
    "re.scatter_plot()"
   ],
   "metadata": {
    "collapsed": false,
    "pycharm": {
     "name": "#%%\n"
    }
   }
  },
  {
   "cell_type": "code",
   "execution_count": 25,
   "outputs": [
    {
     "name": "stdout",
     "output_type": "stream",
     "text": [
      "min_raw: -453.6633909241775\n",
      "max_raw: 65.35174799933935\n",
      "min_clipped: -49.56435106869593\n",
      "max_clipped: 51.270508510927016\n",
      "q25: -0.20172894510387884\n",
      "q75: 3.560990928564361\n",
      "median: 2.176404455091502\n",
      "avg: 1.9605319383619288\n",
      "std: 12.844672778134983\n",
      "--------------------------------------\n",
      "Shapiro test:\n",
      "ShapiroResult(statistic=0.8502434492111206, pvalue=1.4115973147321714e-11)\n",
      "<Error is normally distributed> can be rejected.\n",
      "--------------------------------------\n",
      "Error plot & QQ plot for 2% ~ 98% quantile\n"
     ]
    },
    {
     "data": {
      "text/plain": "<Figure size 360x360 with 1 Axes>",
      "image/png": "[encoded data removed]"
     },
     "metadata": {
      "needs_background": "light"
     },
     "output_type": "display_data"
    },
    {
     "data": {
      "text/plain": "<Figure size 432x288 with 1 Axes>",
      "image/png": "[encoded data removed]"
     },
     "metadata": {
      "needs_background": "light"
     },
     "output_type": "display_data"
    }
   ],
   "source": [
    "re.error_distribution()\n",
    "\n",
    "\n"
   ],
   "metadata": {
    "collapsed": false,
    "pycharm": {
     "name": "#%%\n"
    }
   }
  }
 ],
 "metadata": {
  "kernelspec": {
   "display_name": "Python 3",
   "language": "python",
   "name": "python3"
  },
  "language_info": {
   "codemirror_mode": {
    "name": "ipython",
    "version": 2
   },
   "file_extension": ".py",
   "mimetype": "text/x-python",
   "name": "python",
   "nbconvert_exporter": "python",
   "pygments_lexer": "ipython2",
   "version": "2.7.6"
  }
 },
 "nbformat": 4,
 "nbformat_minor": 0
}