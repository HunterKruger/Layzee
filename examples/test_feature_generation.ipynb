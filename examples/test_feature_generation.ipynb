{
 "cells": [
  {
   "cell_type": "code",
   "execution_count": 1,
   "metadata": {
    "collapsed": true
   },
   "outputs": [],
   "source": [
    "import sys\n",
    "import pandas as pd\n",
    "sys.path.append(\"..\")\n",
    "from layzee.feature_generation import *"
   ]
  },
  {
   "cell_type": "code",
   "execution_count": 2,
   "outputs": [],
   "source": [
    "df = pd.read_csv('../data/titanic.csv')"
   ],
   "metadata": {
    "collapsed": false,
    "pycharm": {
     "name": "#%%\n"
    }
   }
  },
  {
   "cell_type": "code",
   "execution_count": 3,
   "outputs": [
    {
     "name": "stdout",
     "output_type": "stream",
     "text": [
      "[('Age', 'Parch'), ('Age', 'Pclass'), ('Parch', 'Pclass')]\n"
     ]
    },
    {
     "data": {
      "text/plain": "   PassengerId  Pclass                                Name   Sex   Age  SibSp  \\\n0          364       3                     Asim, Mr. Adola  male  35.0      0   \n1           60       3  Goodwin, Master. William Frederick  male  11.0      5   \n2          796       2                  Otter, Mr. Richard  male  39.0      0   \n3          738       1              Lesurer, Mr. Gustave J  male  35.0      0   \n4          842       2            Mudd, Mr. Thomas Charles  male  16.0      0   \n\n   Parch              Ticket      Fare Cabin Embarked  Survived  Age*Parch  \\\n0      0  SOTON/O.Q. 3101310    7.0500   NaN        S         0       35.0   \n1      2             CA 2144   46.9000   NaN        S         0       13.0   \n2      0               28213   13.0000   NaN        S         0       39.0   \n3      0            PC 17755  512.3292  B101        C         1       35.0   \n4      0         S.O./P.P. 3   10.5000   NaN        S         0       16.0   \n\n   Age*Pclass  Parch*Pclass  \n0        38.0             3  \n1        14.0             5  \n2        41.0             2  \n3        36.0             1  \n4        18.0             2  ",
      "text/html": "<div>\n<style scoped>\n    .dataframe tbody tr th:only-of-type {\n        vertical-align: middle;\n    }\n\n    .dataframe tbody tr th {\n        vertical-align: top;\n    }\n\n    .dataframe thead th {\n        text-align: right;\n    }\n</style>\n<table border=\"1\" class=\"dataframe\">\n  <thead>\n    <tr style=\"text-align: right;\">\n      <th></th>\n      <th>PassengerId</th>\n      <th>Pclass</th>\n      <th>Name</th>\n      <th>Sex</th>\n      <th>Age</th>\n      <th>SibSp</th>\n      <th>Parch</th>\n      <th>Ticket</th>\n      <th>Fare</th>\n      <th>Cabin</th>\n      <th>Embarked</th>\n      <th>Survived</th>\n      <th>Age*Parch</th>\n      <th>Age*Pclass</th>\n      <th>Parch*Pclass</th>\n    </tr>\n  </thead>\n  <tbody>\n    <tr>\n      <th>0</th>\n      <td>364</td>\n      <td>3</td>\n      <td>Asim, Mr. Adola</td>\n      <td>male</td>\n      <td>35.0</td>\n      <td>0</td>\n      <td>0</td>\n      <td>SOTON/O.Q. 3101310</td>\n      <td>7.0500</td>\n      <td>NaN</td>\n      <td>S</td>\n      <td>0</td>\n      <td>35.0</td>\n      <td>38.0</td>\n      <td>3</td>\n    </tr>\n    <tr>\n      <th>1</th>\n      <td>60</td>\n      <td>3</td>\n      <td>Goodwin, Master. William Frederick</td>\n      <td>male</td>\n      <td>11.0</td>\n      <td>5</td>\n      <td>2</td>\n      <td>CA 2144</td>\n      <td>46.9000</td>\n      <td>NaN</td>\n      <td>S</td>\n      <td>0</td>\n      <td>13.0</td>\n      <td>14.0</td>\n      <td>5</td>\n    </tr>\n    <tr>\n      <th>2</th>\n      <td>796</td>\n      <td>2</td>\n      <td>Otter, Mr. Richard</td>\n      <td>male</td>\n      <td>39.0</td>\n      <td>0</td>\n      <td>0</td>\n      <td>28213</td>\n      <td>13.0000</td>\n      <td>NaN</td>\n      <td>S</td>\n      <td>0</td>\n      <td>39.0</td>\n      <td>41.0</td>\n      <td>2</td>\n    </tr>\n    <tr>\n      <th>3</th>\n      <td>738</td>\n      <td>1</td>\n      <td>Lesurer, Mr. Gustave J</td>\n      <td>male</td>\n      <td>35.0</td>\n      <td>0</td>\n      <td>0</td>\n      <td>PC 17755</td>\n      <td>512.3292</td>\n      <td>B101</td>\n      <td>C</td>\n      <td>1</td>\n      <td>35.0</td>\n      <td>36.0</td>\n      <td>1</td>\n    </tr>\n    <tr>\n      <th>4</th>\n      <td>842</td>\n      <td>2</td>\n      <td>Mudd, Mr. Thomas Charles</td>\n      <td>male</td>\n      <td>16.0</td>\n      <td>0</td>\n      <td>0</td>\n      <td>S.O./P.P. 3</td>\n      <td>10.5000</td>\n      <td>NaN</td>\n      <td>S</td>\n      <td>0</td>\n      <td>16.0</td>\n      <td>18.0</td>\n      <td>2</td>\n    </tr>\n  </tbody>\n</table>\n</div>"
     },
     "execution_count": 3,
     "metadata": {},
     "output_type": "execute_result"
    }
   ],
   "source": [
    "res = pairwise_polynomial_combinations(df,['Age','Parch','Pclass'])\n",
    "res.head()"
   ],
   "metadata": {
    "collapsed": false,
    "pycharm": {
     "name": "#%%\n"
    }
   }
  },
  {
   "cell_type": "code",
   "execution_count": 5,
   "outputs": [
    {
     "data": {
      "text/plain": "   PassengerId  Pclass                                Name   Sex   Age  SibSp  \\\n0          364       3                     Asim, Mr. Adola  male  35.0      0   \n1           60       3  Goodwin, Master. William Frederick  male  11.0      5   \n2          796       2                  Otter, Mr. Richard  male  39.0      0   \n3          738       1              Lesurer, Mr. Gustave J  male  35.0      0   \n4          842       2            Mudd, Mr. Thomas Charles  male  16.0      0   \n\n   Parch              Ticket      Fare Cabin Embarked  Survived  Age*Parch  \\\n0      0  SOTON/O.Q. 3101310    7.0500   NaN        S         0       35.0   \n1      2             CA 2144   46.9000   NaN        S         0       13.0   \n2      0               28213   13.0000   NaN        S         0       39.0   \n3      0            PC 17755  512.3292  B101        C         1       35.0   \n4      0         S.O./P.P. 3   10.5000   NaN        S         0       16.0   \n\n   Age*Pclass  Parch*Pclass  Age+Parch  Age-Parch  \n0        38.0             3       35.0       35.0  \n1        14.0             5       13.0        9.0  \n2        41.0             2       39.0       39.0  \n3        36.0             1       35.0       35.0  \n4        18.0             2       16.0       16.0  ",
      "text/html": "<div>\n<style scoped>\n    .dataframe tbody tr th:only-of-type {\n        vertical-align: middle;\n    }\n\n    .dataframe tbody tr th {\n        vertical-align: top;\n    }\n\n    .dataframe thead th {\n        text-align: right;\n    }\n</style>\n<table border=\"1\" class=\"dataframe\">\n  <thead>\n    <tr style=\"text-align: right;\">\n      <th></th>\n      <th>PassengerId</th>\n      <th>Pclass</th>\n      <th>Name</th>\n      <th>Sex</th>\n      <th>Age</th>\n      <th>SibSp</th>\n      <th>Parch</th>\n      <th>Ticket</th>\n      <th>Fare</th>\n      <th>Cabin</th>\n      <th>Embarked</th>\n      <th>Survived</th>\n      <th>Age*Parch</th>\n      <th>Age*Pclass</th>\n      <th>Parch*Pclass</th>\n      <th>Age+Parch</th>\n      <th>Age-Parch</th>\n    </tr>\n  </thead>\n  <tbody>\n    <tr>\n      <th>0</th>\n      <td>364</td>\n      <td>3</td>\n      <td>Asim, Mr. Adola</td>\n      <td>male</td>\n      <td>35.0</td>\n      <td>0</td>\n      <td>0</td>\n      <td>SOTON/O.Q. 3101310</td>\n      <td>7.0500</td>\n      <td>NaN</td>\n      <td>S</td>\n      <td>0</td>\n      <td>35.0</td>\n      <td>38.0</td>\n      <td>3</td>\n      <td>35.0</td>\n      <td>35.0</td>\n    </tr>\n    <tr>\n      <th>1</th>\n      <td>60</td>\n      <td>3</td>\n      <td>Goodwin, Master. William Frederick</td>\n      <td>male</td>\n      <td>11.0</td>\n      <td>5</td>\n      <td>2</td>\n      <td>CA 2144</td>\n      <td>46.9000</td>\n      <td>NaN</td>\n      <td>S</td>\n      <td>0</td>\n      <td>13.0</td>\n      <td>14.0</td>\n      <td>5</td>\n      <td>13.0</td>\n      <td>9.0</td>\n    </tr>\n    <tr>\n      <th>2</th>\n      <td>796</td>\n      <td>2</td>\n      <td>Otter, Mr. Richard</td>\n      <td>male</td>\n      <td>39.0</td>\n      <td>0</td>\n      <td>0</td>\n      <td>28213</td>\n      <td>13.0000</td>\n      <td>NaN</td>\n      <td>S</td>\n      <td>0</td>\n      <td>39.0</td>\n      <td>41.0</td>\n      <td>2</td>\n      <td>39.0</td>\n      <td>39.0</td>\n    </tr>\n    <tr>\n      <th>3</th>\n      <td>738</td>\n      <td>1</td>\n      <td>Lesurer, Mr. Gustave J</td>\n      <td>male</td>\n      <td>35.0</td>\n      <td>0</td>\n      <td>0</td>\n      <td>PC 17755</td>\n      <td>512.3292</td>\n      <td>B101</td>\n      <td>C</td>\n      <td>1</td>\n      <td>35.0</td>\n      <td>36.0</td>\n      <td>1</td>\n      <td>35.0</td>\n      <td>35.0</td>\n    </tr>\n    <tr>\n      <th>4</th>\n      <td>842</td>\n      <td>2</td>\n      <td>Mudd, Mr. Thomas Charles</td>\n      <td>male</td>\n      <td>16.0</td>\n      <td>0</td>\n      <td>0</td>\n      <td>S.O./P.P. 3</td>\n      <td>10.5000</td>\n      <td>NaN</td>\n      <td>S</td>\n      <td>0</td>\n      <td>16.0</td>\n      <td>18.0</td>\n      <td>2</td>\n      <td>16.0</td>\n      <td>16.0</td>\n    </tr>\n  </tbody>\n</table>\n</div>"
     },
     "execution_count": 5,
     "metadata": {},
     "output_type": "execute_result"
    }
   ],
   "source": [
    "res = pairwise_linear_combinations(df,['Age','Parch'])\n",
    "res.head()"
   ],
   "metadata": {
    "collapsed": false,
    "pycharm": {
     "name": "#%%\n"
    }
   }
  },
  {
   "cell_type": "code",
   "execution_count": null,
   "outputs": [],
   "source": [],
   "metadata": {
    "collapsed": false,
    "pycharm": {
     "name": "#%%\n"
    }
   }
  }
 ],
 "metadata": {
  "kernelspec": {
   "display_name": "Python 3",
   "language": "python",
   "name": "python3"
  },
  "language_info": {
   "codemirror_mode": {
    "name": "ipython",
    "version": 2
   },
   "file_extension": ".py",
   "mimetype": "text/x-python",
   "name": "python",
   "nbconvert_exporter": "python",
   "pygments_lexer": "ipython2",
   "version": "2.7.6"
  }
 },
 "nbformat": 4,
 "nbformat_minor": 0
}