{
 "cells": [
  {
   "cell_type": "code",
   "execution_count": 6,
   "metadata": {
    "collapsed": true
   },
   "outputs": [],
   "source": [
    "import pandas as pd\n",
    "from feature_generation import FeatureGeneration as FG\n"
   ]
  },
  {
   "cell_type": "code",
   "execution_count": 7,
   "outputs": [],
   "source": [
    "df = pd.read_csv('titanic.csv')\n"
   ],
   "metadata": {
    "collapsed": false,
    "pycharm": {
     "name": "#%%\n"
    }
   }
  },
  {
   "cell_type": "code",
   "execution_count": 8,
   "outputs": [
    {
     "name": "stdout",
     "output_type": "stream",
     "text": [
      "[('Age', 'Parch'), ('Age', 'Pclass'), ('Parch', 'Pclass')]\n"
     ]
    },
    {
     "data": {
      "text/plain": "     PassengerId  Pclass                                        Name     Sex  \\\n0            364       3                             Asim, Mr. Adola    male   \n1             60       3          Goodwin, Master. William Frederick    male   \n2            796       2                          Otter, Mr. Richard    male   \n3            738       1                      Lesurer, Mr. Gustave J    male   \n4            842       2                    Mudd, Mr. Thomas Charles    male   \n..           ...     ...                                         ...     ...   \n841          716       3  Soholt, Mr. Peter Andreas Lauritz Andersen    male   \n842          768       3                          Mangan, Miss. Mary  female   \n843           73       2                        Hood, Mr. Ambrose Jr    male   \n844          236       3                Harknett, Miss. Alice Phoebe  female   \n845           38       3                    Cann, Mr. Ernest Charles    male   \n\n      Age  SibSp  Parch              Ticket      Fare  Cabin Embarked  \\\n0    35.0      0      0  SOTON/O.Q. 3101310    7.0500    NaN        S   \n1    11.0      5      2             CA 2144   46.9000    NaN        S   \n2    39.0      0      0               28213   13.0000    NaN        S   \n3    35.0      0      0            PC 17755  512.3292   B101        C   \n4    16.0      0      0         S.O./P.P. 3   10.5000    NaN        S   \n..    ...    ...    ...                 ...       ...    ...      ...   \n841  19.0      0      0              348124    7.6500  F G73        S   \n842  30.5      0      0              364850    7.7500    NaN        Q   \n843  21.0      0      0        S.O.C. 14879   73.5000    NaN        S   \n844   NaN      0      0          W./C. 6609    7.5500    NaN        S   \n845  21.0      0      0          A./5. 2152    8.0500    NaN        S   \n\n     Survived  Age*Parch  Age*Pclass  Parch*Pclass  \n0           0       35.0        38.0             3  \n1           0       13.0        14.0             5  \n2           0       39.0        41.0             2  \n3           1       35.0        36.0             1  \n4           0       16.0        18.0             2  \n..        ...        ...         ...           ...  \n841         0       19.0        22.0             3  \n842         0       30.5        33.5             3  \n843         0       21.0        23.0             2  \n844         0        NaN         NaN             3  \n845         0       21.0        24.0             3  \n\n[846 rows x 15 columns]",
      "text/html": "<div>\n<style scoped>\n    .dataframe tbody tr th:only-of-type {\n        vertical-align: middle;\n    }\n\n    .dataframe tbody tr th {\n        vertical-align: top;\n    }\n\n    .dataframe thead th {\n        text-align: right;\n    }\n</style>\n<table border=\"1\" class=\"dataframe\">\n  <thead>\n    <tr style=\"text-align: right;\">\n      <th></th>\n      <th>PassengerId</th>\n      <th>Pclass</th>\n      <th>Name</th>\n      <th>Sex</th>\n      <th>Age</th>\n      <th>SibSp</th>\n      <th>Parch</th>\n      <th>Ticket</th>\n      <th>Fare</th>\n      <th>Cabin</th>\n      <th>Embarked</th>\n      <th>Survived</th>\n      <th>Age*Parch</th>\n      <th>Age*Pclass</th>\n      <th>Parch*Pclass</th>\n    </tr>\n  </thead>\n  <tbody>\n    <tr>\n      <th>0</th>\n      <td>364</td>\n      <td>3</td>\n      <td>Asim, Mr. Adola</td>\n      <td>male</td>\n      <td>35.0</td>\n      <td>0</td>\n      <td>0</td>\n      <td>SOTON/O.Q. 3101310</td>\n      <td>7.0500</td>\n      <td>NaN</td>\n      <td>S</td>\n      <td>0</td>\n      <td>35.0</td>\n      <td>38.0</td>\n      <td>3</td>\n    </tr>\n    <tr>\n      <th>1</th>\n      <td>60</td>\n      <td>3</td>\n      <td>Goodwin, Master. William Frederick</td>\n      <td>male</td>\n      <td>11.0</td>\n      <td>5</td>\n      <td>2</td>\n      <td>CA 2144</td>\n      <td>46.9000</td>\n      <td>NaN</td>\n      <td>S</td>\n      <td>0</td>\n      <td>13.0</td>\n      <td>14.0</td>\n      <td>5</td>\n    </tr>\n    <tr>\n      <th>2</th>\n      <td>796</td>\n      <td>2</td>\n      <td>Otter, Mr. Richard</td>\n      <td>male</td>\n      <td>39.0</td>\n      <td>0</td>\n      <td>0</td>\n      <td>28213</td>\n      <td>13.0000</td>\n      <td>NaN</td>\n      <td>S</td>\n      <td>0</td>\n      <td>39.0</td>\n      <td>41.0</td>\n      <td>2</td>\n    </tr>\n    <tr>\n      <th>3</th>\n      <td>738</td>\n      <td>1</td>\n      <td>Lesurer, Mr. Gustave J</td>\n      <td>male</td>\n      <td>35.0</td>\n      <td>0</td>\n      <td>0</td>\n      <td>PC 17755</td>\n      <td>512.3292</td>\n      <td>B101</td>\n      <td>C</td>\n      <td>1</td>\n      <td>35.0</td>\n      <td>36.0</td>\n      <td>1</td>\n    </tr>\n    <tr>\n      <th>4</th>\n      <td>842</td>\n      <td>2</td>\n      <td>Mudd, Mr. Thomas Charles</td>\n      <td>male</td>\n      <td>16.0</td>\n      <td>0</td>\n      <td>0</td>\n      <td>S.O./P.P. 3</td>\n      <td>10.5000</td>\n      <td>NaN</td>\n      <td>S</td>\n      <td>0</td>\n      <td>16.0</td>\n      <td>18.0</td>\n      <td>2</td>\n    </tr>\n    <tr>\n      <th>...</th>\n      <td>...</td>\n      <td>...</td>\n      <td>...</td>\n      <td>...</td>\n      <td>...</td>\n      <td>...</td>\n      <td>...</td>\n      <td>...</td>\n      <td>...</td>\n      <td>...</td>\n      <td>...</td>\n      <td>...</td>\n      <td>...</td>\n      <td>...</td>\n      <td>...</td>\n    </tr>\n    <tr>\n      <th>841</th>\n      <td>716</td>\n      <td>3</td>\n      <td>Soholt, Mr. Peter Andreas Lauritz Andersen</td>\n      <td>male</td>\n      <td>19.0</td>\n      <td>0</td>\n      <td>0</td>\n      <td>348124</td>\n      <td>7.6500</td>\n      <td>F G73</td>\n      <td>S</td>\n      <td>0</td>\n      <td>19.0</td>\n      <td>22.0</td>\n      <td>3</td>\n    </tr>\n    <tr>\n      <th>842</th>\n      <td>768</td>\n      <td>3</td>\n      <td>Mangan, Miss. Mary</td>\n      <td>female</td>\n      <td>30.5</td>\n      <td>0</td>\n      <td>0</td>\n      <td>364850</td>\n      <td>7.7500</td>\n      <td>NaN</td>\n      <td>Q</td>\n      <td>0</td>\n      <td>30.5</td>\n      <td>33.5</td>\n      <td>3</td>\n    </tr>\n    <tr>\n      <th>843</th>\n      <td>73</td>\n      <td>2</td>\n      <td>Hood, Mr. Ambrose Jr</td>\n      <td>male</td>\n      <td>21.0</td>\n      <td>0</td>\n      <td>0</td>\n      <td>S.O.C. 14879</td>\n      <td>73.5000</td>\n      <td>NaN</td>\n      <td>S</td>\n      <td>0</td>\n      <td>21.0</td>\n      <td>23.0</td>\n      <td>2</td>\n    </tr>\n    <tr>\n      <th>844</th>\n      <td>236</td>\n      <td>3</td>\n      <td>Harknett, Miss. Alice Phoebe</td>\n      <td>female</td>\n      <td>NaN</td>\n      <td>0</td>\n      <td>0</td>\n      <td>W./C. 6609</td>\n      <td>7.5500</td>\n      <td>NaN</td>\n      <td>S</td>\n      <td>0</td>\n      <td>NaN</td>\n      <td>NaN</td>\n      <td>3</td>\n    </tr>\n    <tr>\n      <th>845</th>\n      <td>38</td>\n      <td>3</td>\n      <td>Cann, Mr. Ernest Charles</td>\n      <td>male</td>\n      <td>21.0</td>\n      <td>0</td>\n      <td>0</td>\n      <td>A./5. 2152</td>\n      <td>8.0500</td>\n      <td>NaN</td>\n      <td>S</td>\n      <td>0</td>\n      <td>21.0</td>\n      <td>24.0</td>\n      <td>3</td>\n    </tr>\n  </tbody>\n</table>\n<p>846 rows × 15 columns</p>\n</div>"
     },
     "execution_count": 8,
     "metadata": {},
     "output_type": "execute_result"
    }
   ],
   "source": [
    "FG.pairwise_polynomial_combinations(df,['Age','Parch','Pclass'])\n"
   ],
   "metadata": {
    "collapsed": false,
    "pycharm": {
     "name": "#%%\n"
    }
   }
  },
  {
   "cell_type": "code",
   "execution_count": 9,
   "outputs": [
    {
     "name": "stdout",
     "output_type": "stream",
     "text": [
      "[('Age', 'Parch'), ('Age', 'Pclass'), ('Parch', 'Pclass')]\n"
     ]
    },
    {
     "data": {
      "text/plain": "['Age*Parch', 'Age*Pclass', 'Parch*Pclass']"
     },
     "execution_count": 9,
     "metadata": {},
     "output_type": "execute_result"
    }
   ],
   "source": [
    "d,l =FG.pairwise_polynomial_combinations(df,['Age','Parch','Pclass'], True, True)\n",
    "l\n"
   ],
   "metadata": {
    "collapsed": false,
    "pycharm": {
     "name": "#%%\n"
    }
   }
  },
  {
   "cell_type": "code",
   "execution_count": 12,
   "outputs": [
    {
     "data": {
      "text/plain": "     PassengerId                                        Name     Sex  SibSp  \\\n0            364                             Asim, Mr. Adola    male      0   \n1             60          Goodwin, Master. William Frederick    male      5   \n2            796                          Otter, Mr. Richard    male      0   \n3            738                      Lesurer, Mr. Gustave J    male      0   \n4            842                    Mudd, Mr. Thomas Charles    male      0   \n..           ...                                         ...     ...    ...   \n841          716  Soholt, Mr. Peter Andreas Lauritz Andersen    male      0   \n842          768                          Mangan, Miss. Mary  female      0   \n843           73                        Hood, Mr. Ambrose Jr    male      0   \n844          236                Harknett, Miss. Alice Phoebe  female      0   \n845           38                    Cann, Mr. Ernest Charles    male      0   \n\n                 Ticket      Fare  Cabin Embarked  Survived  Age*Parch  \\\n0    SOTON/O.Q. 3101310    7.0500    NaN        S         0       35.0   \n1               CA 2144   46.9000    NaN        S         0       13.0   \n2                 28213   13.0000    NaN        S         0       39.0   \n3              PC 17755  512.3292   B101        C         1       35.0   \n4           S.O./P.P. 3   10.5000    NaN        S         0       16.0   \n..                  ...       ...    ...      ...       ...        ...   \n841              348124    7.6500  F G73        S         0       19.0   \n842              364850    7.7500    NaN        Q         0       30.5   \n843        S.O.C. 14879   73.5000    NaN        S         0       21.0   \n844          W./C. 6609    7.5500    NaN        S         0        NaN   \n845          A./5. 2152    8.0500    NaN        S         0       21.0   \n\n     Age*Pclass  Parch*Pclass  \n0          38.0             3  \n1          14.0             5  \n2          41.0             2  \n3          36.0             1  \n4          18.0             2  \n..          ...           ...  \n841        22.0             3  \n842        33.5             3  \n843        23.0             2  \n844         NaN             3  \n845        24.0             3  \n\n[846 rows x 12 columns]",
      "text/html": "<div>\n<style scoped>\n    .dataframe tbody tr th:only-of-type {\n        vertical-align: middle;\n    }\n\n    .dataframe tbody tr th {\n        vertical-align: top;\n    }\n\n    .dataframe thead th {\n        text-align: right;\n    }\n</style>\n<table border=\"1\" class=\"dataframe\">\n  <thead>\n    <tr style=\"text-align: right;\">\n      <th></th>\n      <th>PassengerId</th>\n      <th>Name</th>\n      <th>Sex</th>\n      <th>SibSp</th>\n      <th>Ticket</th>\n      <th>Fare</th>\n      <th>Cabin</th>\n      <th>Embarked</th>\n      <th>Survived</th>\n      <th>Age*Parch</th>\n      <th>Age*Pclass</th>\n      <th>Parch*Pclass</th>\n    </tr>\n  </thead>\n  <tbody>\n    <tr>\n      <th>0</th>\n      <td>364</td>\n      <td>Asim, Mr. Adola</td>\n      <td>male</td>\n      <td>0</td>\n      <td>SOTON/O.Q. 3101310</td>\n      <td>7.0500</td>\n      <td>NaN</td>\n      <td>S</td>\n      <td>0</td>\n      <td>35.0</td>\n      <td>38.0</td>\n      <td>3</td>\n    </tr>\n    <tr>\n      <th>1</th>\n      <td>60</td>\n      <td>Goodwin, Master. William Frederick</td>\n      <td>male</td>\n      <td>5</td>\n      <td>CA 2144</td>\n      <td>46.9000</td>\n      <td>NaN</td>\n      <td>S</td>\n      <td>0</td>\n      <td>13.0</td>\n      <td>14.0</td>\n      <td>5</td>\n    </tr>\n    <tr>\n      <th>2</th>\n      <td>796</td>\n      <td>Otter, Mr. Richard</td>\n      <td>male</td>\n      <td>0</td>\n      <td>28213</td>\n      <td>13.0000</td>\n      <td>NaN</td>\n      <td>S</td>\n      <td>0</td>\n      <td>39.0</td>\n      <td>41.0</td>\n      <td>2</td>\n    </tr>\n    <tr>\n      <th>3</th>\n      <td>738</td>\n      <td>Lesurer, Mr. Gustave J</td>\n      <td>male</td>\n      <td>0</td>\n      <td>PC 17755</td>\n      <td>512.3292</td>\n      <td>B101</td>\n      <td>C</td>\n      <td>1</td>\n      <td>35.0</td>\n      <td>36.0</td>\n      <td>1</td>\n    </tr>\n    <tr>\n      <th>4</th>\n      <td>842</td>\n      <td>Mudd, Mr. Thomas Charles</td>\n      <td>male</td>\n      <td>0</td>\n      <td>S.O./P.P. 3</td>\n      <td>10.5000</td>\n      <td>NaN</td>\n      <td>S</td>\n      <td>0</td>\n      <td>16.0</td>\n      <td>18.0</td>\n      <td>2</td>\n    </tr>\n    <tr>\n      <th>...</th>\n      <td>...</td>\n      <td>...</td>\n      <td>...</td>\n      <td>...</td>\n      <td>...</td>\n      <td>...</td>\n      <td>...</td>\n      <td>...</td>\n      <td>...</td>\n      <td>...</td>\n      <td>...</td>\n      <td>...</td>\n    </tr>\n    <tr>\n      <th>841</th>\n      <td>716</td>\n      <td>Soholt, Mr. Peter Andreas Lauritz Andersen</td>\n      <td>male</td>\n      <td>0</td>\n      <td>348124</td>\n      <td>7.6500</td>\n      <td>F G73</td>\n      <td>S</td>\n      <td>0</td>\n      <td>19.0</td>\n      <td>22.0</td>\n      <td>3</td>\n    </tr>\n    <tr>\n      <th>842</th>\n      <td>768</td>\n      <td>Mangan, Miss. Mary</td>\n      <td>female</td>\n      <td>0</td>\n      <td>364850</td>\n      <td>7.7500</td>\n      <td>NaN</td>\n      <td>Q</td>\n      <td>0</td>\n      <td>30.5</td>\n      <td>33.5</td>\n      <td>3</td>\n    </tr>\n    <tr>\n      <th>843</th>\n      <td>73</td>\n      <td>Hood, Mr. Ambrose Jr</td>\n      <td>male</td>\n      <td>0</td>\n      <td>S.O.C. 14879</td>\n      <td>73.5000</td>\n      <td>NaN</td>\n      <td>S</td>\n      <td>0</td>\n      <td>21.0</td>\n      <td>23.0</td>\n      <td>2</td>\n    </tr>\n    <tr>\n      <th>844</th>\n      <td>236</td>\n      <td>Harknett, Miss. Alice Phoebe</td>\n      <td>female</td>\n      <td>0</td>\n      <td>W./C. 6609</td>\n      <td>7.5500</td>\n      <td>NaN</td>\n      <td>S</td>\n      <td>0</td>\n      <td>NaN</td>\n      <td>NaN</td>\n      <td>3</td>\n    </tr>\n    <tr>\n      <th>845</th>\n      <td>38</td>\n      <td>Cann, Mr. Ernest Charles</td>\n      <td>male</td>\n      <td>0</td>\n      <td>A./5. 2152</td>\n      <td>8.0500</td>\n      <td>NaN</td>\n      <td>S</td>\n      <td>0</td>\n      <td>21.0</td>\n      <td>24.0</td>\n      <td>3</td>\n    </tr>\n  </tbody>\n</table>\n<p>846 rows × 12 columns</p>\n</div>"
     },
     "execution_count": 12,
     "metadata": {},
     "output_type": "execute_result"
    }
   ],
   "source": [
    "d"
   ],
   "metadata": {
    "collapsed": false,
    "pycharm": {
     "name": "#%%\n"
    }
   }
  },
  {
   "cell_type": "code",
   "execution_count": 13,
   "outputs": [
    {
     "name": "stdout",
     "output_type": "stream",
     "text": [
      "[('Age', 'Parch')]\n"
     ]
    },
    {
     "data": {
      "text/plain": "     PassengerId  Pclass                                        Name     Sex  \\\n0            364       3                             Asim, Mr. Adola    male   \n1             60       3          Goodwin, Master. William Frederick    male   \n2            796       2                          Otter, Mr. Richard    male   \n3            738       1                      Lesurer, Mr. Gustave J    male   \n4            842       2                    Mudd, Mr. Thomas Charles    male   \n..           ...     ...                                         ...     ...   \n841          716       3  Soholt, Mr. Peter Andreas Lauritz Andersen    male   \n842          768       3                          Mangan, Miss. Mary  female   \n843           73       2                        Hood, Mr. Ambrose Jr    male   \n844          236       3                Harknett, Miss. Alice Phoebe  female   \n845           38       3                    Cann, Mr. Ernest Charles    male   \n\n     SibSp              Ticket      Fare  Cabin Embarked  Survived  Age+Parch  \\\n0        0  SOTON/O.Q. 3101310    7.0500    NaN        S         0       35.0   \n1        5             CA 2144   46.9000    NaN        S         0       13.0   \n2        0               28213   13.0000    NaN        S         0       39.0   \n3        0            PC 17755  512.3292   B101        C         1       35.0   \n4        0         S.O./P.P. 3   10.5000    NaN        S         0       16.0   \n..     ...                 ...       ...    ...      ...       ...        ...   \n841      0              348124    7.6500  F G73        S         0       19.0   \n842      0              364850    7.7500    NaN        Q         0       30.5   \n843      0        S.O.C. 14879   73.5000    NaN        S         0       21.0   \n844      0          W./C. 6609    7.5500    NaN        S         0        NaN   \n845      0          A./5. 2152    8.0500    NaN        S         0       21.0   \n\n     Age-Parch  \n0         35.0  \n1          9.0  \n2         39.0  \n3         35.0  \n4         16.0  \n..         ...  \n841       19.0  \n842       30.5  \n843       21.0  \n844        NaN  \n845       21.0  \n\n[846 rows x 12 columns]",
      "text/html": "<div>\n<style scoped>\n    .dataframe tbody tr th:only-of-type {\n        vertical-align: middle;\n    }\n\n    .dataframe tbody tr th {\n        vertical-align: top;\n    }\n\n    .dataframe thead th {\n        text-align: right;\n    }\n</style>\n<table border=\"1\" class=\"dataframe\">\n  <thead>\n    <tr style=\"text-align: right;\">\n      <th></th>\n      <th>PassengerId</th>\n      <th>Pclass</th>\n      <th>Name</th>\n      <th>Sex</th>\n      <th>SibSp</th>\n      <th>Ticket</th>\n      <th>Fare</th>\n      <th>Cabin</th>\n      <th>Embarked</th>\n      <th>Survived</th>\n      <th>Age+Parch</th>\n      <th>Age-Parch</th>\n    </tr>\n  </thead>\n  <tbody>\n    <tr>\n      <th>0</th>\n      <td>364</td>\n      <td>3</td>\n      <td>Asim, Mr. Adola</td>\n      <td>male</td>\n      <td>0</td>\n      <td>SOTON/O.Q. 3101310</td>\n      <td>7.0500</td>\n      <td>NaN</td>\n      <td>S</td>\n      <td>0</td>\n      <td>35.0</td>\n      <td>35.0</td>\n    </tr>\n    <tr>\n      <th>1</th>\n      <td>60</td>\n      <td>3</td>\n      <td>Goodwin, Master. William Frederick</td>\n      <td>male</td>\n      <td>5</td>\n      <td>CA 2144</td>\n      <td>46.9000</td>\n      <td>NaN</td>\n      <td>S</td>\n      <td>0</td>\n      <td>13.0</td>\n      <td>9.0</td>\n    </tr>\n    <tr>\n      <th>2</th>\n      <td>796</td>\n      <td>2</td>\n      <td>Otter, Mr. Richard</td>\n      <td>male</td>\n      <td>0</td>\n      <td>28213</td>\n      <td>13.0000</td>\n      <td>NaN</td>\n      <td>S</td>\n      <td>0</td>\n      <td>39.0</td>\n      <td>39.0</td>\n    </tr>\n    <tr>\n      <th>3</th>\n      <td>738</td>\n      <td>1</td>\n      <td>Lesurer, Mr. Gustave J</td>\n      <td>male</td>\n      <td>0</td>\n      <td>PC 17755</td>\n      <td>512.3292</td>\n      <td>B101</td>\n      <td>C</td>\n      <td>1</td>\n      <td>35.0</td>\n      <td>35.0</td>\n    </tr>\n    <tr>\n      <th>4</th>\n      <td>842</td>\n      <td>2</td>\n      <td>Mudd, Mr. Thomas Charles</td>\n      <td>male</td>\n      <td>0</td>\n      <td>S.O./P.P. 3</td>\n      <td>10.5000</td>\n      <td>NaN</td>\n      <td>S</td>\n      <td>0</td>\n      <td>16.0</td>\n      <td>16.0</td>\n    </tr>\n    <tr>\n      <th>...</th>\n      <td>...</td>\n      <td>...</td>\n      <td>...</td>\n      <td>...</td>\n      <td>...</td>\n      <td>...</td>\n      <td>...</td>\n      <td>...</td>\n      <td>...</td>\n      <td>...</td>\n      <td>...</td>\n      <td>...</td>\n    </tr>\n    <tr>\n      <th>841</th>\n      <td>716</td>\n      <td>3</td>\n      <td>Soholt, Mr. Peter Andreas Lauritz Andersen</td>\n      <td>male</td>\n      <td>0</td>\n      <td>348124</td>\n      <td>7.6500</td>\n      <td>F G73</td>\n      <td>S</td>\n      <td>0</td>\n      <td>19.0</td>\n      <td>19.0</td>\n    </tr>\n    <tr>\n      <th>842</th>\n      <td>768</td>\n      <td>3</td>\n      <td>Mangan, Miss. Mary</td>\n      <td>female</td>\n      <td>0</td>\n      <td>364850</td>\n      <td>7.7500</td>\n      <td>NaN</td>\n      <td>Q</td>\n      <td>0</td>\n      <td>30.5</td>\n      <td>30.5</td>\n    </tr>\n    <tr>\n      <th>843</th>\n      <td>73</td>\n      <td>2</td>\n      <td>Hood, Mr. Ambrose Jr</td>\n      <td>male</td>\n      <td>0</td>\n      <td>S.O.C. 14879</td>\n      <td>73.5000</td>\n      <td>NaN</td>\n      <td>S</td>\n      <td>0</td>\n      <td>21.0</td>\n      <td>21.0</td>\n    </tr>\n    <tr>\n      <th>844</th>\n      <td>236</td>\n      <td>3</td>\n      <td>Harknett, Miss. Alice Phoebe</td>\n      <td>female</td>\n      <td>0</td>\n      <td>W./C. 6609</td>\n      <td>7.5500</td>\n      <td>NaN</td>\n      <td>S</td>\n      <td>0</td>\n      <td>NaN</td>\n      <td>NaN</td>\n    </tr>\n    <tr>\n      <th>845</th>\n      <td>38</td>\n      <td>3</td>\n      <td>Cann, Mr. Ernest Charles</td>\n      <td>male</td>\n      <td>0</td>\n      <td>A./5. 2152</td>\n      <td>8.0500</td>\n      <td>NaN</td>\n      <td>S</td>\n      <td>0</td>\n      <td>21.0</td>\n      <td>21.0</td>\n    </tr>\n  </tbody>\n</table>\n<p>846 rows × 12 columns</p>\n</div>"
     },
     "execution_count": 13,
     "metadata": {},
     "output_type": "execute_result"
    }
   ],
   "source": [
    "df = pd.read_csv('titanic.csv')\n",
    "d,l =FG.pairwise_linear_combinations(df,['Age','Parch'], True, True)\n",
    "d\n"
   ],
   "metadata": {
    "collapsed": false,
    "pycharm": {
     "name": "#%%\n"
    }
   }
  },
  {
   "cell_type": "code",
   "execution_count": 14,
   "outputs": [
    {
     "data": {
      "text/plain": "['Age+Parch', 'Age-Parch']"
     },
     "execution_count": 14,
     "metadata": {},
     "output_type": "execute_result"
    }
   ],
   "source": [
    "l\n"
   ],
   "metadata": {
    "collapsed": false,
    "pycharm": {
     "name": "#%%\n"
    }
   }
  },
  {
   "cell_type": "code",
   "execution_count": null,
   "outputs": [],
   "source": [],
   "metadata": {
    "collapsed": false,
    "pycharm": {
     "name": "#%%\n"
    }
   }
  }
 ],
 "metadata": {
  "kernelspec": {
   "display_name": "Python 3",
   "language": "python",
   "name": "python3"
  },
  "language_info": {
   "codemirror_mode": {
    "name": "ipython",
    "version": 2
   },
   "file_extension": ".py",
   "mimetype": "text/x-python",
   "name": "python",
   "nbconvert_exporter": "python",
   "pygments_lexer": "ipython2",
   "version": "2.7.6"
  }
 },
 "nbformat": 4,
 "nbformat_minor": 0
}