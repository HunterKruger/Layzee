{
 "cells": [
  {
   "cell_type": "code",
   "execution_count": 0,
   "outputs": [],
   "source": [],
   "metadata": {
    "collapsed": false,
    "pycharm": {
     "name": "#%%\n"
    }
   }
  },
  {
   "cell_type": "code",
   "execution_count": 1,
   "outputs": [
    {
     "name": "stdout",
     "output_type": "stream",
     "text": [
      "------------------\n",
      "846 rows, 12 columns.\n",
      "------------------\n",
      "               Dtype  Count  unique   unique%  missing  missing%\n",
      "PassengerId    int64    846     846  1.000000        0  0.000000\n",
      "Pclass         int64    846       3  0.003546        0  0.000000\n",
      "Name          object    846     846  1.000000        0  0.000000\n",
      "Sex           object    846       2  0.002364        0  0.000000\n",
      "Age          float64    676      86  0.101655      170  0.200946\n",
      "SibSp          int64    846       7  0.008274        0  0.000000\n",
      "Parch          int64    846       7  0.008274        0  0.000000\n",
      "Ticket        object    846     652  0.770686        0  0.000000\n",
      "Fare         float64    846     243  0.287234        0  0.000000\n",
      "Cabin         object    192     143  0.169031      654  0.773050\n",
      "Embarked      object    844       3  0.003546        2  0.002364\n",
      "Survived       int64    846       2  0.002364        0  0.000000\n",
      "------------------\n"
     ]
    }
   ],
   "source": [
    "import pandas as pd\n",
    "from feature_handling import FeatureHandling2 as FH\n",
    "from splitter_sampler import SplitterSampler as SS\n",
    "from dataframe_observer import DataframeObserver as DO\n",
    "from modeling import Modeling\n",
    "from evaluation import BinClsEvaluation,RegEvaluation\n",
    "\n",
    "titanic = pd.read_csv('../data/titanic.csv')\n",
    "DO.read_df_info(titanic)"
   ],
   "metadata": {
    "collapsed": false,
    "pycharm": {
     "name": "#%%\n"
    }
   }
  },
  {
   "cell_type": "code",
   "execution_count": 2,
   "outputs": [
    {
     "name": "stdout",
     "output_type": "stream",
     "text": [
      "------------------\n",
      "846 rows, 8 columns.\n",
      "------------------\n",
      "            Dtype  Count  unique   unique%  missing  missing%\n",
      "Pclass      int64    846       3  0.003546        0  0.000000\n",
      "Sex        object    846       2  0.002364        0  0.000000\n",
      "Fare      float64    846     243  0.287234        0  0.000000\n",
      "Age       float64    676      86  0.101655      170  0.200946\n",
      "SibSp       int64    846       7  0.008274        0  0.000000\n",
      "Parch       int64    846       7  0.008274        0  0.000000\n",
      "Embarked   object    844       3  0.003546        2  0.002364\n",
      "Survived    int64    846       2  0.002364        0  0.000000\n",
      "------------------\n"
     ]
    }
   ],
   "source": [
    "titanic = titanic[['Pclass','Sex','Fare','Age','SibSp',\n",
    "                    'Parch','Embarked','Survived']]\n",
    "DO.read_df_info(titanic)"
   ],
   "metadata": {
    "collapsed": false,
    "pycharm": {
     "name": "#%%\n"
    }
   }
  },
  {
   "cell_type": "code",
   "execution_count": 3,
   "outputs": [
    {
     "name": "stdout",
     "output_type": "stream",
     "text": [
      "-------------------------------------\n",
      "Type: int64\n",
      "Rows: 846\n",
      "Distinct: 2\n",
      "Missing: 0\n",
      "Missing%: 0.0\n",
      "-------------------------------------\n",
      "Top 2 values:\n",
      "   Survived  Count         %     Cum.%\n",
      "0         0    527  0.622931  0.622931\n",
      "1         1    319  0.377069  1.000000\n",
      "-------------------------------------\n"
     ]
    },
    {
     "data": {
      "text/plain": "<Figure size 576x432 with 1 Axes>",
      "image/png": "[encoded data removed]"
     },
     "metadata": {
      "needs_background": "light"
     },
     "output_type": "display_data"
    }
   ],
   "source": [
    "DO.describe_cat_col(titanic,'Survived')"
   ],
   "metadata": {
    "collapsed": false,
    "pycharm": {
     "name": "#%%\n"
    }
   }
  },
  {
   "cell_type": "code",
   "execution_count": 4,
   "outputs": [
    {
     "data": {
      "text/plain": "((676, 8), (170, 8))"
     },
     "execution_count": 4,
     "metadata": {},
     "output_type": "execute_result"
    }
   ],
   "source": [
    "train,test = SS.split_df(titanic)\n",
    "train.shape, test.shape"
   ],
   "metadata": {
    "collapsed": false,
    "pycharm": {
     "name": "#%%\n"
    }
   }
  },
  {
   "cell_type": "code",
   "execution_count": 5,
   "outputs": [
    {
     "name": "stdout",
     "output_type": "stream",
     "text": [
      "------------------\n",
      "676 rows, 8 columns.\n",
      "------------------\n",
      "            Dtype  Count  unique   unique%  missing  missing%\n",
      "Pclass      int64    676       3  0.004438        0  0.000000\n",
      "Sex        object    676       2  0.002959        0  0.000000\n",
      "Fare      float64    676     221  0.326923        0  0.000000\n",
      "Age       float64    537      83  0.122781      139  0.205621\n",
      "SibSp       int64    676       7  0.010355        0  0.000000\n",
      "Parch       int64    676       6  0.008876        0  0.000000\n",
      "Embarked   object    675       3  0.004438        1  0.001479\n",
      "Survived    int64    676       2  0.002959        0  0.000000\n",
      "------------------\n"
     ]
    }
   ],
   "source": [
    "DO.read_df_info(train)"
   ],
   "metadata": {
    "collapsed": false,
    "pycharm": {
     "name": "#%%\n"
    }
   }
  },
  {
   "cell_type": "code",
   "execution_count": 6,
   "outputs": [
    {
     "name": "stdout",
     "output_type": "stream",
     "text": [
      "-------------------------------------------------\n",
      "['Age', 'Embarked']\n",
      "0-0    536\n",
      "1-0    139\n",
      "0-1      1\n",
      "dtype: int64\n"
     ]
    },
    {
     "data": {
      "text/plain": "<Figure size 432x288 with 1 Axes>",
      "image/png": "[encoded data removed]"
     },
     "metadata": {
      "needs_background": "light"
     },
     "output_type": "display_data"
    }
   ],
   "source": [
    "fh = FH(train, test)\n",
    "DO.missing_pattern(train,only_missing_col=True)"
   ],
   "metadata": {
    "collapsed": false,
    "pycharm": {
     "name": "#%%\n"
    }
   }
  },
  {
   "cell_type": "code",
   "execution_count": 7,
   "outputs": [],
   "source": [
    "fh.imputer('Age','median')\n",
    "fh.imputer('Embarked','mode')\n",
    "train_ed,test_ed=fh.general_encoder(['Age'],None,['Pclass','Sex','SibSp','Parch','Embarked','Survived'])"
   ],
   "metadata": {
    "collapsed": false,
    "pycharm": {
     "name": "#%%\n"
    }
   }
  },
  {
   "cell_type": "code",
   "execution_count": 8,
   "outputs": [
    {
     "name": "stdout",
     "output_type": "stream",
     "text": [
      "------------------\n",
      "676 rows, 25 columns.\n",
      "------------------\n",
      "              Dtype  Count  unique   unique%  missing  missing%\n",
      "Age         float64    676      83  0.122781        0       0.0\n",
      "Pclass_1    float64    676       2  0.002959        0       0.0\n",
      "Pclass_2    float64    676       2  0.002959        0       0.0\n",
      "Pclass_3    float64    676       2  0.002959        0       0.0\n",
      "Sex_female  float64    676       2  0.002959        0       0.0\n",
      "Sex_male    float64    676       2  0.002959        0       0.0\n",
      "SibSp_0     float64    676       2  0.002959        0       0.0\n",
      "SibSp_1     float64    676       2  0.002959        0       0.0\n",
      "SibSp_2     float64    676       2  0.002959        0       0.0\n",
      "SibSp_3     float64    676       2  0.002959        0       0.0\n",
      "SibSp_4     float64    676       2  0.002959        0       0.0\n",
      "SibSp_5     float64    676       2  0.002959        0       0.0\n",
      "SibSp_8     float64    676       2  0.002959        0       0.0\n",
      "Parch_0     float64    676       2  0.002959        0       0.0\n",
      "Parch_1     float64    676       2  0.002959        0       0.0\n",
      "Parch_2     float64    676       2  0.002959        0       0.0\n",
      "Parch_3     float64    676       2  0.002959        0       0.0\n",
      "Parch_4     float64    676       2  0.002959        0       0.0\n",
      "Parch_5     float64    676       2  0.002959        0       0.0\n",
      "Embarked_C  float64    676       2  0.002959        0       0.0\n",
      "Embarked_Q  float64    676       2  0.002959        0       0.0\n",
      "Embarked_S  float64    676       2  0.002959        0       0.0\n",
      "Survived_0  float64    676       2  0.002959        0       0.0\n",
      "Survived_1  float64    676       2  0.002959        0       0.0\n",
      "Fare        float64    676     221  0.326923        0       0.0\n",
      "------------------\n",
      "------------------\n",
      "170 rows, 25 columns.\n",
      "------------------\n",
      "              Dtype  Count  unique   unique%  missing  missing%\n",
      "Age         float64    170      53  0.311765        0       0.0\n",
      "Pclass_1    float64    170       2  0.011765        0       0.0\n",
      "Pclass_2    float64    170       2  0.011765        0       0.0\n",
      "Pclass_3    float64    170       2  0.011765        0       0.0\n",
      "Sex_female  float64    170       2  0.011765        0       0.0\n",
      "Sex_male    float64    170       2  0.011765        0       0.0\n",
      "SibSp_0     float64    170       2  0.011765        0       0.0\n",
      "SibSp_1     float64    170       2  0.011765        0       0.0\n",
      "SibSp_2     float64    170       2  0.011765        0       0.0\n",
      "SibSp_3     float64    170       2  0.011765        0       0.0\n",
      "SibSp_4     float64    170       2  0.011765        0       0.0\n",
      "SibSp_5     float64    170       2  0.011765        0       0.0\n",
      "SibSp_8     float64    170       2  0.011765        0       0.0\n",
      "Parch_0     float64    170       2  0.011765        0       0.0\n",
      "Parch_1     float64    170       2  0.011765        0       0.0\n",
      "Parch_2     float64    170       2  0.011765        0       0.0\n",
      "Parch_3     float64    170       1  0.005882        0       0.0\n",
      "Parch_4     float64    170       1  0.005882        0       0.0\n",
      "Parch_5     float64    170       2  0.011765        0       0.0\n",
      "Embarked_C  float64    170       2  0.011765        0       0.0\n",
      "Embarked_Q  float64    170       2  0.011765        0       0.0\n",
      "Embarked_S  float64    170       2  0.011765        0       0.0\n",
      "Survived_0  float64    170       2  0.011765        0       0.0\n",
      "Survived_1  float64    170       2  0.011765        0       0.0\n",
      "Fare        float64    170      97  0.570588        0       0.0\n",
      "------------------\n"
     ]
    }
   ],
   "source": [
    "DO.read_df_info(train_ed)\n",
    "DO.read_df_info(test_ed)"
   ],
   "metadata": {
    "collapsed": false,
    "pycharm": {
     "name": "#%%\n"
    }
   }
  },
  {
   "cell_type": "code",
   "execution_count": 9,
   "outputs": [
    {
     "data": {
      "text/plain": "((676, 24), (170, 24), (676,), (170,))"
     },
     "execution_count": 9,
     "metadata": {},
     "output_type": "execute_result"
    }
   ],
   "source": [
    "X_train, X_test, y_train, y_test= SS.split_train_test(train_ed,test_ed,'Fare')\n",
    "X_train.shape, X_test.shape, y_train.shape, y_test.shape"
   ],
   "metadata": {
    "collapsed": false,
    "pycharm": {
     "name": "#%%\n"
    }
   }
  },
  {
   "cell_type": "code",
   "execution_count": 10,
   "outputs": [
    {
     "name": "stdout",
     "output_type": "stream",
     "text": [
      "['Age', 'Pclass_1', 'Pclass_2', 'Pclass_3', 'Sex_female', 'Sex_male', 'SibSp_0', 'SibSp_1', 'SibSp_2', 'SibSp_3', 'SibSp_4', 'SibSp_5', 'SibSp_8', 'Parch_0', 'Parch_1', 'Parch_2', 'Parch_3', 'Parch_4', 'Parch_5', 'Embarked_C', 'Embarked_Q', 'Embarked_S', 'Survived_0', 'Survived_1']\n",
      "['Age', 'Pclass_1', 'Pclass_2', 'Pclass_3', 'Sex_female', 'Sex_male', 'SibSp_0', 'SibSp_1', 'SibSp_2', 'SibSp_3', 'SibSp_4', 'SibSp_5', 'SibSp_8', 'Parch_0', 'Parch_1', 'Parch_2', 'Parch_3', 'Parch_4', 'Parch_5', 'Embarked_C', 'Embarked_Q', 'Embarked_S', 'Survived_0', 'Survived_1']\n"
     ]
    }
   ],
   "source": [
    "print(X_train.columns.tolist())\n",
    "print(X_test.columns.tolist())"
   ],
   "metadata": {
    "collapsed": false,
    "pycharm": {
     "name": "#%%\n"
    }
   }
  },
  {
   "cell_type": "code",
   "execution_count": 11,
   "outputs": [],
   "source": [
    "md = Modeling(X_train, X_test, y_train, y_test, task='reg', metric='r2', random_state=1445)\n",
    "y_score, best_model, best_score, best_params = \\\n",
    "    md.modeling(model='rf',hp={'n_estimators':[100,200,400],'max_depth':[3,5,7,9]} )"
   ],
   "metadata": {
    "collapsed": false,
    "pycharm": {
     "name": "#%%\n"
    }
   }
  },
  {
   "cell_type": "code",
   "execution_count": 12,
   "outputs": [],
   "source": [
    "re = RegEvaluation(y_score,y_test)"
   ],
   "metadata": {
    "collapsed": false,
    "pycharm": {
     "name": "#%%\n"
    }
   }
  },
  {
   "cell_type": "code",
   "execution_count": 13,
   "outputs": [
    {
     "name": "stdout",
     "output_type": "stream",
     "text": [
      "Explained_Variance_Score: 0.33405090074379196\n",
      "Mean_Absolute_Error: 12.842870744247103\n",
      "Mean_Absolute_Percentage_Error: 3700199329004818.0\n",
      "Mean_Squared_Error: 1520.4944722710597\n",
      "Root_Mean_Squared_Error: 38.99351833665513\n",
      "Pearson_Coefficient: 0.5782012046683241\n",
      "R2_Score: 0.33391765798024475\n"
     ]
    }
   ],
   "source": [
    "re.detailed_metrics()\n"
   ],
   "metadata": {
    "collapsed": false,
    "pycharm": {
     "name": "#%%\n"
    }
   }
  },
  {
   "cell_type": "code",
   "execution_count": 14,
   "outputs": [
    {
     "data": {
      "text/plain": "<Figure size 432x288 with 1 Axes>",
      "image/png": "[encoded data removed]"
     },
     "metadata": {
      "needs_background": "light"
     },
     "output_type": "display_data"
    }
   ],
   "source": [
    "re.scatter_plot()"
   ],
   "metadata": {
    "collapsed": false,
    "pycharm": {
     "name": "#%%\n"
    }
   }
  },
  {
   "cell_type": "code",
   "execution_count": 15,
   "outputs": [
    {
     "name": "stdout",
     "output_type": "stream",
     "text": [
      "min_raw: -452.2670321187054\n",
      "max_raw: 67.4003706647276\n",
      "min_clipped: -49.42654388842418\n",
      "max_clipped: 51.63667877374684\n",
      "q25: -0.30076775276382506\n",
      "q75: 3.5852370494410017\n",
      "median: 2.140647676788708\n",
      "avg: 1.9877085970846555\n",
      "std: 12.965643817047884\n",
      "--------------------------------------\n",
      "W test statistic: 0.8544217348098755\n",
      "p-value: 2.1828951840552335e-11\n",
      "Error is not normally distributed.\n",
      "--------------------------------------\n",
      "Error plot in 2%-98% quantile.\n"
     ]
    },
    {
     "data": {
      "text/plain": "<Figure size 360x360 with 1 Axes>",
      "image/png": "[encoded data removed]"
     },
     "metadata": {
      "needs_background": "light"
     },
     "output_type": "display_data"
    }
   ],
   "source": [
    "re.error_distribution()"
   ],
   "metadata": {
    "collapsed": false,
    "pycharm": {
     "name": "#%%\n"
    }
   }
  },
  {
   "cell_type": "code",
   "execution_count": 16,
   "outputs": [
    {
     "name": "stdout",
     "output_type": "stream",
     "text": [
      "W test statistic: 0.9772805571556091\n",
      "p-value: 0.08144091814756393\n",
      "<Error is normally distributed> cannot be rejected.\n"
     ]
    }
   ],
   "source": [
    "from scipy import stats\n",
    "import numpy as np\n",
    "np.random.seed(12345678)\n",
    "x = stats.norm.rvs(loc=5, scale=3, size=100)\n",
    "shapiro_test = stats.shapiro(x)\n",
    "\n",
    "print('W test statistic: '+str(shapiro_test.statistic))\n",
    "print('p-value: '+str(shapiro_test.pvalue))\n",
    "if shapiro_test.pvalue>=0.05:\n",
    "    print('<Error is normally distributed> cannot be rejected.')\n",
    "else:\n",
    "    print('Error is not normally distributed.')\n"
   ],
   "metadata": {
    "collapsed": false,
    "pycharm": {
     "name": "#%%\n"
    }
   }
  },
  {
   "cell_type": "code",
   "execution_count": 17,
   "outputs": [
    {
     "data": {
      "text/plain": "RandomForestRegressor(max_depth=3, n_estimators=200, random_state=1445)"
     },
     "execution_count": 17,
     "metadata": {},
     "output_type": "execute_result"
    }
   ],
   "source": [
    "best_model"
   ],
   "metadata": {
    "collapsed": false,
    "pycharm": {
     "name": "#%%\n"
    }
   }
  },
  {
   "cell_type": "code",
   "execution_count": 17,
   "outputs": [],
   "source": [],
   "metadata": {
    "collapsed": false,
    "pycharm": {
     "name": "#%%\n"
    }
   }
  }
 ],
 "metadata": {
  "kernelspec": {
   "display_name": "Python 3",
   "language": "python",
   "name": "python3"
  },
  "language_info": {
   "codemirror_mode": {
    "name": "ipython",
    "version": 2
   },
   "file_extension": ".py",
   "mimetype": "text/x-python",
   "name": "python",
   "nbconvert_exporter": "python",
   "pygments_lexer": "ipython2",
   "version": "2.7.6"
  }
 },
 "nbformat": 4,
 "nbformat_minor": 0
}