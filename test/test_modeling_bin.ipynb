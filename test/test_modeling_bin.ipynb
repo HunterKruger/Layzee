{
 "cells": [
  {
   "cell_type": "code",
   "execution_count": 1,
   "outputs": [],
   "source": [
    "import sys\n",
    "sys.path.append(\"..\")"
   ],
   "metadata": {
    "collapsed": false,
    "pycharm": {
     "name": "#%%\n"
    }
   }
  },
  {
   "cell_type": "code",
   "execution_count": 2,
   "outputs": [],
   "source": [
    "import pandas as pd\n",
    "from layzee.feature_handling import FeatureHandling2 as FH\n",
    "from layzee.splitter_sampler import SplitterSampler as SS\n",
    "from layzee.dataframe_observer import DataframeObserver as DO\n",
    "from layzee.modeling import Modeling\n",
    "from layzee.evaluation import BinClsEvaluation"
   ],
   "metadata": {
    "collapsed": false,
    "pycharm": {
     "name": "#%%\n"
    }
   }
  },
  {
   "cell_type": "code",
   "execution_count": 3,
   "outputs": [
    {
     "name": "stdout",
     "output_type": "stream",
     "text": [
      "------------------\n",
      "846 rows, 12 columns.\n",
      "------------------\n",
      "               Dtype  Count  unique   unique%  missing  missing%\n",
      "PassengerId    int64    846     846  1.000000        0  0.000000\n",
      "Pclass         int64    846       3  0.003546        0  0.000000\n",
      "Name          object    846     846  1.000000        0  0.000000\n",
      "Sex           object    846       2  0.002364        0  0.000000\n",
      "Age          float64    676      86  0.101655      170  0.200946\n",
      "SibSp          int64    846       7  0.008274        0  0.000000\n",
      "Parch          int64    846       7  0.008274        0  0.000000\n",
      "Ticket        object    846     652  0.770686        0  0.000000\n",
      "Fare         float64    846     243  0.287234        0  0.000000\n",
      "Cabin         object    192     143  0.169031      654  0.773050\n",
      "Embarked      object    844       3  0.003546        2  0.002364\n",
      "Survived       int64    846       2  0.002364        0  0.000000\n",
      "------------------\n"
     ]
    }
   ],
   "source": [
    "titanic = pd.read_csv('../data/titanic.csv')\n",
    "DO.read_df_info(titanic)"
   ],
   "metadata": {
    "collapsed": false,
    "pycharm": {
     "name": "#%%\n"
    }
   }
  },
  {
   "cell_type": "code",
   "execution_count": 4,
   "outputs": [],
   "source": [
    "titanic = titanic[['Pclass','Sex','Fare','Age','SibSp',\n",
    "                    'Parch','Embarked','Survived']]"
   ],
   "metadata": {
    "collapsed": false,
    "pycharm": {
     "name": "#%%\n"
    }
   }
  },
  {
   "cell_type": "code",
   "execution_count": 5,
   "outputs": [
    {
     "name": "stdout",
     "output_type": "stream",
     "text": [
      "-------------------------------------\n",
      "Type: int64\n",
      "Rows: 846\n",
      "Distinct: 2\n",
      "Missing: 0\n",
      "Missing%: 0.0\n",
      "-------------------------------------\n",
      "Top 2 values:\n",
      "   Survived  Count         %     Cum.%\n",
      "0         0    527  0.622931  0.622931\n",
      "1         1    319  0.377069  1.000000\n",
      "-------------------------------------\n"
     ]
    },
    {
     "data": {
      "text/plain": "<Figure size 360x216 with 1 Axes>",
      "image/png": "[encoded data removed]"
     },
     "metadata": {
      "needs_background": "light"
     },
     "output_type": "display_data"
    }
   ],
   "source": [
    "DO.describe_cat_col(titanic,'Survived',plot_size_x=5, plot_size_y=3)"
   ],
   "metadata": {
    "collapsed": false,
    "pycharm": {
     "name": "#%%\n"
    }
   }
  },
  {
   "cell_type": "code",
   "execution_count": 6,
   "outputs": [
    {
     "data": {
      "text/plain": "((676, 8), (170, 8))"
     },
     "execution_count": 6,
     "metadata": {},
     "output_type": "execute_result"
    }
   ],
   "source": [
    "train,test = SS.split_df(titanic)\n",
    "train.shape, test.shape"
   ],
   "metadata": {
    "collapsed": false,
    "pycharm": {
     "name": "#%%\n"
    }
   }
  },
  {
   "cell_type": "code",
   "execution_count": 7,
   "outputs": [
    {
     "name": "stdout",
     "output_type": "stream",
     "text": [
      "['Age', 'Embarked']\n",
      "0-0    536\n",
      "1-0    139\n",
      "0-1      1\n",
      "dtype: int64\n"
     ]
    },
    {
     "data": {
      "text/plain": "<Figure size 432x288 with 1 Axes>",
      "image/png": "[encoded data removed]"
     },
     "metadata": {
      "needs_background": "light"
     },
     "output_type": "display_data"
    }
   ],
   "source": [
    "DO.missing_pattern(train, only_missing_col=True)"
   ],
   "metadata": {
    "collapsed": false,
    "pycharm": {
     "name": "#%%\n"
    }
   }
  },
  {
   "cell_type": "code",
   "execution_count": 8,
   "outputs": [
    {
     "name": "stdout",
     "output_type": "stream",
     "text": [
      "------------------\n",
      "676 rows, 8 columns.\n",
      "------------------\n",
      "            Dtype  Count  unique   unique%  missing  missing%\n",
      "Pclass      int64    676       3  0.004438        0       0.0\n",
      "Sex        object    676       2  0.002959        0       0.0\n",
      "Fare      float64    676     221  0.326923        0       0.0\n",
      "Age       float64    676      83  0.122781        0       0.0\n",
      "SibSp       int64    676       7  0.010355        0       0.0\n",
      "Parch       int64    676       6  0.008876        0       0.0\n",
      "Embarked   object    676       3  0.004438        0       0.0\n",
      "Survived    int64    676       2  0.002959        0       0.0\n",
      "------------------\n",
      "------------------\n",
      "170 rows, 8 columns.\n",
      "------------------\n",
      "            Dtype  Count  unique   unique%  missing  missing%\n",
      "Pclass      int64    170       3  0.017647        0       0.0\n",
      "Sex        object    170       2  0.011765        0       0.0\n",
      "Fare      float64    170      97  0.570588        0       0.0\n",
      "Age       float64    170      53  0.311765        0       0.0\n",
      "SibSp       int64    170       7  0.041176        0       0.0\n",
      "Parch       int64    170       5  0.029412        0       0.0\n",
      "Embarked   object    170       3  0.017647        0       0.0\n",
      "Survived    int64    170       2  0.011765        0       0.0\n",
      "------------------\n"
     ]
    }
   ],
   "source": [
    "fh = FH(train, test)\n",
    "fh.imputer('Age','median')\n",
    "fh.imputer('Embarked','mode')\n",
    "DO.read_df_info(fh.df)\n",
    "DO.read_df_info(fh.df2)"
   ],
   "metadata": {
    "collapsed": false,
    "pycharm": {
     "name": "#%%\n"
    }
   }
  },
  {
   "cell_type": "code",
   "execution_count": 9,
   "outputs": [],
   "source": [
    "train_ed,test_ed = fh.general_encoder(['Fare','Age'],None,['Pclass','Sex','SibSp','Parch','Embarked'])"
   ],
   "metadata": {
    "collapsed": false,
    "pycharm": {
     "name": "#%%\n"
    }
   }
  },
  {
   "cell_type": "code",
   "execution_count": 10,
   "outputs": [
    {
     "name": "stdout",
     "output_type": "stream",
     "text": [
      "------------------\n",
      "676 rows, 24 columns.\n",
      "------------------\n",
      "              Dtype  Count  unique   unique%  missing  missing%\n",
      "Fare        float64    676     221  0.326923        0       0.0\n",
      "Age         float64    676      83  0.122781        0       0.0\n",
      "Pclass_1    float64    676       2  0.002959        0       0.0\n",
      "Pclass_2    float64    676       2  0.002959        0       0.0\n",
      "Pclass_3    float64    676       2  0.002959        0       0.0\n",
      "Sex_female  float64    676       2  0.002959        0       0.0\n",
      "Sex_male    float64    676       2  0.002959        0       0.0\n",
      "SibSp_0     float64    676       2  0.002959        0       0.0\n",
      "SibSp_1     float64    676       2  0.002959        0       0.0\n",
      "SibSp_2     float64    676       2  0.002959        0       0.0\n",
      "SibSp_3     float64    676       2  0.002959        0       0.0\n",
      "SibSp_4     float64    676       2  0.002959        0       0.0\n",
      "SibSp_5     float64    676       2  0.002959        0       0.0\n",
      "SibSp_8     float64    676       2  0.002959        0       0.0\n",
      "Parch_0     float64    676       2  0.002959        0       0.0\n",
      "Parch_1     float64    676       2  0.002959        0       0.0\n",
      "Parch_2     float64    676       2  0.002959        0       0.0\n",
      "Parch_3     float64    676       2  0.002959        0       0.0\n",
      "Parch_4     float64    676       2  0.002959        0       0.0\n",
      "Parch_5     float64    676       2  0.002959        0       0.0\n",
      "Embarked_C  float64    676       2  0.002959        0       0.0\n",
      "Embarked_Q  float64    676       2  0.002959        0       0.0\n",
      "Embarked_S  float64    676       2  0.002959        0       0.0\n",
      "Survived      int64    676       2  0.002959        0       0.0\n",
      "------------------\n",
      "------------------\n",
      "170 rows, 24 columns.\n",
      "------------------\n",
      "              Dtype  Count  unique   unique%  missing  missing%\n",
      "Fare        float64    170      97  0.570588        0       0.0\n",
      "Age         float64    170      53  0.311765        0       0.0\n",
      "Pclass_1    float64    170       2  0.011765        0       0.0\n",
      "Pclass_2    float64    170       2  0.011765        0       0.0\n",
      "Pclass_3    float64    170       2  0.011765        0       0.0\n",
      "Sex_female  float64    170       2  0.011765        0       0.0\n",
      "Sex_male    float64    170       2  0.011765        0       0.0\n",
      "SibSp_0     float64    170       2  0.011765        0       0.0\n",
      "SibSp_1     float64    170       2  0.011765        0       0.0\n",
      "SibSp_2     float64    170       2  0.011765        0       0.0\n",
      "SibSp_3     float64    170       2  0.011765        0       0.0\n",
      "SibSp_4     float64    170       2  0.011765        0       0.0\n",
      "SibSp_5     float64    170       2  0.011765        0       0.0\n",
      "SibSp_8     float64    170       2  0.011765        0       0.0\n",
      "Parch_0     float64    170       2  0.011765        0       0.0\n",
      "Parch_1     float64    170       2  0.011765        0       0.0\n",
      "Parch_2     float64    170       2  0.011765        0       0.0\n",
      "Parch_3     float64    170       1  0.005882        0       0.0\n",
      "Parch_4     float64    170       1  0.005882        0       0.0\n",
      "Parch_5     float64    170       2  0.011765        0       0.0\n",
      "Embarked_C  float64    170       2  0.011765        0       0.0\n",
      "Embarked_Q  float64    170       2  0.011765        0       0.0\n",
      "Embarked_S  float64    170       2  0.011765        0       0.0\n",
      "Survived      int64    170       2  0.011765        0       0.0\n",
      "------------------\n"
     ]
    }
   ],
   "source": [
    "DO.read_df_info(train_ed)\n",
    "DO.read_df_info(test_ed)"
   ],
   "metadata": {
    "collapsed": false,
    "pycharm": {
     "name": "#%%\n"
    }
   }
  },
  {
   "cell_type": "code",
   "execution_count": 36,
   "outputs": [
    {
     "data": {
      "text/plain": "((676, 23), (170, 23), (676,), (170,))"
     },
     "execution_count": 36,
     "metadata": {},
     "output_type": "execute_result"
    }
   ],
   "source": [
    "X_train, X_test, y_train, y_test = SS.split_train_test(train_ed,test_ed,'Survived')\n",
    "X_train.shape, X_test.shape, y_train.shape, y_test.shape"
   ],
   "metadata": {
    "collapsed": false,
    "pycharm": {
     "name": "#%%\n"
    }
   }
  },
  {
   "cell_type": "code",
   "execution_count": 37,
   "outputs": [
    {
     "name": "stdout",
     "output_type": "stream",
     "text": [
      "['Fare', 'Age', 'Pclass_1', 'Pclass_2', 'Pclass_3', 'Sex_female', 'Sex_male', 'SibSp_0', 'SibSp_1', 'SibSp_2', 'SibSp_3', 'SibSp_4', 'SibSp_5', 'SibSp_8', 'Parch_0', 'Parch_1', 'Parch_2', 'Parch_3', 'Parch_4', 'Parch_5', 'Embarked_C', 'Embarked_Q', 'Embarked_S']\n",
      "['Fare', 'Age', 'Pclass_1', 'Pclass_2', 'Pclass_3', 'Sex_female', 'Sex_male', 'SibSp_0', 'SibSp_1', 'SibSp_2', 'SibSp_3', 'SibSp_4', 'SibSp_5', 'SibSp_8', 'Parch_0', 'Parch_1', 'Parch_2', 'Parch_3', 'Parch_4', 'Parch_5', 'Embarked_C', 'Embarked_Q', 'Embarked_S']\n"
     ]
    }
   ],
   "source": [
    "print(X_train.columns.tolist())\n",
    "print(X_test.columns.tolist())"
   ],
   "metadata": {
    "collapsed": false,
    "pycharm": {
     "name": "#%%\n"
    }
   }
  },
  {
   "cell_type": "code",
   "execution_count": 25,
   "outputs": [
    {
     "name": "stdout",
     "output_type": "stream",
     "text": [
      "------------------\n",
      "676 rows, 24 columns.\n",
      "------------------\n",
      "                Dtype  Count  unique   unique%  missing  missing%\n",
      "Fare          float64    676     221  0.326923        0  0.000000\n",
      "Age           float64    537      83  0.122781      139  0.205621\n",
      "Pclass_1      float64    676       2  0.002959        0  0.000000\n",
      "Pclass_2      float64    676       2  0.002959        0  0.000000\n",
      "Pclass_3      float64    676       2  0.002959        0  0.000000\n",
      "Sex_female    float64    676       2  0.002959        0  0.000000\n",
      "Sex_male      float64    676       2  0.002959        0  0.000000\n",
      "SibSp_0       float64    676       2  0.002959        0  0.000000\n",
      "SibSp_1       float64    676       2  0.002959        0  0.000000\n",
      "SibSp_2       float64    676       2  0.002959        0  0.000000\n",
      "SibSp_3       float64    676       2  0.002959        0  0.000000\n",
      "SibSp_4       float64    676       2  0.002959        0  0.000000\n",
      "SibSp_5       float64    676       2  0.002959        0  0.000000\n",
      "SibSp_8       float64    676       2  0.002959        0  0.000000\n",
      "Parch_0       float64    676       2  0.002959        0  0.000000\n",
      "Parch_1       float64    676       2  0.002959        0  0.000000\n",
      "Parch_2       float64    676       2  0.002959        0  0.000000\n",
      "Parch_3       float64    676       2  0.002959        0  0.000000\n",
      "Parch_4       float64    676       2  0.002959        0  0.000000\n",
      "Parch_5       float64    676       2  0.002959        0  0.000000\n",
      "Embarked_C    float64    676       2  0.002959        0  0.000000\n",
      "Embarked_Q    float64    676       2  0.002959        0  0.000000\n",
      "Embarked_S    float64    676       2  0.002959        0  0.000000\n",
      "Embarked_nan  float64    676       2  0.002959        0  0.000000\n",
      "------------------\n"
     ]
    }
   ],
   "source": [
    "DO.read_df_info(X_train)"
   ],
   "metadata": {
    "collapsed": false,
    "pycharm": {
     "name": "#%%\n"
    }
   }
  },
  {
   "cell_type": "code",
   "source": [
    "md = Modeling(X_train, X_test, y_train, y_test, task='bin', metric='accuracy', random_state=1234, cv=0.2)\n",
    "y_score, best_model, best_score, best_param = md.modeling(model='rf', hp='auto')\n",
    "\n",
    "best_param"
   ],
   "metadata": {
    "collapsed": false,
    "pycharm": {
     "name": "#%%\n"
    }
   },
   "execution_count": 38,
   "outputs": [
    {
     "name": "stdout",
     "output_type": "stream",
     "text": [
      "0:00:07.739081\n"
     ]
    }
   ]
  },
  {
   "cell_type": "code",
   "execution_count": 39,
   "outputs": [
    {
     "name": "stderr",
     "output_type": "stream",
     "text": [
      "/Users/FY/opt/anaconda3/envs/py36/lib/python3.6/site-packages/sklearn/metrics/_classification.py:1245: UndefinedMetricWarning: Precision is ill-defined and being set to 0.0 due to no predicted samples. Use `zero_division` parameter to control this behavior.\n",
      "  _warn_prf(average, modifier, msg_start, len(result))\n"
     ]
    }
   ],
   "source": [
    "bce = BinClsEvaluation(y_score,y_test)"
   ],
   "metadata": {
    "collapsed": false,
    "pycharm": {
     "name": "#%%\n"
    }
   }
  },
  {
   "cell_type": "code",
   "execution_count": 40,
   "outputs": [
    {
     "data": {
      "text/plain": "<Figure size 432x288 with 1 Axes>",
      "image/png": "[encoded data removed]"
     },
     "metadata": {
      "needs_background": "light"
     },
     "output_type": "display_data"
    }
   ],
   "source": [
    "bce.decision_chart()"
   ],
   "metadata": {
    "collapsed": false,
    "pycharm": {
     "name": "#%%\n"
    }
   }
  },
  {
   "cell_type": "code",
   "execution_count": 41,
   "outputs": [
    {
     "data": {
      "text/plain": "<Figure size 432x288 with 1 Axes>",
      "image/png": "[encoded data removed]"
     },
     "metadata": {
      "needs_background": "light"
     },
     "output_type": "display_data"
    }
   ],
   "source": [
    "bce.calibration_curve()"
   ],
   "metadata": {
    "collapsed": false,
    "pycharm": {
     "name": "#%%\n"
    }
   }
  },
  {
   "cell_type": "code",
   "execution_count": 42,
   "outputs": [
    {
     "data": {
      "text/plain": "<Figure size 412x360 with 1 Axes>",
      "image/png": "[encoded data removed]"
     },
     "metadata": {
      "needs_background": "light"
     },
     "output_type": "display_data"
    }
   ],
   "source": [
    "bce.density_chart()"
   ],
   "metadata": {
    "collapsed": false,
    "pycharm": {
     "name": "#%%\n"
    }
   }
  }
 ],
 "metadata": {
  "kernelspec": {
   "display_name": "Python 3",
   "language": "python",
   "name": "python3"
  },
  "language_info": {
   "codemirror_mode": {
    "name": "ipython",
    "version": 2
   },
   "file_extension": ".py",
   "mimetype": "text/x-python",
   "name": "python",
   "nbconvert_exporter": "python",
   "pygments_lexer": "ipython2",
   "version": "2.7.6"
  }
 },
 "nbformat": 4,
 "nbformat_minor": 0
}