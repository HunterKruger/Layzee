{
 "cells": [
  {
   "cell_type": "code",
   "execution_count": 1,
   "metadata": {
    "collapsed": true
   },
   "outputs": [],
   "source": [
    "from feature_handling import FeatureHandling as FH\n",
    "from dataframe_observer import DataframeObserver as DO\n",
    "import pandas as pd\n",
    "import numpy as np\n",
    "\n",
    "pd.set_option('display.max_rows', 100)\n",
    "pd.set_option('display.max_columns', 100)"
   ]
  },
  {
   "cell_type": "code",
   "execution_count": 2,
   "outputs": [],
   "source": [
    "df1 = pd.read_csv('california_train.csv')\n",
    "df2 = pd.read_csv('california_test.csv')"
   ],
   "metadata": {
    "collapsed": false,
    "pycharm": {
     "name": "#%%\n"
    }
   }
  },
  {
   "cell_type": "code",
   "execution_count": 3,
   "outputs": [
    {
     "name": "stdout",
     "output_type": "stream",
     "text": [
      "------------------\n",
      "1460 rows, 81 columns.\n",
      "------------------\n",
      "                 Dtype  Count  unique   unique%  missing  missing%\n",
      "Id               int64   1460    1460  1.000000        0  0.000000\n",
      "MSSubClass       int64   1460      15  0.010274        0  0.000000\n",
      "MSZoning        object   1460       5  0.003425        0  0.000000\n",
      "LotFrontage    float64   1201     110  0.075342      259  0.177397\n",
      "LotArea          int64   1460    1073  0.734932        0  0.000000\n",
      "Street          object   1460       2  0.001370        0  0.000000\n",
      "Alley           object     91       2  0.001370     1369  0.937671\n",
      "LotShape        object   1460       4  0.002740        0  0.000000\n",
      "LandContour     object   1460       4  0.002740        0  0.000000\n",
      "Utilities       object   1460       2  0.001370        0  0.000000\n",
      "LotConfig       object   1460       5  0.003425        0  0.000000\n",
      "LandSlope       object   1460       3  0.002055        0  0.000000\n",
      "Neighborhood    object   1460      25  0.017123        0  0.000000\n",
      "Condition1      object   1460       9  0.006164        0  0.000000\n",
      "Condition2      object   1460       8  0.005479        0  0.000000\n",
      "BldgType        object   1460       5  0.003425        0  0.000000\n",
      "HouseStyle      object   1460       8  0.005479        0  0.000000\n",
      "OverallQual      int64   1460      10  0.006849        0  0.000000\n",
      "OverallCond      int64   1460       9  0.006164        0  0.000000\n",
      "YearBuilt        int64   1460     112  0.076712        0  0.000000\n",
      "YearRemodAdd     int64   1460      61  0.041781        0  0.000000\n",
      "RoofStyle       object   1460       6  0.004110        0  0.000000\n",
      "RoofMatl        object   1460       8  0.005479        0  0.000000\n",
      "Exterior1st     object   1460      15  0.010274        0  0.000000\n",
      "Exterior2nd     object   1460      16  0.010959        0  0.000000\n",
      "MasVnrType      object   1452       4  0.002740        8  0.005479\n",
      "MasVnrArea     float64   1452     327  0.223973        8  0.005479\n",
      "ExterQual       object   1460       4  0.002740        0  0.000000\n",
      "ExterCond       object   1460       5  0.003425        0  0.000000\n",
      "Foundation      object   1460       6  0.004110        0  0.000000\n",
      "BsmtQual        object   1423       4  0.002740       37  0.025342\n",
      "BsmtCond        object   1423       4  0.002740       37  0.025342\n",
      "BsmtExposure    object   1422       4  0.002740       38  0.026027\n",
      "BsmtFinType1    object   1423       6  0.004110       37  0.025342\n",
      "BsmtFinSF1       int64   1460     637  0.436301        0  0.000000\n",
      "BsmtFinType2    object   1422       6  0.004110       38  0.026027\n",
      "BsmtFinSF2       int64   1460     144  0.098630        0  0.000000\n",
      "BsmtUnfSF        int64   1460     780  0.534247        0  0.000000\n",
      "TotalBsmtSF      int64   1460     721  0.493836        0  0.000000\n",
      "Heating         object   1460       6  0.004110        0  0.000000\n",
      "HeatingQC       object   1460       5  0.003425        0  0.000000\n",
      "CentralAir      object   1460       2  0.001370        0  0.000000\n",
      "Electrical      object   1459       5  0.003425        1  0.000685\n",
      "1stFlrSF         int64   1460     753  0.515753        0  0.000000\n",
      "2ndFlrSF         int64   1460     417  0.285616        0  0.000000\n",
      "LowQualFinSF     int64   1460      24  0.016438        0  0.000000\n",
      "GrLivArea        int64   1460     861  0.589726        0  0.000000\n",
      "BsmtFullBath     int64   1460       4  0.002740        0  0.000000\n",
      "BsmtHalfBath     int64   1460       3  0.002055        0  0.000000\n",
      "FullBath         int64   1460       4  0.002740        0  0.000000\n",
      "HalfBath         int64   1460       3  0.002055        0  0.000000\n",
      "BedroomAbvGr     int64   1460       8  0.005479        0  0.000000\n",
      "KitchenAbvGr     int64   1460       4  0.002740        0  0.000000\n",
      "KitchenQual     object   1460       4  0.002740        0  0.000000\n",
      "TotRmsAbvGrd     int64   1460      12  0.008219        0  0.000000\n",
      "Functional      object   1460       7  0.004795        0  0.000000\n",
      "Fireplaces       int64   1460       4  0.002740        0  0.000000\n",
      "FireplaceQu     object    770       5  0.003425      690  0.472603\n",
      "GarageType      object   1379       6  0.004110       81  0.055479\n",
      "GarageYrBlt    float64   1379      97  0.066438       81  0.055479\n",
      "GarageFinish    object   1379       3  0.002055       81  0.055479\n",
      "GarageCars       int64   1460       5  0.003425        0  0.000000\n",
      "GarageArea       int64   1460     441  0.302055        0  0.000000\n",
      "GarageQual      object   1379       5  0.003425       81  0.055479\n",
      "GarageCond      object   1379       5  0.003425       81  0.055479\n",
      "PavedDrive      object   1460       3  0.002055        0  0.000000\n",
      "WoodDeckSF       int64   1460     274  0.187671        0  0.000000\n",
      "OpenPorchSF      int64   1460     202  0.138356        0  0.000000\n",
      "EnclosedPorch    int64   1460     120  0.082192        0  0.000000\n",
      "3SsnPorch        int64   1460      20  0.013699        0  0.000000\n",
      "ScreenPorch      int64   1460      76  0.052055        0  0.000000\n",
      "PoolArea         int64   1460       8  0.005479        0  0.000000\n",
      "PoolQC          object      7       3  0.002055     1453  0.995205\n",
      "Fence           object    281       4  0.002740     1179  0.807534\n",
      "MiscFeature     object     54       4  0.002740     1406  0.963014\n",
      "MiscVal          int64   1460      21  0.014384        0  0.000000\n",
      "MoSold           int64   1460      12  0.008219        0  0.000000\n",
      "YrSold           int64   1460       5  0.003425        0  0.000000\n",
      "SaleType        object   1460       9  0.006164        0  0.000000\n",
      "SaleCondition   object   1460       6  0.004110        0  0.000000\n",
      "SalePrice        int64   1460     663  0.454110        0  0.000000\n",
      "------------------\n"
     ]
    }
   ],
   "source": [
    "DO.read_df_info(df1)"
   ],
   "metadata": {
    "collapsed": false,
    "pycharm": {
     "name": "#%%\n"
    }
   }
  },
  {
   "cell_type": "code",
   "execution_count": 4,
   "outputs": [
    {
     "data": {
      "text/plain": "   MiscVal  3SsnPorch  OpenPorchSF GarageQual GarageCond HeatingQC LandSlope  \\\n0        0          0           61         TA         TA        Ex       Gtl   \n1        0          0            0         TA         TA        Ex       Gtl   \n2        0          0           42         TA         TA        Ex       Gtl   \n3        0          0           35         TA         TA        Gd       Gtl   \n4        0          0           84         TA         TA        Ex       Gtl   \n\n  Street  \n0   Pave  \n1   Pave  \n2   Pave  \n3   Pave  \n4   Pave  ",
      "text/html": "<div>\n<style scoped>\n    .dataframe tbody tr th:only-of-type {\n        vertical-align: middle;\n    }\n\n    .dataframe tbody tr th {\n        vertical-align: top;\n    }\n\n    .dataframe thead th {\n        text-align: right;\n    }\n</style>\n<table border=\"1\" class=\"dataframe\">\n  <thead>\n    <tr style=\"text-align: right;\">\n      <th></th>\n      <th>MiscVal</th>\n      <th>3SsnPorch</th>\n      <th>OpenPorchSF</th>\n      <th>GarageQual</th>\n      <th>GarageCond</th>\n      <th>HeatingQC</th>\n      <th>LandSlope</th>\n      <th>Street</th>\n    </tr>\n  </thead>\n  <tbody>\n    <tr>\n      <th>0</th>\n      <td>0</td>\n      <td>0</td>\n      <td>61</td>\n      <td>TA</td>\n      <td>TA</td>\n      <td>Ex</td>\n      <td>Gtl</td>\n      <td>Pave</td>\n    </tr>\n    <tr>\n      <th>1</th>\n      <td>0</td>\n      <td>0</td>\n      <td>0</td>\n      <td>TA</td>\n      <td>TA</td>\n      <td>Ex</td>\n      <td>Gtl</td>\n      <td>Pave</td>\n    </tr>\n    <tr>\n      <th>2</th>\n      <td>0</td>\n      <td>0</td>\n      <td>42</td>\n      <td>TA</td>\n      <td>TA</td>\n      <td>Ex</td>\n      <td>Gtl</td>\n      <td>Pave</td>\n    </tr>\n    <tr>\n      <th>3</th>\n      <td>0</td>\n      <td>0</td>\n      <td>35</td>\n      <td>TA</td>\n      <td>TA</td>\n      <td>Gd</td>\n      <td>Gtl</td>\n      <td>Pave</td>\n    </tr>\n    <tr>\n      <th>4</th>\n      <td>0</td>\n      <td>0</td>\n      <td>84</td>\n      <td>TA</td>\n      <td>TA</td>\n      <td>Ex</td>\n      <td>Gtl</td>\n      <td>Pave</td>\n    </tr>\n  </tbody>\n</table>\n</div>"
     },
     "execution_count": 4,
     "metadata": {},
     "output_type": "execute_result"
    }
   ],
   "source": [
    "nums = ['MiscVal','3SsnPorch','OpenPorchSF']\n",
    "ords =['GarageQual', 'GarageCond']\n",
    "cats = ['HeatingQC','LandSlope','Street']\n",
    "X = df1[nums+ords+cats]\n",
    "X.head()"
   ],
   "metadata": {
    "collapsed": false,
    "pycharm": {
     "name": "#%%\n"
    }
   }
  },
  {
   "cell_type": "code",
   "execution_count": 5,
   "outputs": [
    {
     "name": "stderr",
     "output_type": "stream",
     "text": [
      "/Users/FY/opt/anaconda3/envs/py36/lib/python3.6/site-packages/pandas/core/series.py:4536: SettingWithCopyWarning: \n",
      "A value is trying to be set on a copy of a slice from a DataFrame\n",
      "\n",
      "See the caveats in the documentation: https://pandas.pydata.org/pandas-docs/stable/user_guide/indexing.html#returning-a-view-versus-a-copy\n",
      "  downcast=downcast,\n"
     ]
    }
   ],
   "source": [
    "fh = FH(X)\n",
    "for col in cats:\n",
    "    fh.imputer(col)\n",
    "for col in nums:\n",
    "    fh.imputer(col,'median')\n",
    "X = fh.df1"
   ],
   "metadata": {
    "collapsed": false,
    "pycharm": {
     "name": "#%%\n"
    }
   }
  },
  {
   "cell_type": "code",
   "execution_count": 6,
   "outputs": [
    {
     "data": {
      "text/plain": "    MiscVal  3SsnPorch  OpenPorchSF  HeatingQC_Fa  HeatingQC_Gd  HeatingQC_Po  \\\n0 -0.087688  -0.116339     0.216503           0.0           0.0           0.0   \n1 -0.087688  -0.116339    -0.704483           0.0           0.0           0.0   \n2 -0.087688  -0.116339    -0.070361           0.0           0.0           0.0   \n3 -0.087688  -0.116339    -0.176048           0.0           1.0           0.0   \n4 -0.087688  -0.116339     0.563760           0.0           0.0           0.0   \n\n   HeatingQC_TA  LandSlope_Mod  LandSlope_Sev  Street_Pave GarageQual  \\\n0           0.0            0.0            0.0          1.0         TA   \n1           0.0            0.0            0.0          1.0         TA   \n2           0.0            0.0            0.0          1.0         TA   \n3           0.0            0.0            0.0          1.0         TA   \n4           0.0            0.0            0.0          1.0         TA   \n\n  GarageCond  \n0         TA  \n1         TA  \n2         TA  \n3         TA  \n4         TA  ",
      "text/html": "<div>\n<style scoped>\n    .dataframe tbody tr th:only-of-type {\n        vertical-align: middle;\n    }\n\n    .dataframe tbody tr th {\n        vertical-align: top;\n    }\n\n    .dataframe thead th {\n        text-align: right;\n    }\n</style>\n<table border=\"1\" class=\"dataframe\">\n  <thead>\n    <tr style=\"text-align: right;\">\n      <th></th>\n      <th>MiscVal</th>\n      <th>3SsnPorch</th>\n      <th>OpenPorchSF</th>\n      <th>HeatingQC_Fa</th>\n      <th>HeatingQC_Gd</th>\n      <th>HeatingQC_Po</th>\n      <th>HeatingQC_TA</th>\n      <th>LandSlope_Mod</th>\n      <th>LandSlope_Sev</th>\n      <th>Street_Pave</th>\n      <th>GarageQual</th>\n      <th>GarageCond</th>\n    </tr>\n  </thead>\n  <tbody>\n    <tr>\n      <th>0</th>\n      <td>-0.087688</td>\n      <td>-0.116339</td>\n      <td>0.216503</td>\n      <td>0.0</td>\n      <td>0.0</td>\n      <td>0.0</td>\n      <td>0.0</td>\n      <td>0.0</td>\n      <td>0.0</td>\n      <td>1.0</td>\n      <td>TA</td>\n      <td>TA</td>\n    </tr>\n    <tr>\n      <th>1</th>\n      <td>-0.087688</td>\n      <td>-0.116339</td>\n      <td>-0.704483</td>\n      <td>0.0</td>\n      <td>0.0</td>\n      <td>0.0</td>\n      <td>0.0</td>\n      <td>0.0</td>\n      <td>0.0</td>\n      <td>1.0</td>\n      <td>TA</td>\n      <td>TA</td>\n    </tr>\n    <tr>\n      <th>2</th>\n      <td>-0.087688</td>\n      <td>-0.116339</td>\n      <td>-0.070361</td>\n      <td>0.0</td>\n      <td>0.0</td>\n      <td>0.0</td>\n      <td>0.0</td>\n      <td>0.0</td>\n      <td>0.0</td>\n      <td>1.0</td>\n      <td>TA</td>\n      <td>TA</td>\n    </tr>\n    <tr>\n      <th>3</th>\n      <td>-0.087688</td>\n      <td>-0.116339</td>\n      <td>-0.176048</td>\n      <td>0.0</td>\n      <td>1.0</td>\n      <td>0.0</td>\n      <td>0.0</td>\n      <td>0.0</td>\n      <td>0.0</td>\n      <td>1.0</td>\n      <td>TA</td>\n      <td>TA</td>\n    </tr>\n    <tr>\n      <th>4</th>\n      <td>-0.087688</td>\n      <td>-0.116339</td>\n      <td>0.563760</td>\n      <td>0.0</td>\n      <td>0.0</td>\n      <td>0.0</td>\n      <td>0.0</td>\n      <td>0.0</td>\n      <td>0.0</td>\n      <td>1.0</td>\n      <td>TA</td>\n      <td>TA</td>\n    </tr>\n  </tbody>\n</table>\n</div>"
     },
     "execution_count": 6,
     "metadata": {},
     "output_type": "execute_result"
    }
   ],
   "source": [
    "encoded = fh.general_encoder(nums,None, cats, 'first')\n",
    "encoded.head()\n",
    "\n",
    "\n",
    "\n"
   ],
   "metadata": {
    "collapsed": false,
    "pycharm": {
     "name": "#%%\n"
    }
   }
  },
  {
   "cell_type": "code",
   "execution_count": 7,
   "outputs": [],
   "source": [
    "a = pd.DataFrame(np.array([['blue', 'jack', 3], ['red', 'jack', 6], ['yellow', 'tom', 9]]),\n",
    "                   columns=['a', 'b', 'c'])\n",
    "b = pd.DataFrame(np.array([['blue', 'tom', 3], ['green', 'alice', 6], ['yellow', 'jack', 9]]),\n",
    "                   columns=['a', 'b', 'c'])"
   ],
   "metadata": {
    "collapsed": false,
    "pycharm": {
     "name": "#%%\n"
    }
   }
  },
  {
   "cell_type": "code",
   "execution_count": 8,
   "outputs": [
    {
     "data": {
      "text/plain": "        a     b  c\n0    blue  jack  3\n1     red  jack  6\n2  yellow   tom  9",
      "text/html": "<div>\n<style scoped>\n    .dataframe tbody tr th:only-of-type {\n        vertical-align: middle;\n    }\n\n    .dataframe tbody tr th {\n        vertical-align: top;\n    }\n\n    .dataframe thead th {\n        text-align: right;\n    }\n</style>\n<table border=\"1\" class=\"dataframe\">\n  <thead>\n    <tr style=\"text-align: right;\">\n      <th></th>\n      <th>a</th>\n      <th>b</th>\n      <th>c</th>\n    </tr>\n  </thead>\n  <tbody>\n    <tr>\n      <th>0</th>\n      <td>blue</td>\n      <td>jack</td>\n      <td>3</td>\n    </tr>\n    <tr>\n      <th>1</th>\n      <td>red</td>\n      <td>jack</td>\n      <td>6</td>\n    </tr>\n    <tr>\n      <th>2</th>\n      <td>yellow</td>\n      <td>tom</td>\n      <td>9</td>\n    </tr>\n  </tbody>\n</table>\n</div>"
     },
     "execution_count": 8,
     "metadata": {},
     "output_type": "execute_result"
    }
   ],
   "source": [
    "a\n"
   ],
   "metadata": {
    "collapsed": false,
    "pycharm": {
     "name": "#%%\n"
    }
   }
  },
  {
   "cell_type": "code",
   "execution_count": 9,
   "outputs": [
    {
     "data": {
      "text/plain": "        a      b  c\n0    blue    tom  3\n1   green  alice  6\n2  yellow   jack  9",
      "text/html": "<div>\n<style scoped>\n    .dataframe tbody tr th:only-of-type {\n        vertical-align: middle;\n    }\n\n    .dataframe tbody tr th {\n        vertical-align: top;\n    }\n\n    .dataframe thead th {\n        text-align: right;\n    }\n</style>\n<table border=\"1\" class=\"dataframe\">\n  <thead>\n    <tr style=\"text-align: right;\">\n      <th></th>\n      <th>a</th>\n      <th>b</th>\n      <th>c</th>\n    </tr>\n  </thead>\n  <tbody>\n    <tr>\n      <th>0</th>\n      <td>blue</td>\n      <td>tom</td>\n      <td>3</td>\n    </tr>\n    <tr>\n      <th>1</th>\n      <td>green</td>\n      <td>alice</td>\n      <td>6</td>\n    </tr>\n    <tr>\n      <th>2</th>\n      <td>yellow</td>\n      <td>jack</td>\n      <td>9</td>\n    </tr>\n  </tbody>\n</table>\n</div>"
     },
     "execution_count": 9,
     "metadata": {},
     "output_type": "execute_result"
    }
   ],
   "source": [
    "b"
   ],
   "metadata": {
    "collapsed": false,
    "pycharm": {
     "name": "#%%\n"
    }
   }
  },
  {
   "cell_type": "code",
   "execution_count": 10,
   "outputs": [],
   "source": [
    "from sklearn.preprocessing import OneHotEncoder\n",
    "ohe = OneHotEncoder(handle_unknown = 'ignore')\n",
    "a_oh = ohe.fit_transform(a[['a','b']]).toarray()\n",
    "b_oh = ohe.transform(b[['a','b']]).toarray()"
   ],
   "metadata": {
    "collapsed": false,
    "pycharm": {
     "name": "#%%\n"
    }
   }
  },
  {
   "cell_type": "code",
   "execution_count": 11,
   "outputs": [
    {
     "data": {
      "text/plain": "['a_blue', 'a_red', 'a_yellow', 'b_jack', 'b_tom']"
     },
     "execution_count": 11,
     "metadata": {},
     "output_type": "execute_result"
    }
   ],
   "source": [
    "new_feats = ohe.get_feature_names(['a', 'b'])\n",
    "new_feats.tolist()\n"
   ],
   "metadata": {
    "collapsed": false,
    "pycharm": {
     "name": "#%%\n"
    }
   }
  },
  {
   "cell_type": "code",
   "execution_count": 12,
   "outputs": [],
   "source": [
    "a_ecd = pd.DataFrame(a_oh,columns=new_feats)\n",
    "b_ecd = pd.DataFrame(b_oh,columns=new_feats)\n"
   ],
   "metadata": {
    "collapsed": false,
    "pycharm": {
     "name": "#%%\n"
    }
   }
  },
  {
   "cell_type": "code",
   "execution_count": 13,
   "outputs": [
    {
     "data": {
      "text/plain": "   a_blue  a_red  a_yellow  b_jack  b_tom\n0     1.0    0.0       0.0     0.0    1.0\n1     0.0    0.0       0.0     0.0    0.0\n2     0.0    0.0       1.0     1.0    0.0",
      "text/html": "<div>\n<style scoped>\n    .dataframe tbody tr th:only-of-type {\n        vertical-align: middle;\n    }\n\n    .dataframe tbody tr th {\n        vertical-align: top;\n    }\n\n    .dataframe thead th {\n        text-align: right;\n    }\n</style>\n<table border=\"1\" class=\"dataframe\">\n  <thead>\n    <tr style=\"text-align: right;\">\n      <th></th>\n      <th>a_blue</th>\n      <th>a_red</th>\n      <th>a_yellow</th>\n      <th>b_jack</th>\n      <th>b_tom</th>\n    </tr>\n  </thead>\n  <tbody>\n    <tr>\n      <th>0</th>\n      <td>1.0</td>\n      <td>0.0</td>\n      <td>0.0</td>\n      <td>0.0</td>\n      <td>1.0</td>\n    </tr>\n    <tr>\n      <th>1</th>\n      <td>0.0</td>\n      <td>0.0</td>\n      <td>0.0</td>\n      <td>0.0</td>\n      <td>0.0</td>\n    </tr>\n    <tr>\n      <th>2</th>\n      <td>0.0</td>\n      <td>0.0</td>\n      <td>1.0</td>\n      <td>1.0</td>\n      <td>0.0</td>\n    </tr>\n  </tbody>\n</table>\n</div>"
     },
     "execution_count": 13,
     "metadata": {},
     "output_type": "execute_result"
    }
   ],
   "source": [
    "\n",
    "b_ecd"
   ],
   "metadata": {
    "collapsed": false,
    "pycharm": {
     "name": "#%%\n"
    }
   }
  },
  {
   "cell_type": "code",
   "execution_count": 13,
   "outputs": [],
   "source": [],
   "metadata": {
    "collapsed": false,
    "pycharm": {
     "name": "#%%\n"
    }
   }
  }
 ],
 "metadata": {
  "kernelspec": {
   "name": "python3",
   "language": "python",
   "display_name": "Python 3"
  },
  "language_info": {
   "codemirror_mode": {
    "name": "ipython",
    "version": 2
   },
   "file_extension": ".py",
   "mimetype": "text/x-python",
   "name": "python",
   "nbconvert_exporter": "python",
   "pygments_lexer": "ipython2",
   "version": "2.7.6"
  }
 },
 "nbformat": 4,
 "nbformat_minor": 0
}