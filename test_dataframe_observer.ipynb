{
 "cells": [
  {
   "cell_type": "code",
   "execution_count": 5,
   "metadata": {
    "pycharm": {
     "name": "#%%\n"
    }
   },
   "outputs": [
    {
     "name": "stdout",
     "output_type": "stream",
     "text": [
      "------------------\n",
      "<class 'pandas.core.frame.DataFrame'>\n",
      "RangeIndex: 846 entries, 0 to 845\n",
      "Data columns (total 12 columns):\n",
      " #   Column       Non-Null Count  Dtype  \n",
      "---  ------       --------------  -----  \n",
      " 0   PassengerId  846 non-null    int64  \n",
      " 1   Pclass       846 non-null    int64  \n",
      " 2   Name         846 non-null    object \n",
      " 3   Sex          846 non-null    object \n",
      " 4   Age          676 non-null    float64\n",
      " 5   SibSp        846 non-null    int64  \n",
      " 6   Parch        846 non-null    int64  \n",
      " 7   Ticket       846 non-null    object \n",
      " 8   Fare         846 non-null    float64\n",
      " 9   Cabin        192 non-null    object \n",
      " 10  Embarked     844 non-null    object \n",
      " 11  Survived     846 non-null    int64  \n",
      "dtypes: float64(2), int64(5), object(5)\n",
      "memory usage: 79.4+ KB\n",
      "None\n",
      "------------------\n",
      "Missing & Unique\n",
      "             unique   unique%  missing  missing%\n",
      "PassengerId     846  1.000000        0  0.000000\n",
      "Pclass            3  0.003546        0  0.000000\n",
      "Name            846  1.000000        0  0.000000\n",
      "Sex               2  0.002364        0  0.000000\n",
      "Age              86  0.101655      170  0.200946\n",
      "SibSp             7  0.008274        0  0.000000\n",
      "Parch             7  0.008274        0  0.000000\n",
      "Ticket          652  0.770686        0  0.000000\n",
      "Fare            243  0.287234        0  0.000000\n",
      "Cabin           143  0.169031      654  0.773050\n",
      "Embarked          3  0.003546        2  0.002364\n",
      "Survived          2  0.002364        0  0.000000\n",
      "------------------\n"
     ]
    }
   ],
   "source": [
    "import numpy as np\n",
    "from dataframe_observer import DataframeObserver as DO\n",
    "import pandas as pd\n",
    "df = pd.read_csv('titanic.csv')\n",
    "DO.read_df_info(df)"
   ]
  },
  {
   "cell_type": "code",
   "execution_count": 7,
   "outputs": [
    {
     "name": "stdout",
     "output_type": "stream",
     "text": [
      "-------------------------------------\n",
      "Type: object\n",
      "Rows: 846\n",
      "Distinct: 143\n",
      "Missing: 654\n",
      "Missing%: 0.7730496453900709\n",
      "-------------------------------------\n",
      "Top 4 values:\n",
      "         Cabin  Count         %     Cum.%\n",
      "0           G6      4  0.020833  0.020833\n",
      "1      B96 B98      4  0.020833  0.041667\n",
      "2  C23 C25 C27      4  0.020833  0.062500\n",
      "3      C22 C26      3  0.015625  0.078125\n",
      "-------------------------------------\n"
     ]
    },
    {
     "data": {
      "text/plain": "<Figure size 288x216 with 1 Axes>",
      "image/png": "[encoded data removed]"
     },
     "metadata": {
      "needs_background": "light"
     },
     "output_type": "display_data"
    }
   ],
   "source": [
    "DO.describe_cat_col(df,'Cabin',4, 4,3)"
   ],
   "metadata": {
    "collapsed": false,
    "pycharm": {
     "name": "#%%\n"
    }
   }
  },
  {
   "cell_type": "code",
   "execution_count": 11,
   "outputs": [
    {
     "name": "stdout",
     "output_type": "stream",
     "text": [
      "-------------------------------------\n",
      "Type: float64\n",
      "Rows: 846\n",
      "Min: 0.42\n",
      "Max: 80.0\n",
      "Mean: 29.841967455621297\n",
      "Median: 28.75\n",
      "Mode: 24.0\n",
      "StdDev: 14.656177657588323\n",
      "Distinct: 86\n",
      "Sum: 20173.17\n",
      "Missing: 170\n",
      "Missing%: 0.20094562647754138\n",
      "Skewness: 0.38742053085659794\n",
      "Kurtosis: 0.15202630687276653\n",
      "25%: 20.0\n",
      "75%: 39.0\n",
      "IQR: 19.0\n",
      "Down: -8.5\n",
      "Up: 67.5\n",
      "-------------------------------------\n"
     ]
    },
    {
     "data": {
      "text/plain": "<Figure size 432x288 with 2 Axes>",
      "image/png": "[encoded data removed]"
     },
     "metadata": {
      "needs_background": "light"
     },
     "output_type": "display_data"
    }
   ],
   "source": [
    "DO.describe_num_col(df,'Age')"
   ],
   "metadata": {
    "collapsed": false,
    "pycharm": {
     "name": "#%%\n"
    }
   }
  },
  {
   "cell_type": "code",
   "execution_count": null,
   "outputs": [],
   "source": [],
   "metadata": {
    "collapsed": false,
    "pycharm": {
     "name": "#%%\n"
    }
   }
  }
 ],
 "metadata": {
  "kernelspec": {
   "display_name": "py36",
   "language": "python",
   "name": "py36"
  },
  "language_info": {
   "codemirror_mode": {
    "name": "ipython",
    "version": 3
   },
   "file_extension": ".py",
   "mimetype": "text/x-python",
   "name": "python",
   "nbconvert_exporter": "python",
   "pygments_lexer": "ipython3",
   "version": "3.6.12"
  }
 },
 "nbformat": 4,
 "nbformat_minor": 5
}