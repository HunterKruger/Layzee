{
 "cells": [
  {
   "cell_type": "code",
   "execution_count": 1,
   "outputs": [
    {
     "name": "stdout",
     "output_type": "stream",
     "text": [
      "------------------\n",
      "846 rows, 12 columns.\n",
      "------------------\n",
      "               Dtype  Count  unique   unique%  missing  missing%\n",
      "PassengerId    int64    846     846  1.000000        0  0.000000\n",
      "Pclass         int64    846       3  0.003546        0  0.000000\n",
      "Name          object    846     846  1.000000        0  0.000000\n",
      "Sex           object    846       2  0.002364        0  0.000000\n",
      "Age          float64    676      86  0.101655      170  0.200946\n",
      "SibSp          int64    846       7  0.008274        0  0.000000\n",
      "Parch          int64    846       7  0.008274        0  0.000000\n",
      "Ticket        object    846     652  0.770686        0  0.000000\n",
      "Fare         float64    846     243  0.287234        0  0.000000\n",
      "Cabin         object    192     143  0.169031      654  0.773050\n",
      "Embarked      object    844       3  0.003546        2  0.002364\n",
      "Survived       int64    846       2  0.002364        0  0.000000\n",
      "------------------\n"
     ]
    }
   ],
   "source": [
    "import pandas as pd\n",
    "from feature_handling import FeatureHandling2 as FH\n",
    "from splitter_sampler import SplitterSampler as SS\n",
    "from dataframe_observer import DataframeObserver as DO\n",
    "from modeling import Modeling\n",
    "from evaluation import BinClsEvaluation\n",
    "\n",
    "titanic = pd.read_csv('../data/titanic.csv')\n",
    "DO.read_df_info(titanic)"
   ],
   "metadata": {
    "collapsed": false,
    "pycharm": {
     "name": "#%%\n"
    }
   }
  },
  {
   "cell_type": "code",
   "execution_count": 2,
   "outputs": [
    {
     "name": "stdout",
     "output_type": "stream",
     "text": [
      "------------------\n",
      "846 rows, 8 columns.\n",
      "------------------\n",
      "            Dtype  Count  unique   unique%  missing  missing%\n",
      "Pclass      int64    846       3  0.003546        0  0.000000\n",
      "Sex        object    846       2  0.002364        0  0.000000\n",
      "Fare      float64    846     243  0.287234        0  0.000000\n",
      "Age       float64    676      86  0.101655      170  0.200946\n",
      "SibSp       int64    846       7  0.008274        0  0.000000\n",
      "Parch       int64    846       7  0.008274        0  0.000000\n",
      "Embarked   object    844       3  0.003546        2  0.002364\n",
      "Survived    int64    846       2  0.002364        0  0.000000\n",
      "------------------\n"
     ]
    }
   ],
   "source": [
    "titanic = titanic[['Pclass','Sex','Fare','Age','SibSp',\n",
    "                    'Parch','Embarked','Survived']]\n",
    "DO.read_df_info(titanic)"
   ],
   "metadata": {
    "collapsed": false,
    "pycharm": {
     "name": "#%%\n"
    }
   }
  },
  {
   "cell_type": "code",
   "execution_count": 3,
   "outputs": [
    {
     "name": "stdout",
     "output_type": "stream",
     "text": [
      "-------------------------------------\n",
      "Type: int64\n",
      "Rows: 846\n",
      "Distinct: 2\n",
      "Missing: 0\n",
      "Missing%: 0.0\n",
      "-------------------------------------\n",
      "Top 2 values:\n",
      "   Survived  Count         %     Cum.%\n",
      "0         0    527  0.622931  0.622931\n",
      "1         1    319  0.377069  1.000000\n",
      "-------------------------------------\n"
     ]
    },
    {
     "data": {
      "text/plain": "<Figure size 576x432 with 1 Axes>",
      "image/png": "[encoded data removed]"
     },
     "metadata": {
      "needs_background": "light"
     },
     "output_type": "display_data"
    }
   ],
   "source": [
    "DO.describe_cat_col(titanic,'Survived')"
   ],
   "metadata": {
    "collapsed": false,
    "pycharm": {
     "name": "#%%\n"
    }
   }
  },
  {
   "cell_type": "code",
   "execution_count": 4,
   "outputs": [
    {
     "data": {
      "text/plain": "((676, 8), (170, 8))"
     },
     "execution_count": 4,
     "metadata": {},
     "output_type": "execute_result"
    }
   ],
   "source": [
    "train,test = SS.split_df(titanic)\n",
    "train.shape, test.shape"
   ],
   "metadata": {
    "collapsed": false,
    "pycharm": {
     "name": "#%%\n"
    }
   }
  },
  {
   "cell_type": "code",
   "execution_count": 5,
   "outputs": [
    {
     "name": "stdout",
     "output_type": "stream",
     "text": [
      "------------------\n",
      "676 rows, 8 columns.\n",
      "------------------\n",
      "            Dtype  Count  unique   unique%  missing  missing%\n",
      "Pclass      int64    676       3  0.004438        0  0.000000\n",
      "Sex        object    676       2  0.002959        0  0.000000\n",
      "Fare      float64    676     221  0.326923        0  0.000000\n",
      "Age       float64    537      83  0.122781      139  0.205621\n",
      "SibSp       int64    676       7  0.010355        0  0.000000\n",
      "Parch       int64    676       6  0.008876        0  0.000000\n",
      "Embarked   object    675       3  0.004438        1  0.001479\n",
      "Survived    int64    676       2  0.002959        0  0.000000\n",
      "------------------\n"
     ]
    }
   ],
   "source": [
    "DO.read_df_info(train)"
   ],
   "metadata": {
    "collapsed": false,
    "pycharm": {
     "name": "#%%\n"
    }
   }
  },
  {
   "cell_type": "code",
   "execution_count": 6,
   "outputs": [
    {
     "name": "stdout",
     "output_type": "stream",
     "text": [
      "-------------------------------------------------\n",
      "['Age', 'Embarked']\n",
      "0-0    536\n",
      "1-0    139\n",
      "0-1      1\n",
      "dtype: int64\n"
     ]
    },
    {
     "data": {
      "text/plain": "<Figure size 432x288 with 1 Axes>",
      "image/png": "[encoded data removed]"
     },
     "metadata": {
      "needs_background": "light"
     },
     "output_type": "display_data"
    }
   ],
   "source": [
    "fh = FH(train, test)\n",
    "DO.missing_pattern(train.drop(['Survived'],axis=1),only_missing_col=True)"
   ],
   "metadata": {
    "collapsed": false,
    "pycharm": {
     "name": "#%%\n"
    }
   }
  },
  {
   "cell_type": "code",
   "execution_count": 7,
   "outputs": [],
   "source": [
    "fh.imputer('Age','median')\n",
    "fh.imputer('Embarked','mode')\n",
    "train_ed,test_ed=fh.general_encoder(['Fare','Age'],None,['Pclass','Sex','SibSp','Parch','Embarked'])"
   ],
   "metadata": {
    "collapsed": false,
    "pycharm": {
     "name": "#%%\n"
    }
   }
  },
  {
   "cell_type": "code",
   "execution_count": 8,
   "outputs": [
    {
     "name": "stdout",
     "output_type": "stream",
     "text": [
      "------------------\n",
      "676 rows, 24 columns.\n",
      "------------------\n",
      "              Dtype  Count  unique   unique%  missing  missing%\n",
      "Fare        float64    676     221  0.326923        0       0.0\n",
      "Age         float64    676      83  0.122781        0       0.0\n",
      "Pclass_1    float64    676       2  0.002959        0       0.0\n",
      "Pclass_2    float64    676       2  0.002959        0       0.0\n",
      "Pclass_3    float64    676       2  0.002959        0       0.0\n",
      "Sex_female  float64    676       2  0.002959        0       0.0\n",
      "Sex_male    float64    676       2  0.002959        0       0.0\n",
      "SibSp_0     float64    676       2  0.002959        0       0.0\n",
      "SibSp_1     float64    676       2  0.002959        0       0.0\n",
      "SibSp_2     float64    676       2  0.002959        0       0.0\n",
      "SibSp_3     float64    676       2  0.002959        0       0.0\n",
      "SibSp_4     float64    676       2  0.002959        0       0.0\n",
      "SibSp_5     float64    676       2  0.002959        0       0.0\n",
      "SibSp_8     float64    676       2  0.002959        0       0.0\n",
      "Parch_0     float64    676       2  0.002959        0       0.0\n",
      "Parch_1     float64    676       2  0.002959        0       0.0\n",
      "Parch_2     float64    676       2  0.002959        0       0.0\n",
      "Parch_3     float64    676       2  0.002959        0       0.0\n",
      "Parch_4     float64    676       2  0.002959        0       0.0\n",
      "Parch_5     float64    676       2  0.002959        0       0.0\n",
      "Embarked_C  float64    676       2  0.002959        0       0.0\n",
      "Embarked_Q  float64    676       2  0.002959        0       0.0\n",
      "Embarked_S  float64    676       2  0.002959        0       0.0\n",
      "Survived      int64    676       2  0.002959        0       0.0\n",
      "------------------\n",
      "------------------\n",
      "170 rows, 24 columns.\n",
      "------------------\n",
      "              Dtype  Count  unique   unique%  missing  missing%\n",
      "Fare        float64    170      97  0.570588        0       0.0\n",
      "Age         float64    170      53  0.311765        0       0.0\n",
      "Pclass_1    float64    170       2  0.011765        0       0.0\n",
      "Pclass_2    float64    170       2  0.011765        0       0.0\n",
      "Pclass_3    float64    170       2  0.011765        0       0.0\n",
      "Sex_female  float64    170       2  0.011765        0       0.0\n",
      "Sex_male    float64    170       2  0.011765        0       0.0\n",
      "SibSp_0     float64    170       2  0.011765        0       0.0\n",
      "SibSp_1     float64    170       2  0.011765        0       0.0\n",
      "SibSp_2     float64    170       2  0.011765        0       0.0\n",
      "SibSp_3     float64    170       2  0.011765        0       0.0\n",
      "SibSp_4     float64    170       2  0.011765        0       0.0\n",
      "SibSp_5     float64    170       2  0.011765        0       0.0\n",
      "SibSp_8     float64    170       2  0.011765        0       0.0\n",
      "Parch_0     float64    170       2  0.011765        0       0.0\n",
      "Parch_1     float64    170       2  0.011765        0       0.0\n",
      "Parch_2     float64    170       2  0.011765        0       0.0\n",
      "Parch_3     float64    170       1  0.005882        0       0.0\n",
      "Parch_4     float64    170       1  0.005882        0       0.0\n",
      "Parch_5     float64    170       2  0.011765        0       0.0\n",
      "Embarked_C  float64    170       2  0.011765        0       0.0\n",
      "Embarked_Q  float64    170       2  0.011765        0       0.0\n",
      "Embarked_S  float64    170       2  0.011765        0       0.0\n",
      "Survived      int64    170       2  0.011765        0       0.0\n",
      "------------------\n"
     ]
    }
   ],
   "source": [
    "DO.read_df_info(train_ed)\n",
    "DO.read_df_info(test_ed)"
   ],
   "metadata": {
    "collapsed": false,
    "pycharm": {
     "name": "#%%\n"
    }
   }
  },
  {
   "cell_type": "code",
   "execution_count": 9,
   "outputs": [
    {
     "data": {
      "text/plain": "((676, 23), (170, 23), (676,), (170,))"
     },
     "execution_count": 9,
     "metadata": {},
     "output_type": "execute_result"
    }
   ],
   "source": [
    "X_train, X_test, y_train, y_test= SS.split_train_test(train_ed,test_ed,'Survived')\n",
    "X_train.shape, X_test.shape, y_train.shape, y_test.shape"
   ],
   "metadata": {
    "collapsed": false,
    "pycharm": {
     "name": "#%%\n"
    }
   }
  },
  {
   "cell_type": "code",
   "execution_count": 10,
   "outputs": [
    {
     "name": "stdout",
     "output_type": "stream",
     "text": [
      "['Fare', 'Age', 'Pclass_1', 'Pclass_2', 'Pclass_3', 'Sex_female', 'Sex_male', 'SibSp_0', 'SibSp_1', 'SibSp_2', 'SibSp_3', 'SibSp_4', 'SibSp_5', 'SibSp_8', 'Parch_0', 'Parch_1', 'Parch_2', 'Parch_3', 'Parch_4', 'Parch_5', 'Embarked_C', 'Embarked_Q', 'Embarked_S']\n",
      "['Fare', 'Age', 'Pclass_1', 'Pclass_2', 'Pclass_3', 'Sex_female', 'Sex_male', 'SibSp_0', 'SibSp_1', 'SibSp_2', 'SibSp_3', 'SibSp_4', 'SibSp_5', 'SibSp_8', 'Parch_0', 'Parch_1', 'Parch_2', 'Parch_3', 'Parch_4', 'Parch_5', 'Embarked_C', 'Embarked_Q', 'Embarked_S']\n"
     ]
    }
   ],
   "source": [
    "print(X_train.columns.tolist())\n",
    "print(X_test.columns.tolist())"
   ],
   "metadata": {
    "collapsed": false,
    "pycharm": {
     "name": "#%%\n"
    }
   }
  },
  {
   "cell_type": "code",
   "source": [
    "md = Modeling(X_train, X_test, y_train, y_test, task='bin', metric='accuracy', random_state=1234)\n",
    "y_score, best_model, best_score, best_param = \\\n",
    "    md.modeling(\n",
    "        model='lr',\n",
    "        class_weight='balanced',\n",
    "        hp={'penalty':['l2','l1'],\n",
    "            'C':[0.01,0.1,1,10,100],\n",
    "            'solver':['saga']\n",
    "            }\n",
    "    )"
   ],
   "metadata": {
    "collapsed": false,
    "pycharm": {
     "name": "#%%\n"
    }
   },
   "execution_count": 11,
   "outputs": []
  },
  {
   "cell_type": "code",
   "execution_count": 12,
   "outputs": [
    {
     "name": "stderr",
     "output_type": "stream",
     "text": [
      "/Users/FY/opt/anaconda3/envs/py36/lib/python3.6/site-packages/sklearn/metrics/_classification.py:1245: UndefinedMetricWarning: Precision is ill-defined and being set to 0.0 due to no predicted samples. Use `zero_division` parameter to control this behavior.\n",
      "  _warn_prf(average, modifier, msg_start, len(result))\n",
      "/Users/FY/opt/anaconda3/envs/py36/lib/python3.6/site-packages/sklearn/metrics/_classification.py:1245: UndefinedMetricWarning: Precision is ill-defined and being set to 0.0 due to no predicted samples. Use `zero_division` parameter to control this behavior.\n",
      "  _warn_prf(average, modifier, msg_start, len(result))\n",
      "/Users/FY/opt/anaconda3/envs/py36/lib/python3.6/site-packages/sklearn/metrics/_classification.py:1245: UndefinedMetricWarning: Precision is ill-defined and being set to 0.0 due to no predicted samples. Use `zero_division` parameter to control this behavior.\n",
      "  _warn_prf(average, modifier, msg_start, len(result))\n"
     ]
    },
    {
     "name": "stdout",
     "output_type": "stream",
     "text": [
      "intercept=0.33552385561369286\n"
     ]
    },
    {
     "data": {
      "text/plain": "<Figure size 432x288 with 1 Axes>",
      "image/png": "[encoded data removed]"
     },
     "metadata": {
      "needs_background": "light"
     },
     "output_type": "display_data"
    }
   ],
   "source": [
    "bce = BinClsEvaluation(y_score,y_test)\n",
    "bce.coefficients_intercept(best_model,X_train.columns.tolist())"
   ],
   "metadata": {
    "collapsed": false,
    "pycharm": {
     "name": "#%%\n"
    }
   }
  },
  {
   "cell_type": "code",
   "execution_count": 12,
   "outputs": [],
   "source": [],
   "metadata": {
    "collapsed": false,
    "pycharm": {
     "name": "#%%\n"
    }
   }
  },
  {
   "cell_type": "code",
   "execution_count": 13,
   "outputs": [
    {
     "data": {
      "text/plain": "0.33552385561369286"
     },
     "execution_count": 13,
     "metadata": {},
     "output_type": "execute_result"
    }
   ],
   "source": [
    "best_model.intercept_[0]"
   ],
   "metadata": {
    "collapsed": false,
    "pycharm": {
     "name": "#%%\n"
    }
   }
  },
  {
   "cell_type": "code",
   "execution_count": 14,
   "outputs": [
    {
     "data": {
      "text/plain": "<AxesSubplot:>"
     },
     "execution_count": 14,
     "metadata": {},
     "output_type": "execute_result"
    },
    {
     "data": {
      "text/plain": "<Figure size 432x288 with 1 Axes>",
      "image/png": "[encoded data removed]"
     },
     "metadata": {
      "needs_background": "light"
     },
     "output_type": "display_data"
    }
   ],
   "source": [
    "import seaborn as sns\n",
    "pack = sorted(zip(X_train.columns.tolist(),best_model.coef_.tolist()[0]), key=lambda tup: tup[1], reverse=True)\n",
    "data, idx = zip(*pack)\n",
    "ss = pd.Series(data=data, index=idx)\n",
    "sns.barplot(x=ss.index,y=ss.values, orient='h')"
   ],
   "metadata": {
    "collapsed": false,
    "pycharm": {
     "name": "#%%\n"
    }
   }
  },
  {
   "cell_type": "code",
   "execution_count": 15,
   "outputs": [
    {
     "data": {
      "text/plain": "('Sex_female',\n 'Pclass_1',\n 'SibSp_1',\n 'Parch_1',\n 'SibSp_0',\n 'Embarked_C',\n 'Fare',\n 'Embarked_Q',\n 'Pclass_2',\n 'SibSp_2',\n 'Parch_3',\n 'Parch_5',\n 'Parch_0',\n 'SibSp_8',\n 'SibSp_5',\n 'Parch_2',\n 'Parch_4',\n 'SibSp_3',\n 'SibSp_4',\n 'Embarked_S',\n 'Age',\n 'Pclass_3',\n 'Sex_male')"
     },
     "execution_count": 15,
     "metadata": {},
     "output_type": "execute_result"
    }
   ],
   "source": [
    "data"
   ],
   "metadata": {
    "collapsed": false,
    "pycharm": {
     "name": "#%%\n"
    }
   }
  },
  {
   "cell_type": "code",
   "execution_count": 16,
   "outputs": [
    {
     "data": {
      "text/plain": "array([0.33532099, 0.35350037, 0.77599922, 0.20309933, 0.91886683,\n       0.7625749 , 0.66576457, 0.48637243, 0.50897013, 0.82933417,\n       0.92764342, 0.76438031, 0.36349241, 0.13992282, 0.1553025 ,\n       0.3071213 , 0.19302666, 0.39005521, 0.26482445, 0.23148142,\n       0.41612804, 0.23102971, 0.55332448, 0.75570192, 0.16267103,\n       0.16513283, 0.86106286, 0.43665759, 0.82187274, 0.12810127,\n       0.58957857, 0.56397524, 0.1069062 , 0.16168883, 0.17668728,\n       0.3331718 , 0.8920512 , 0.20095936, 0.31579599, 0.38046579,\n       0.22805119, 0.72634378, 0.35101322, 0.14633531, 0.7949879 ,\n       0.42583917, 0.86545001, 0.31262475, 0.30719196, 0.11781169,\n       0.89473854, 0.90239046, 0.95209091, 0.18842387, 0.22275685,\n       0.20025529, 0.92215692, 0.15256475, 0.47164114, 0.23147958,\n       0.14610236, 0.13946848, 0.17756589, 0.25025509, 0.4509351 ,\n       0.47405933, 0.20909374, 0.19226451, 0.6220452 , 0.7067737 ,\n       0.80228682, 0.40296724, 0.23147958, 0.77870028, 0.59149416,\n       0.39611558, 0.19439519, 0.89278599, 0.48037602, 0.16272272,\n       0.70944611, 0.13262667, 0.68961656, 0.31570278, 0.14606528,\n       0.26271449, 0.27494071, 0.12810127, 0.75624299, 0.16267103,\n       0.93224294, 0.16549022, 0.10052681, 0.73638734, 0.87040866,\n       0.1929096 , 0.16616092, 0.3067383 , 0.68961656, 0.16612683,\n       0.80410725, 0.8185986 , 0.39735305, 0.16265709, 0.42987584,\n       0.54184551, 0.85903607, 0.51654573, 0.21777233, 0.85830005,\n       0.11205055, 0.56217235, 0.21776709, 0.19321025, 0.26482445,\n       0.94423848, 0.39313299, 0.13117217, 0.17651833, 0.87890771,\n       0.21777233, 0.32056805, 0.73193905, 0.28364952, 0.25386556,\n       0.1597696 , 0.11460308, 0.23213131, 0.47013293, 0.75172046,\n       0.28593171, 0.16267103, 0.15976408, 0.37314954, 0.22302898,\n       0.5208578 , 0.19195741, 0.66562984, 0.5419059 , 0.14930017,\n       0.16267103, 0.59759012, 0.16274367, 0.68360584, 0.65606541,\n       0.15688517, 0.71214287, 0.74685747, 0.77448372, 0.14930929,\n       0.66647221, 0.16267103, 0.76391807, 0.17962223, 0.31464542,\n       0.76548635, 0.53627919, 0.68513584, 0.82556138, 0.66631949,\n       0.47862128, 0.56397524, 0.19616125, 0.4765598 , 0.59619016,\n       0.64482744, 0.28423943, 0.19164686, 0.19278884, 0.18812305])"
     },
     "execution_count": 16,
     "metadata": {},
     "output_type": "execute_result"
    }
   ],
   "source": [
    "y_score"
   ],
   "metadata": {
    "collapsed": false,
    "pycharm": {
     "name": "#%%\n"
    }
   }
  },
  {
   "cell_type": "code",
   "execution_count": null,
   "outputs": [],
   "source": [],
   "metadata": {
    "collapsed": false,
    "pycharm": {
     "name": "#%%\n"
    }
   }
  }
 ],
 "metadata": {
  "kernelspec": {
   "display_name": "Python 3",
   "language": "python",
   "name": "python3"
  },
  "language_info": {
   "codemirror_mode": {
    "name": "ipython",
    "version": 2
   },
   "file_extension": ".py",
   "mimetype": "text/x-python",
   "name": "python",
   "nbconvert_exporter": "python",
   "pygments_lexer": "ipython2",
   "version": "2.7.6"
  }
 },
 "nbformat": 4,
 "nbformat_minor": 0
}