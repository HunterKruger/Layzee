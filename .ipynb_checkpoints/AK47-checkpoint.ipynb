{
 "cells": [
  {
   "cell_type": "code",
   "execution_count": 1,
   "metadata": {},
   "outputs": [],
   "source": [
    "# data science tool library \n",
    "# developed by Yuan"
   ]
  },
  {
   "cell_type": "code",
   "execution_count": 46,
   "metadata": {},
   "outputs": [],
   "source": [
    "import pandas as pd \n",
    "import numpy as np\n",
    "import seaborn as sns\n",
    "from matplotlib import pyplot as plt\n",
    "from sklearn.model_selection import train_test_split\n",
    "from sklearn.preprocessing import StandardScaler\n",
    "from sklearn.feature_extraction import DictVectorizer\n",
    "\n",
    "from sklearn.model_selection import cross_val_score \n",
    "from sklearn.model_selection import GridSearchCV,RandomizedSearchCV\n",
    "\n",
    "from sklearn.metrics import classification_report\n",
    "from sklearn.metrics import confusion_matrix\n",
    "from sklearn.metrics import roc_auc_score\n",
    "from sklearn.metrics import accuracy_score\n",
    "\n",
    "from xgboost import XGBClassifier as XGBC\n",
    "from sklearn.ensemble import RandomForestClassifier as RF\n",
    "from sklearn.neighbors import KNeighborsClassifier as KNN\n",
    "from sklearn.linear_model import LogisticRegression as LR\n",
    "\n",
    "%matplotlib inline"
   ]
  },
  {
   "cell_type": "code",
   "execution_count": 101,
   "metadata": {},
   "outputs": [],
   "source": [
    "df = pd.read_csv('train 2.csv')"
   ]
  },
  {
   "cell_type": "code",
   "execution_count": 3,
   "metadata": {
    "collapsed": true,
    "jupyter": {
     "outputs_hidden": true
    }
   },
   "outputs": [
    {
     "name": "stdout",
     "output_type": "stream",
     "text": [
      "------------------\n",
      "<class 'pandas.core.frame.DataFrame'>\n",
      "RangeIndex: 891 entries, 0 to 890\n",
      "Data columns (total 12 columns):\n",
      " #   Column       Non-Null Count  Dtype  \n",
      "---  ------       --------------  -----  \n",
      " 0   PassengerId  891 non-null    int64  \n",
      " 1   Survived     891 non-null    int64  \n",
      " 2   Pclass       891 non-null    int64  \n",
      " 3   Name         891 non-null    object \n",
      " 4   Sex          891 non-null    object \n",
      " 5   Age          714 non-null    float64\n",
      " 6   SibSp        891 non-null    int64  \n",
      " 7   Parch        891 non-null    int64  \n",
      " 8   Ticket       891 non-null    object \n",
      " 9   Fare         891 non-null    float64\n",
      " 10  Cabin        204 non-null    object \n",
      " 11  Embarked     889 non-null    object \n",
      "dtypes: float64(2), int64(5), object(5)\n",
      "memory usage: 83.7+ KB\n",
      "None\n",
      "------------------\n",
      "       PassengerId    Survived      Pclass         Age       SibSp  \\\n",
      "count   891.000000  891.000000  891.000000  714.000000  891.000000   \n",
      "mean    446.000000    0.383838    2.308642   29.699118    0.523008   \n",
      "std     257.353842    0.486592    0.836071   14.526497    1.102743   \n",
      "min       1.000000    0.000000    1.000000    0.420000    0.000000   \n",
      "25%     223.500000    0.000000    2.000000   20.125000    0.000000   \n",
      "50%     446.000000    0.000000    3.000000   28.000000    0.000000   \n",
      "75%     668.500000    1.000000    3.000000   38.000000    1.000000   \n",
      "max     891.000000    1.000000    3.000000   80.000000    8.000000   \n",
      "\n",
      "            Parch        Fare  \n",
      "count  891.000000  891.000000  \n",
      "mean     0.381594   32.204208  \n",
      "std      0.806057   49.693429  \n",
      "min      0.000000    0.000000  \n",
      "25%      0.000000    7.910400  \n",
      "50%      0.000000   14.454200  \n",
      "75%      0.000000   31.000000  \n",
      "max      6.000000  512.329200  \n",
      "------------------\n",
      "Unique values\n",
      "Survived         2\n",
      "Sex              2\n",
      "Pclass           3\n",
      "Embarked         3\n",
      "SibSp            7\n",
      "Parch            7\n",
      "Age             88\n",
      "Cabin          147\n",
      "Fare           248\n",
      "Ticket         681\n",
      "PassengerId    891\n",
      "Name           891\n",
      "dtype: int64\n",
      "------------------\n",
      "Missing values:\n",
      "               0         1\n",
      "PassengerId    0  0.000000\n",
      "Survived       0  0.000000\n",
      "Pclass         0  0.000000\n",
      "Name           0  0.000000\n",
      "Sex            0  0.000000\n",
      "Age          177  0.198653\n",
      "SibSp          0  0.000000\n",
      "Parch          0  0.000000\n",
      "Ticket         0  0.000000\n",
      "Fare           0  0.000000\n",
      "Cabin        687  0.771044\n",
      "Embarked       2  0.002245\n",
      "------------------\n"
     ]
    }
   ],
   "source": [
    "def read_df_info(df):\n",
    "    #print(df.head())\n",
    "    print('------------------')\n",
    "    print(df.info())\n",
    "    print('------------------')\n",
    "    print(df.describe())\n",
    "    print('------------------')\n",
    "    print('Unique values')\n",
    "    print(df.nunique().sort_values(ascending=True))\n",
    "    print('------------------')    \n",
    "    print('Missing values:')\n",
    "    print(pd.concat([df.isnull().sum(), df.isnull().sum()/df.shape[0]],axis=1))\n",
    "    print('------------------')\n",
    "    \n",
    "# test\n",
    "read_df_info(df)    "
   ]
  },
  {
   "cell_type": "code",
   "execution_count": 5,
   "metadata": {},
   "outputs": [
    {
     "data": {
      "text/plain": [
       "Index(['Survived', 'Pclass', 'Sex', 'Age', 'SibSp', 'Parch', 'Fare',\n",
       "       'Embarked'],\n",
       "      dtype='object')"
      ]
     },
     "execution_count": 5,
     "metadata": {},
     "output_type": "execute_result"
    }
   ],
   "source": [
    "def drop_duplicate(df):\n",
    "    df.drop_duplicates(keep='first')\n",
    "    \n",
    "def drop_col(df, col_list):\n",
    "    for col in col_list:\n",
    "        df.drop(col,axis=1,inplace = True)\n",
    "\n",
    "#test\n",
    "drop_duplicate(df)\n",
    "drop_col(df, ['PassengerId','Cabin','Name','Ticket'])\n",
    "df.columns"
   ]
  },
  {
   "cell_type": "code",
   "execution_count": 10,
   "metadata": {},
   "outputs": [],
   "source": [
    "cat_col = ['Sex', 'Embarked','Pclass']\n",
    "num_col = ['Age', 'SibSp', 'Parch', 'Fare']\n",
    "target = 'Survived'\n",
    "df['Pclass'] = df['Pclass'].astype('object')"
   ]
  },
  {
   "cell_type": "code",
   "execution_count": 11,
   "metadata": {
    "collapsed": true,
    "jupyter": {
     "outputs_hidden": true,
     "source_hidden": true
    }
   },
   "outputs": [
    {
     "data": {
      "text/plain": [
       "['PassengerId', 'Survived', 'Name', 'Ticket', 'Cabin']"
      ]
     },
     "execution_count": 11,
     "metadata": {},
     "output_type": "execute_result"
    }
   ],
   "source": [
    "[col for col in df.columns.to_list() if col not in cat_col and col not in num_col]"
   ]
  },
  {
   "cell_type": "code",
   "execution_count": 133,
   "metadata": {},
   "outputs": [
    {
     "name": "stdout",
     "output_type": "stream",
     "text": [
      "-------------------------------------\n",
      "Type: object\n",
      "Rows: 1460\n",
      "Distinct: 25\n",
      "Missing: 0\n",
      "Missing%: 0.0\n",
      "-------------------------------------\n",
      "Top 10 values:\n",
      "  Neighborhood  Count         %     Cum.%\n",
      "0        NAmes    225  0.154110  0.154110\n",
      "1      CollgCr    150  0.102740  0.256849\n",
      "2      OldTown    113  0.077397  0.334247\n",
      "3      Edwards    100  0.068493  0.402740\n",
      "4      Somerst     86  0.058904  0.461644\n",
      "5      Gilbert     79  0.054110  0.515753\n",
      "6      NridgHt     77  0.052740  0.568493\n",
      "7       Sawyer     74  0.050685  0.619178\n",
      "8       NWAmes     73  0.050000  0.669178\n",
      "9      SawyerW     59  0.040411  0.709589\n",
      "-------------------------------------\n"
     ]
    },
    {
     "data": {
      "image/png": "[encoded data removed]",
      "text/plain": [
       "<Figure size 576x432 with 1 Axes>"
      ]
     },
     "metadata": {
      "needs_background": "light"
     },
     "output_type": "display_data"
    }
   ],
   "source": [
    "def describe_cat_col(df, col_name, top_N = 10, plot_size = (8,6)):\n",
    "    \n",
    "    '''\n",
    "    Describe basic stats of a categorical column in a DataFrame\n",
    "    df: DataFrame\n",
    "    col_name: column name\n",
    "    top_N: keep top N classes in count table, plot only top N classes\n",
    "    plot_size: size of plot\n",
    "    '''\n",
    "    print('-------------------------------------')\n",
    "    print('Type: ' + str(df[col_name].dtype))\n",
    "    print('Rows: ' + str(df.shape[0]))\n",
    "    print('Distinct: ' + str(df[col_name].nunique()))\n",
    "    print('Missing: ' + str(df[col_name].isnull().sum()))\n",
    "    print('Missing%: ' + str(df[col_name].isnull().sum()/df.shape[0]))\n",
    "    print('-------------------------------------')\n",
    "    print('Top ' + str(top_N) + ' values:') # \n",
    "    count_table_info = pd.concat([\n",
    "            df[col_name].value_counts(dropna=False)[:top_N], \n",
    "            df[col_name].value_counts(dropna=False, normalize=True)[:top_N],\n",
    "            df[col_name].value_counts(dropna=False, normalize=True)[:top_N].cumsum()],\n",
    "            axis = 1)\n",
    "\n",
    "    count_table_info.columns = ['Count','%','Cum.%'] \n",
    "    count_table_info = count_table_info.sort_values(by='Count', ascending=False)\n",
    "    count_table_info.reset_index(inplace=True)\n",
    "    count_table_info.columns = [col_name, 'Count','%','Cum.%'] \n",
    "    #count_table_info.drop('index', axis = 1, inplace = True)\n",
    "    print(count_table_info)\n",
    "    print('-------------------------------------')\n",
    "    fig, ax = plt.subplots(figsize = plot_size)\n",
    "    sns.countplot(y = col_name, data = df, order = df[col_name].value_counts().iloc[:top_N].index)\n",
    "\n",
    "# test\n",
    "describe_cat_col(df, 'Neighborhood')"
   ]
  },
  {
   "cell_type": "code",
   "execution_count": 98,
   "metadata": {},
   "outputs": [
    {
     "data": {
      "text/plain": [
       "3"
      ]
     },
     "execution_count": 98,
     "metadata": {},
     "output_type": "execute_result"
    }
   ],
   "source": [
    "len(df['Pclass'].value_counts())"
   ]
  },
  {
   "cell_type": "code",
   "execution_count": 135,
   "metadata": {},
   "outputs": [
    {
     "name": "stdout",
     "output_type": "stream",
     "text": [
      "-------------------------------------\n",
      "Type: int64\n",
      "Rows: 1460\n",
      "Min: 34900\n",
      "Max: 755000\n",
      "Mean: 180921.19589041095\n",
      "Median: 163000.0\n",
      "Mode: 140000\n",
      "StdDev: 79442.50288288662\n",
      "Distinct: 663\n",
      "Sum: 264144946\n",
      "Missing: 0\n",
      "Missing%: 0.0\n",
      "Skewness: 1.8828757597682129\n",
      "Kurtosis: 6.536281860064529\n",
      "25%: 129975.0\n",
      "75%: 214000.0\n",
      "IQR: 84025.0\n",
      "Down: 3937.5\n",
      "Up: 340037.5\n",
      "-------------------------------------\n"
     ]
    },
    {
     "data": {
      "image/png": "[encoded data removed]",
      "text/plain": [
       "<Figure size 432x288 with 2 Axes>"
      ]
     },
     "metadata": {
      "needs_background": "light"
     },
     "output_type": "display_data"
    }
   ],
   "source": [
    "def describe_num_col(df, col_name):\n",
    "    \n",
    "    '''\n",
    "    Describe basic stats of a categorical column in a DataFrame\n",
    "    df: DataFrame\n",
    "    col_name: column name\n",
    "    '''\n",
    "    print('-------------------------------------')\n",
    "    print('Type: ' + str(df[col_name].dtype))\n",
    "    print('Rows: ' + str(df.shape[0]))\n",
    "    print('Min: ' + str(df[col_name].min()))\n",
    "    print('Max: ' + str(df[col_name].max()))\n",
    "    print('Mean: ' + str(df[col_name].mean()))\n",
    "    print('Median: ' + str(df[col_name].median()))\n",
    "    print('Mode: '+ str(df[col_name].value_counts().index[0]))\n",
    "    print('StdDev: ' + str(df[col_name].std()))\n",
    "    print('Distinct: ' + str(df[col_name].nunique()))\n",
    "    print('Sum: ' + str(df[col_name].sum()))\n",
    "    print('Missing: ' + str(df[col_name].isnull().sum()))\n",
    "    print('Missing%: ' + str(df[col_name].isnull().sum()/df.shape[0]))\n",
    "    print('Skewness: ' + str(df[col_name].skew()))\n",
    "    print('Kurtosis: ' + str(df[col_name].kurtosis()))\n",
    "        \n",
    "    Q1 = df[col_name].quantile(q = 0.25)\n",
    "    Q3 = df[col_name].quantile(q = 0.75)\n",
    "    IQR = Q3 - Q1\n",
    "    upBound = 1.5 * IQR + Q3\n",
    "    downBound = Q1 - 1.5 * IQR\n",
    "    \n",
    "    print('25%: ' + str(Q1))\n",
    "    print('75%: ' + str(Q3))\n",
    "    print('IQR: ' + str(IQR))\n",
    "    print('Down: ' + str(downBound))\n",
    "    print('Up: ' + str(upBound))\n",
    "    print('-------------------------------------')\n",
    "    fig, ax = plt.subplots(2,1)\n",
    "    sns.distplot(df[col_name], ax=ax[0])\n",
    "    sns.boxplot(df[col_name], ax=ax[1])\n",
    "\n",
    "# test\n",
    "describe_num_col(df, 'SalePrice')"
   ]
  },
  {
   "cell_type": "code",
   "execution_count": 3,
   "metadata": {},
   "outputs": [
    {
     "name": "stdout",
     "output_type": "stream",
     "text": [
      "(712, 11) (179, 11) (712,) (179,)\n"
     ]
    }
   ],
   "source": [
    "def split_data(df, target, test_size):\n",
    "    '''\n",
    "    test_size: in decimal\n",
    "    '''\n",
    "    X = df.drop(target, axis = 1, inplace = False)\n",
    "    y = df[target]\n",
    "    X_train, X_test, y_train, y_test = train_test_split(X, y, test_size = test_size, random_state=1)\n",
    "    print(X_train.shape,X_test.shape,y_train.shape,y_test.shape)\n",
    "    return X_train, X_test, y_train, y_test\n",
    "\n",
    "# test\n",
    "X_train, X_test, y_train, y_test = split_data(df, 'Survived', 0.2)"
   ]
  },
  {
   "cell_type": "code",
   "execution_count": 41,
   "metadata": {},
   "outputs": [
    {
     "name": "stdout",
     "output_type": "stream",
     "text": [
      "(712, 11) (179, 11) (712,) (179,)\n"
     ]
    }
   ],
   "source": [
    "def split_data2(df, target, test_size, save = False):\n",
    "    '''\n",
    "    test_size: in decimal\n",
    "    '''\n",
    "    X = df.drop(target, axis = 1, inplace = False)\n",
    "    y = df[target]\n",
    "    cols = X.columns.tolist()\n",
    "\n",
    "    X_train, X_test, y_train, y_test = train_test_split(X, y, test_size = test_size, random_state=1)\n",
    "    print(X_train.shape,X_test.shape,y_train.shape,y_test.shape)\n",
    "    \n",
    "    train = pd.concat([X_train, y_train], axis=1)\n",
    "    test = pd.concat([X_test, y_test], axis=1)\n",
    "    \n",
    "    if save is True:\n",
    "        train.to_csv('train.csv', index = False)\n",
    "        test.to_csv('test.csv', index = False)\n",
    "    \n",
    "    return train,test\n",
    "\n",
    "# test\n",
    "train, test = split_data2(df, 'Survived', 0.2, True)"
   ]
  },
  {
   "cell_type": "code",
   "execution_count": 9,
   "metadata": {},
   "outputs": [
    {
     "data": {
      "text/plain": [
       "Pclass      0\n",
       "Sex         0\n",
       "Age         0\n",
       "SibSp       0\n",
       "Parch       0\n",
       "Fare        0\n",
       "Embarked    0\n",
       "dtype: int64"
      ]
     },
     "execution_count": 9,
     "metadata": {},
     "output_type": "execute_result"
    }
   ],
   "source": [
    "def impute(df1, df2 = None, col_dict):\n",
    "    '''\n",
    "    df1: to fit_transform\n",
    "    df2: to transform\n",
    "    col_dict: a dictionary (key: col name, value: impute method)\n",
    "    '''\n",
    "    for col in col_dict:\n",
    "        if col_dict[col] == 'mean':\n",
    "            temp = df1[col].mean()\n",
    "        elif col_dict[col] == 'median':\n",
    "            temp = df1[col].median()\n",
    "        elif col_dict[col] == 'mode':\n",
    "            temp = df1[col].value_counts().index[0]\n",
    "        else:\n",
    "            temp = col_dict[col]\n",
    "        #print(temp)   \n",
    "            \n",
    "        df1[col].fillna(temp, inplace = True)\n",
    "        if df2 is not None:\n",
    "            df2[col].fillna(temp, inplace = True)\n",
    "    \n",
    "#test\n",
    "impute(X_train, X_test, {'Sex': 'mode', 'Embarked': 'mode', 'Pclass': 'mode',\\\n",
    "                       'Age': 'median', 'SibSp': 'median', 'Parch': 'median', 'Fare': 'median', \n",
    "                      })\n",
    "X_train.isna().sum()"
   ]
  },
  {
   "cell_type": "code",
   "execution_count": 10,
   "metadata": {},
   "outputs": [],
   "source": [
    "def clear_outliers_by_IQR(df, col_list): # do this without missing values in df[col]\n",
    "    for col in col_list:\n",
    "        if df[col].isna().sum()!=0:\n",
    "            print('Impute missing values for ' + col + ' first!')\n",
    "            continue\n",
    "        q1 = np.percentile(df[col].tolist(), 25)\n",
    "        q3 = np.percentile(df[col].tolist(), 75)\n",
    "        #print(q1, q3)\n",
    "        iqr = q3 - q1\n",
    "        upbound = q3 + 1.5 * iqr\n",
    "        downbound = q1 - 1.5 * iqr\n",
    "        #print(upbound, downbound)\n",
    "        col_type = df[col].dtype\n",
    "        df.loc[ (df[col]<downbound) | (df[col]>upbound), col] = 'NaN'\n",
    "        df[col] = df[col].astype(col_type)\n",
    "        \n",
    "#test\n",
    "# clear_outliers_by_IQR(X_train, ['Age'])\n",
    "# X_train['Age'].isna().sum()\n",
    "# describe_col(X_train, 'Age', None)"
   ]
  },
  {
   "cell_type": "code",
   "execution_count": 11,
   "metadata": {},
   "outputs": [],
   "source": [
    "def correlation(df, col_list = None, method = 'pearson', size=(7,6), threshold = -1):\n",
    "    '''\n",
    "    df: DataFrame\n",
    "    col_list: list of columns to calculate correlations\n",
    "    method: 'pearson', 'spearman', 'kendall'\n",
    "    size: plot size\n",
    "    threshold: return pairs with abs(corr)>threshold if \n",
    "    '''\n",
    "    fig, ax = plt.subplots(figsize=size)\n",
    "    if col_list is None:\n",
    "        corr_cols = df.columns.tolist()\n",
    "        corr = df.corr(method)\n",
    "    else:\n",
    "        corr_cols = col_list\n",
    "        corr = df[col_list].corr(method)\n",
    "    sns.heatmap(corr, annot=True, linewidths=.5, cmap = sns.cm.vlag)\n",
    "    plt.show()\n",
    "        \n",
    "    if threshold > 0 and threshold < 1:\n",
    "        for i in range(len(corr_cols)):\n",
    "            for j in range(len(corr_cols)):\n",
    "                corr_ij = corr.loc[corr_cols[i], corr_cols[j]]\n",
    "                if j < i and corr_ij >= threshold:\n",
    "                    print(corr_cols[i],corr_cols[j],corr_ij)\n",
    "\n",
    "                    \n",
    "# test\n",
    "correlation(df = df, col_list = ['Age','Parch','Fare'], \n",
    "            method ='pearson', size = (15,15), threshold = 0.8)"
   ]
  },
  {
   "cell_type": "code",
   "execution_count": 12,
   "metadata": {},
   "outputs": [
    {
     "data": {
      "text/plain": [
       "3        388\n",
       "Other    324\n",
       "Name: Pclass, dtype: int64"
      ]
     },
     "execution_count": 12,
     "metadata": {},
     "output_type": "execute_result"
    }
   ],
   "source": [
    "def merge_rare(df, col_list, percentage):\n",
    "    '''\n",
    "    percentage: decimal, 0.00-1.00\n",
    "    '''\n",
    "    for col in col_list :\n",
    "        df[col].mask(df[col].map(df[col].value_counts(normalize=True)) < percentage, \\\n",
    "                      'Other', inplace=True)\n",
    "        \n",
    "# test \n",
    "merge_rare(X_train,['Embarked', 'Pclass'], 0.5) \n",
    "X_train['Pclass'].value_counts()"
   ]
  },
  {
   "cell_type": "code",
   "execution_count": 45,
   "metadata": {},
   "outputs": [
    {
     "name": "stdout",
     "output_type": "stream",
     "text": [
      "0.0    483\n",
      "1.0    176\n",
      "NaN     32\n",
      "2.0     21\n",
      "Name: SibSp, dtype: int64\n"
     ]
    }
   ],
   "source": [
    "def keep_top_N(df1, df2, col, N):\n",
    "    '''\n",
    "    N: N most frequent classes to keep in a categorical feature\n",
    "    '''\n",
    "    top_n = df1[col].value_counts().index.tolist()[:N]\n",
    "    def f(x):\n",
    "        if x not in top_n:\n",
    "            return np.nan\n",
    "        else:\n",
    "            return x\n",
    "    df1[col] = df1[col].apply(lambda x: f(x))\n",
    "    if df2 is not None:\n",
    "        df2[col] = df2[col].apply(lambda x: f(x))\n",
    "        \n",
    "    print(df1.SibSp.value_counts(dropna=False))\n",
    "    if df2 is not None:\n",
    "        print(df2.SibSp.value_counts(dropna=False))\n",
    "    \n",
    "keep_top_N(train, None, 'SibSp', 3)  "
   ]
  },
  {
   "cell_type": "code",
   "execution_count": 35,
   "metadata": {},
   "outputs": [
    {
     "name": "stdout",
     "output_type": "stream",
     "text": [
      "[0, 1, 2]\n"
     ]
    },
    {
     "data": {
      "text/plain": [
       "0.0    608\n",
       "1.0    209\n",
       "NaN     46\n",
       "2.0     28\n",
       "Name: SibSp, dtype: int64"
      ]
     },
     "execution_count": 35,
     "metadata": {},
     "output_type": "execute_result"
    }
   ],
   "source": [
    "top_n = df.SibSp.value_counts().index.tolist()[:3]\n",
    "print(top_n)\n",
    "\n",
    "def f(x):\n",
    "    if x not in top_n:\n",
    "        return np.nan\n",
    "    else:\n",
    "        return x\n",
    "    \n",
    "df['SibSp'] = df['SibSp'].apply(lambda x: f(x))\n",
    "\n",
    "df.SibSp.value_counts(dropna = False)"
   ]
  },
  {
   "cell_type": "code",
   "execution_count": 22,
   "metadata": {},
   "outputs": [
    {
     "data": {
      "text/plain": [
       "Series([], Name: SibSp, dtype: int64)"
      ]
     },
     "execution_count": 22,
     "metadata": {},
     "output_type": "execute_result"
    }
   ],
   "source": [
    "df.SibSp.value_counts()"
   ]
  },
  {
   "cell_type": "code",
   "execution_count": 13,
   "metadata": {},
   "outputs": [],
   "source": [
    "def encode(df1, df2, num_col, cat_col):\n",
    "\n",
    "    dv = DictVectorizer(sparse=False)\n",
    "    cls_cat1 = dv.fit_transform(df1[cat_col].to_dict(orient='record'))\n",
    "    df1_cat = pd.DataFrame(data = cls_cat1, columns = dv.feature_names_)\n",
    "    \n",
    "    ss = StandardScaler()\n",
    "    cls_num1 = ss.fit_transform(df1[num_col])\n",
    "    df1_num = pd.DataFrame(cls_num1,columns = num_col)\n",
    "    \n",
    "    df1_encoded = pd.concat([df1_num,df1_cat],axis=1)\n",
    "   \n",
    "    if df2 is not None:\n",
    "        cls_cat2 = dv.transform(df2[cat_col].to_dict(orient='record'))\n",
    "        df2_cat = pd.DataFrame(data = cls_cat2, columns = dv.feature_names_)\n",
    "        cls_num2 = ss.transform(df2[num_col])\n",
    "        df2_num = pd.DataFrame(cls_num2,columns = num_col)\n",
    "        df2_encoded = pd.concat([df2_num,df2_cat],axis=1)\n",
    "\n",
    "    return df1_encoded, df2_encoded\n",
    "    \n",
    "    \n",
    "#test\n",
    "X_train_encoded, X_test_encoded = encode(X_train, X_test, num_col, cat_col)\n",
    "# Pclass is not transformed cuz it is already numerial"
   ]
  },
  {
   "cell_type": "code",
   "execution_count": 14,
   "metadata": {
    "collapsed": true,
    "jupyter": {
     "outputs_hidden": true
    }
   },
   "outputs": [
    {
     "data": {
      "text/html": [
       "<div>\n",
       "<style scoped>\n",
       "    .dataframe tbody tr th:only-of-type {\n",
       "        vertical-align: middle;\n",
       "    }\n",
       "\n",
       "    .dataframe tbody tr th {\n",
       "        vertical-align: top;\n",
       "    }\n",
       "\n",
       "    .dataframe thead th {\n",
       "        text-align: right;\n",
       "    }\n",
       "</style>\n",
       "<table border=\"1\" class=\"dataframe\">\n",
       "  <thead>\n",
       "    <tr style=\"text-align: right;\">\n",
       "      <th></th>\n",
       "      <th>Age</th>\n",
       "      <th>SibSp</th>\n",
       "      <th>Parch</th>\n",
       "      <th>Fare</th>\n",
       "      <th>Embarked=Other</th>\n",
       "      <th>Embarked=S</th>\n",
       "      <th>Pclass</th>\n",
       "      <th>Pclass=Other</th>\n",
       "      <th>Sex=female</th>\n",
       "      <th>Sex=male</th>\n",
       "    </tr>\n",
       "  </thead>\n",
       "  <tbody>\n",
       "    <tr>\n",
       "      <th>0</th>\n",
       "      <td>-0.070132</td>\n",
       "      <td>1.491053</td>\n",
       "      <td>-0.478173</td>\n",
       "      <td>-0.188014</td>\n",
       "      <td>1.0</td>\n",
       "      <td>0.0</td>\n",
       "      <td>3.0</td>\n",
       "      <td>0.0</td>\n",
       "      <td>0.0</td>\n",
       "      <td>1.0</td>\n",
       "    </tr>\n",
       "    <tr>\n",
       "      <th>1</th>\n",
       "      <td>0.005249</td>\n",
       "      <td>-0.489600</td>\n",
       "      <td>-0.478173</td>\n",
       "      <td>0.539690</td>\n",
       "      <td>1.0</td>\n",
       "      <td>0.0</td>\n",
       "      <td>0.0</td>\n",
       "      <td>1.0</td>\n",
       "      <td>1.0</td>\n",
       "      <td>0.0</td>\n",
       "    </tr>\n",
       "    <tr>\n",
       "      <th>2</th>\n",
       "      <td>0.306775</td>\n",
       "      <td>-0.489600</td>\n",
       "      <td>-0.478173</td>\n",
       "      <td>-0.463503</td>\n",
       "      <td>0.0</td>\n",
       "      <td>1.0</td>\n",
       "      <td>0.0</td>\n",
       "      <td>1.0</td>\n",
       "      <td>1.0</td>\n",
       "      <td>0.0</td>\n",
       "    </tr>\n",
       "    <tr>\n",
       "      <th>3</th>\n",
       "      <td>-0.673183</td>\n",
       "      <td>1.491053</td>\n",
       "      <td>-0.478173</td>\n",
       "      <td>0.897735</td>\n",
       "      <td>0.0</td>\n",
       "      <td>1.0</td>\n",
       "      <td>0.0</td>\n",
       "      <td>1.0</td>\n",
       "      <td>0.0</td>\n",
       "      <td>1.0</td>\n",
       "    </tr>\n",
       "    <tr>\n",
       "      <th>4</th>\n",
       "      <td>2.417453</td>\n",
       "      <td>-0.489600</td>\n",
       "      <td>-0.478173</td>\n",
       "      <td>-0.463503</td>\n",
       "      <td>0.0</td>\n",
       "      <td>1.0</td>\n",
       "      <td>0.0</td>\n",
       "      <td>1.0</td>\n",
       "      <td>0.0</td>\n",
       "      <td>1.0</td>\n",
       "    </tr>\n",
       "  </tbody>\n",
       "</table>\n",
       "</div>"
      ],
      "text/plain": [
       "        Age     SibSp     Parch      Fare  Embarked=Other  Embarked=S  Pclass  \\\n",
       "0 -0.070132  1.491053 -0.478173 -0.188014             1.0         0.0     3.0   \n",
       "1  0.005249 -0.489600 -0.478173  0.539690             1.0         0.0     0.0   \n",
       "2  0.306775 -0.489600 -0.478173 -0.463503             0.0         1.0     0.0   \n",
       "3 -0.673183  1.491053 -0.478173  0.897735             0.0         1.0     0.0   \n",
       "4  2.417453 -0.489600 -0.478173 -0.463503             0.0         1.0     0.0   \n",
       "\n",
       "   Pclass=Other  Sex=female  Sex=male  \n",
       "0           0.0         0.0       1.0  \n",
       "1           1.0         1.0       0.0  \n",
       "2           1.0         1.0       0.0  \n",
       "3           1.0         0.0       1.0  \n",
       "4           1.0         0.0       1.0  "
      ]
     },
     "execution_count": 14,
     "metadata": {},
     "output_type": "execute_result"
    }
   ],
   "source": [
    "X_train_encoded.head()"
   ]
  },
  {
   "cell_type": "code",
   "execution_count": null,
   "metadata": {},
   "outputs": [],
   "source": [
    "## under sampling\n",
    "from imblearn.under_sampling import RandomUnderSampler \n",
    "from imblearn.over_sampling import ADASYN\n",
    "from imblearn.over_sampling import SMOTE\n",
    "\n",
    "rus = RUS(random_state=1) \n",
    "X_train_res,y_train_res=rus.fit_resample(X_train,y_train)\n",
    "\n",
    "# over sampling\n",
    "adasyn = ADASYN()\n",
    "X_res,y_res=adasyn.fit_resample(X,y)"
   ]
  },
  {
   "cell_type": "code",
   "execution_count": null,
   "metadata": {},
   "outputs": [],
   "source": [
    "def resampling(X, y, method):\n",
    "    '''\n",
    "    method: 'random_under'\n",
    "            'adasyn_over'\n",
    "            'smote_over'\n",
    "    '''\n",
    "    \n",
    "    if method == 'random_under':\n",
    "        sampler = RandomUnderSampler()\n",
    "    if method == 'adasyn_over':\n",
    "        sampler = ADASYN()\n",
    "    if method = 'smote_over':\n",
    "        sampler = SMOTE()\n",
    "    \n",
    "    X_res,y_res = sampler.fit_transform(X,y)\n",
    "    return X_res, y_res\n"
   ]
  },
  {
   "cell_type": "code",
   "execution_count": null,
   "metadata": {},
   "outputs": [],
   "source": [
    "# hold-out validation\n",
    "model=RF(class_weight = 'balanced')\n",
    "model.fit(X_train,y_train)\n",
    "y_pred = model.predict(X_val)\n",
    "print(\"Confusion_Matrix:\")\n",
    "print(str(confusion_matrix(y_test,y_pred)))\n",
    "print(classification_report(y_test,y_pred))\n",
    "print(\"Accuracy:\" + str(accuracy_score(y_test, y_pred)))\n",
    "print(\"AUC_ROC:\" + str(roc_auc_score(y_test, y_pred)))\n",
    "importance_list = sorted(zip(model.feature_importances_, X_train_origin.columns.to_list()), reverse=True)\n",
    "print(\"Feature importance: \")\n",
    "pprint(importance_list[:10])"
   ]
  },
  {
   "cell_type": "code",
   "execution_count": null,
   "metadata": {},
   "outputs": [],
   "source": [
    "# cross-validation\n",
    "model = RF(class_weight='balanced')\n",
    "\n",
    "# score: roc_auc(bin), accuracy, roc_auc_ovo_weighted\n",
    "# choose the best model here\n",
    "acc = cross_val_score(model,X_train,y_train,cv=3,scoring='accuracy').mean()\n",
    "print(\"Accuracy : \" + str(acc))\n",
    "\n",
    "y_pred = cross_val_predict(model, X_train, y_train, cv=3)\n",
    "conf_mat = confusion_matrix(y_train, y_pred)\n",
    "print(\"Confusion matrix:\")\n",
    "print(conf_mat)\n",
    "print()\n",
    "print(classification_report(y_train, y_pred))"
   ]
  }
 ],
 "metadata": {
  "kernelspec": {
   "display_name": "Python 3",
   "language": "python",
   "name": "python3"
  },
  "language_info": {
   "codemirror_mode": {
    "name": "ipython",
    "version": 3
   },
   "file_extension": ".py",
   "mimetype": "text/x-python",
   "name": "python",
   "nbconvert_exporter": "python",
   "pygments_lexer": "ipython3",
   "version": "3.6.9"
  }
 },
 "nbformat": 4,
 "nbformat_minor": 4
}
