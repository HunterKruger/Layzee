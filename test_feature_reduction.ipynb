{
 "cells": [
  {
   "cell_type": "code",
   "execution_count": 1,
   "metadata": {
    "collapsed": true
   },
   "outputs": [
    {
     "name": "stdout",
     "output_type": "stream",
     "text": [
      "------------------\n",
      "1460 rows, 81 columns.\n",
      "------------------\n",
      "                 Dtype  Count  unique   unique%  missing  missing%\n",
      "Id               int64   1460    1460  1.000000        0  0.000000\n",
      "MSSubClass       int64   1460      15  0.010274        0  0.000000\n",
      "MSZoning        object   1460       5  0.003425        0  0.000000\n",
      "LotFrontage    float64   1201     110  0.075342      259  0.177397\n",
      "LotArea          int64   1460    1073  0.734932        0  0.000000\n",
      "Street          object   1460       2  0.001370        0  0.000000\n",
      "Alley           object     91       2  0.001370     1369  0.937671\n",
      "LotShape        object   1460       4  0.002740        0  0.000000\n",
      "LandContour     object   1460       4  0.002740        0  0.000000\n",
      "Utilities       object   1460       2  0.001370        0  0.000000\n",
      "LotConfig       object   1460       5  0.003425        0  0.000000\n",
      "LandSlope       object   1460       3  0.002055        0  0.000000\n",
      "Neighborhood    object   1460      25  0.017123        0  0.000000\n",
      "Condition1      object   1460       9  0.006164        0  0.000000\n",
      "Condition2      object   1460       8  0.005479        0  0.000000\n",
      "BldgType        object   1460       5  0.003425        0  0.000000\n",
      "HouseStyle      object   1460       8  0.005479        0  0.000000\n",
      "OverallQual      int64   1460      10  0.006849        0  0.000000\n",
      "OverallCond      int64   1460       9  0.006164        0  0.000000\n",
      "YearBuilt        int64   1460     112  0.076712        0  0.000000\n",
      "YearRemodAdd     int64   1460      61  0.041781        0  0.000000\n",
      "RoofStyle       object   1460       6  0.004110        0  0.000000\n",
      "RoofMatl        object   1460       8  0.005479        0  0.000000\n",
      "Exterior1st     object   1460      15  0.010274        0  0.000000\n",
      "Exterior2nd     object   1460      16  0.010959        0  0.000000\n",
      "MasVnrType      object   1452       4  0.002740        8  0.005479\n",
      "MasVnrArea     float64   1452     327  0.223973        8  0.005479\n",
      "ExterQual       object   1460       4  0.002740        0  0.000000\n",
      "ExterCond       object   1460       5  0.003425        0  0.000000\n",
      "Foundation      object   1460       6  0.004110        0  0.000000\n",
      "BsmtQual        object   1423       4  0.002740       37  0.025342\n",
      "BsmtCond        object   1423       4  0.002740       37  0.025342\n",
      "BsmtExposure    object   1422       4  0.002740       38  0.026027\n",
      "BsmtFinType1    object   1423       6  0.004110       37  0.025342\n",
      "BsmtFinSF1       int64   1460     637  0.436301        0  0.000000\n",
      "BsmtFinType2    object   1422       6  0.004110       38  0.026027\n",
      "BsmtFinSF2       int64   1460     144  0.098630        0  0.000000\n",
      "BsmtUnfSF        int64   1460     780  0.534247        0  0.000000\n",
      "TotalBsmtSF      int64   1460     721  0.493836        0  0.000000\n",
      "Heating         object   1460       6  0.004110        0  0.000000\n",
      "HeatingQC       object   1460       5  0.003425        0  0.000000\n",
      "CentralAir      object   1460       2  0.001370        0  0.000000\n",
      "Electrical      object   1459       5  0.003425        1  0.000685\n",
      "1stFlrSF         int64   1460     753  0.515753        0  0.000000\n",
      "2ndFlrSF         int64   1460     417  0.285616        0  0.000000\n",
      "LowQualFinSF     int64   1460      24  0.016438        0  0.000000\n",
      "GrLivArea        int64   1460     861  0.589726        0  0.000000\n",
      "BsmtFullBath     int64   1460       4  0.002740        0  0.000000\n",
      "BsmtHalfBath     int64   1460       3  0.002055        0  0.000000\n",
      "FullBath         int64   1460       4  0.002740        0  0.000000\n",
      "HalfBath         int64   1460       3  0.002055        0  0.000000\n",
      "BedroomAbvGr     int64   1460       8  0.005479        0  0.000000\n",
      "KitchenAbvGr     int64   1460       4  0.002740        0  0.000000\n",
      "KitchenQual     object   1460       4  0.002740        0  0.000000\n",
      "TotRmsAbvGrd     int64   1460      12  0.008219        0  0.000000\n",
      "Functional      object   1460       7  0.004795        0  0.000000\n",
      "Fireplaces       int64   1460       4  0.002740        0  0.000000\n",
      "FireplaceQu     object    770       5  0.003425      690  0.472603\n",
      "GarageType      object   1379       6  0.004110       81  0.055479\n",
      "GarageYrBlt    float64   1379      97  0.066438       81  0.055479\n",
      "GarageFinish    object   1379       3  0.002055       81  0.055479\n",
      "GarageCars       int64   1460       5  0.003425        0  0.000000\n",
      "GarageArea       int64   1460     441  0.302055        0  0.000000\n",
      "GarageQual      object   1379       5  0.003425       81  0.055479\n",
      "GarageCond      object   1379       5  0.003425       81  0.055479\n",
      "PavedDrive      object   1460       3  0.002055        0  0.000000\n",
      "WoodDeckSF       int64   1460     274  0.187671        0  0.000000\n",
      "OpenPorchSF      int64   1460     202  0.138356        0  0.000000\n",
      "EnclosedPorch    int64   1460     120  0.082192        0  0.000000\n",
      "3SsnPorch        int64   1460      20  0.013699        0  0.000000\n",
      "ScreenPorch      int64   1460      76  0.052055        0  0.000000\n",
      "PoolArea         int64   1460       8  0.005479        0  0.000000\n",
      "PoolQC          object      7       3  0.002055     1453  0.995205\n",
      "Fence           object    281       4  0.002740     1179  0.807534\n",
      "MiscFeature     object     54       4  0.002740     1406  0.963014\n",
      "MiscVal          int64   1460      21  0.014384        0  0.000000\n",
      "MoSold           int64   1460      12  0.008219        0  0.000000\n",
      "YrSold           int64   1460       5  0.003425        0  0.000000\n",
      "SaleType        object   1460       9  0.006164        0  0.000000\n",
      "SaleCondition   object   1460       6  0.004110        0  0.000000\n",
      "SalePrice        int64   1460     663  0.454110        0  0.000000\n",
      "------------------\n"
     ]
    }
   ],
   "source": [
    "import pandas as pd\n",
    "from dataframe_observer import DataframeObserver as DO\n",
    "from feature_reduction import FeatureReduction, ClassificationFeatureReduction, RegressionFeatureReduction\n",
    "\n",
    "from feature_handling import FeatureHandling as FH\n",
    "from sklearn.linear_model import LassoCV,LogisticRegressionCV\n",
    "\n",
    "\n",
    "pd.options.display.max_columns=100\n",
    "pd.options.display.max_rows = 100\n",
    "\n",
    "\n",
    "df1 = pd.read_csv('california_train.csv')\n",
    "DO.read_df_info(df1)"
   ]
  },
  {
   "cell_type": "code",
   "execution_count": 1,
   "outputs": [],
   "source": [],
   "metadata": {
    "collapsed": false,
    "pycharm": {
     "name": "#%%\n"
    }
   }
  },
  {
   "cell_type": "code",
   "execution_count": 11,
   "outputs": [
    {
     "data": {
      "text/plain": "False"
     },
     "execution_count": 11,
     "metadata": {},
     "output_type": "execute_result"
    }
   ],
   "source": [
    "df1['YrSold'].dtype=='O'"
   ],
   "metadata": {
    "collapsed": false,
    "pycharm": {
     "name": "#%%\n"
    }
   }
  },
  {
   "cell_type": "code",
   "execution_count": null,
   "outputs": [],
   "source": [
    "\n",
    "\n",
    "\n",
    "\n",
    "\n",
    "\n"
   ],
   "metadata": {
    "collapsed": false,
    "pycharm": {
     "name": "#%%\n"
    }
   }
  },
  {
   "cell_type": "code",
   "execution_count": 2,
   "outputs": [
    {
     "name": "stdout",
     "output_type": "stream",
     "text": [
      "Index(['LotArea', 'LotFrontage', '2ndFlrSF', 'BsmtUnfSF'], dtype='object')\n",
      "<class 'pandas.core.series.Series'>\n"
     ]
    }
   ],
   "source": [
    "X = df1[['LotArea','LotFrontage','2ndFlrSF','BsmtUnfSF']]\n",
    "y = df1['SalePrice']\n",
    "print(X.columns)\n",
    "print(type(y))"
   ],
   "metadata": {
    "collapsed": false,
    "pycharm": {
     "name": "#%%\n"
    }
   }
  },
  {
   "cell_type": "code",
   "execution_count": null,
   "outputs": [],
   "source": [
    "a = ClassificationFeatureReduction(X,y)\n",
    "a.pca()"
   ],
   "metadata": {
    "collapsed": false,
    "pycharm": {
     "name": "#%%\n"
    }
   }
  },
  {
   "cell_type": "code",
   "execution_count": null,
   "outputs": [],
   "source": [],
   "metadata": {
    "collapsed": false,
    "pycharm": {
     "name": "#%%\n"
    }
   }
  },
  {
   "cell_type": "code",
   "execution_count": null,
   "outputs": [],
   "source": [
    "fr3= FR(X,y)\n",
    "X_and_y = pd.concat([X, y], axis=1)\n",
    "corr = X_and_y.corr('pearson')\n",
    "result = corr.iloc[:-1,-1]\n",
    "result"
   ],
   "metadata": {
    "collapsed": false,
    "pycharm": {
     "name": "#%%\n"
    }
   }
  },
  {
   "cell_type": "code",
   "execution_count": 4,
   "outputs": [
    {
     "data": {
      "text/plain": "LotArea        0.263843\nLotFrontage    0.351799\n2ndFlrSF       0.319334\nBsmtUnfSF      0.214479\nName: SalePrice, dtype: float64"
     },
     "execution_count": 4,
     "metadata": {},
     "output_type": "execute_result"
    }
   ],
   "source": [
    "result.sort_values(ascending=False).index.tolist()[:2]\n",
    "result"
   ],
   "metadata": {
    "collapsed": false,
    "pycharm": {
     "name": "#%%\n"
    }
   }
  },
  {
   "cell_type": "code",
   "execution_count": 5,
   "outputs": [
    {
     "data": {
      "text/plain": "(['LotFrontage', '2ndFlrSF'],\n       LotFrontage  2ndFlrSF\n 0            65.0       854\n 1            80.0         0\n 2            68.0       866\n 3            60.0       756\n 4            84.0      1053\n ...           ...       ...\n 1455         62.0       694\n 1456         85.0         0\n 1457         66.0      1152\n 1458         68.0         0\n 1459         75.0         0\n \n [1460 rows x 2 columns])"
     },
     "execution_count": 5,
     "metadata": {},
     "output_type": "execute_result"
    }
   ],
   "source": [
    "fr3.corr(2,'auto',True)"
   ],
   "metadata": {
    "collapsed": false,
    "pycharm": {
     "name": "#%%\n"
    }
   }
  },
  {
   "cell_type": "code",
   "execution_count": 5,
   "outputs": [],
   "source": [
    "\n"
   ],
   "metadata": {
    "collapsed": false,
    "pycharm": {
     "name": "#%%\n"
    }
   }
  }
 ],
 "metadata": {
  "kernelspec": {
   "name": "py36",
   "language": "python",
   "display_name": "py36"
  },
  "language_info": {
   "codemirror_mode": {
    "name": "ipython",
    "version": 2
   },
   "file_extension": ".py",
   "mimetype": "text/x-python",
   "name": "python",
   "nbconvert_exporter": "python",
   "pygments_lexer": "ipython2",
   "version": "2.7.6"
  }
 },
 "nbformat": 4,
 "nbformat_minor": 0
}