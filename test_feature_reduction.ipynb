{
 "cells": [
  {
   "cell_type": "code",
   "execution_count": 1,
   "metadata": {
    "collapsed": true
   },
   "outputs": [
    {
     "name": "stdout",
     "output_type": "stream",
     "text": [
      "------------------\n",
      "846 rows, 12 columns.\n",
      "------------------\n",
      "               Dtype  Count  unique   unique%  missing  missing%\n",
      "PassengerId    int64    846     846  1.000000        0  0.000000\n",
      "Pclass         int64    846       3  0.003546        0  0.000000\n",
      "Name          object    846     846  1.000000        0  0.000000\n",
      "Sex           object    846       2  0.002364        0  0.000000\n",
      "Age          float64    676      86  0.101655      170  0.200946\n",
      "SibSp          int64    846       7  0.008274        0  0.000000\n",
      "Parch          int64    846       7  0.008274        0  0.000000\n",
      "Ticket        object    846     652  0.770686        0  0.000000\n",
      "Fare         float64    846     243  0.287234        0  0.000000\n",
      "Cabin         object    192     143  0.169031      654  0.773050\n",
      "Embarked      object    844       3  0.003546        2  0.002364\n",
      "Survived       int64    846       2  0.002364        0  0.000000\n",
      "------------------\n"
     ]
    }
   ],
   "source": [
    "import pandas as pd\n",
    "from dataframe_observer import DataframeObserver as DO\n",
    "from feature_reduction import FeatureReduction as FR\n",
    "from sklearn.preprocessing import StandardScaler, LabelEncoder, OrdinalEncoder\n",
    "from feature_handling import FeatureHandling as FH\n",
    "df1 = pd.read_csv('titanic.csv')\n",
    "DO.read_df_info(df1)\n"
   ]
  },
  {
   "cell_type": "code",
   "execution_count": 2,
   "outputs": [
    {
     "name": "stdout",
     "output_type": "stream",
     "text": [
      "Index(['Pclass', 'Sex', 'Age', 'SibSp', 'Parch', 'Fare', 'Embarked'], dtype='object')\n"
     ]
    }
   ],
   "source": [
    "X=df1.drop(['PassengerId','Name','Ticket','Survived','Cabin'],axis=1)\n",
    "y = df1['Survived']\n",
    "print(X.columns)\n",
    "\n",
    "cat = ['Sex', 'SibSp', 'Parch', 'Embarked']\n",
    "num = ['Age','Fare']"
   ],
   "metadata": {
    "collapsed": false,
    "pycharm": {
     "name": "#%%\n"
    }
   }
  },
  {
   "cell_type": "code",
   "execution_count": 3,
   "outputs": [],
   "source": [
    "fh = FH(X)\n",
    "for col in cat:\n",
    "    fh.imputer(col)\n",
    "for col in num:\n",
    "    fh.imputer(col,'median')\n",
    "X = fh.df1"
   ],
   "metadata": {
    "collapsed": false,
    "pycharm": {
     "name": "#%%\n"
    }
   }
  },
  {
   "cell_type": "code",
   "execution_count": 4,
   "outputs": [
    {
     "data": {
      "text/plain": "        Age      Fare\n0  0.410532 -0.504428\n1 -1.421704  0.293167\n2  0.715905 -0.385339\n3  0.410532  9.608697\n4 -1.039988 -0.435376",
      "text/html": "<div>\n<style scoped>\n    .dataframe tbody tr th:only-of-type {\n        vertical-align: middle;\n    }\n\n    .dataframe tbody tr th {\n        vertical-align: top;\n    }\n\n    .dataframe thead th {\n        text-align: right;\n    }\n</style>\n<table border=\"1\" class=\"dataframe\">\n  <thead>\n    <tr style=\"text-align: right;\">\n      <th></th>\n      <th>Age</th>\n      <th>Fare</th>\n    </tr>\n  </thead>\n  <tbody>\n    <tr>\n      <th>0</th>\n      <td>0.410532</td>\n      <td>-0.504428</td>\n    </tr>\n    <tr>\n      <th>1</th>\n      <td>-1.421704</td>\n      <td>0.293167</td>\n    </tr>\n    <tr>\n      <th>2</th>\n      <td>0.715905</td>\n      <td>-0.385339</td>\n    </tr>\n    <tr>\n      <th>3</th>\n      <td>0.410532</td>\n      <td>9.608697</td>\n    </tr>\n    <tr>\n      <th>4</th>\n      <td>-1.039988</td>\n      <td>-0.435376</td>\n    </tr>\n  </tbody>\n</table>\n</div>"
     },
     "execution_count": 4,
     "metadata": {},
     "output_type": "execute_result"
    }
   ],
   "source": [
    "ss =StandardScaler()\n",
    "X_num = ss.fit_transform(X[num])\n",
    "X_num = pd.DataFrame(X_num,columns=num)\n",
    "X_num.head()"
   ],
   "metadata": {
    "collapsed": false,
    "pycharm": {
     "name": "#%%\n"
    }
   }
  },
  {
   "cell_type": "code",
   "execution_count": 5,
   "outputs": [
    {
     "data": {
      "text/plain": "   Sex  SibSp  Parch  Embarked\n0  1.0    0.0    0.0       2.0\n1  1.0    5.0    2.0       2.0\n2  1.0    0.0    0.0       2.0\n3  1.0    0.0    0.0       0.0\n4  1.0    0.0    0.0       2.0",
      "text/html": "<div>\n<style scoped>\n    .dataframe tbody tr th:only-of-type {\n        vertical-align: middle;\n    }\n\n    .dataframe tbody tr th {\n        vertical-align: top;\n    }\n\n    .dataframe thead th {\n        text-align: right;\n    }\n</style>\n<table border=\"1\" class=\"dataframe\">\n  <thead>\n    <tr style=\"text-align: right;\">\n      <th></th>\n      <th>Sex</th>\n      <th>SibSp</th>\n      <th>Parch</th>\n      <th>Embarked</th>\n    </tr>\n  </thead>\n  <tbody>\n    <tr>\n      <th>0</th>\n      <td>1.0</td>\n      <td>0.0</td>\n      <td>0.0</td>\n      <td>2.0</td>\n    </tr>\n    <tr>\n      <th>1</th>\n      <td>1.0</td>\n      <td>5.0</td>\n      <td>2.0</td>\n      <td>2.0</td>\n    </tr>\n    <tr>\n      <th>2</th>\n      <td>1.0</td>\n      <td>0.0</td>\n      <td>0.0</td>\n      <td>2.0</td>\n    </tr>\n    <tr>\n      <th>3</th>\n      <td>1.0</td>\n      <td>0.0</td>\n      <td>0.0</td>\n      <td>0.0</td>\n    </tr>\n    <tr>\n      <th>4</th>\n      <td>1.0</td>\n      <td>0.0</td>\n      <td>0.0</td>\n      <td>2.0</td>\n    </tr>\n  </tbody>\n</table>\n</div>"
     },
     "execution_count": 5,
     "metadata": {},
     "output_type": "execute_result"
    }
   ],
   "source": [
    "oe = OrdinalEncoder()\n",
    "X_cat = oe.fit_transform(X[cat])\n",
    "X_cat = pd.DataFrame(X_cat,columns=cat)\n",
    "X_cat.head()"
   ],
   "metadata": {
    "collapsed": false,
    "pycharm": {
     "name": "#%%\n"
    }
   }
  },
  {
   "cell_type": "code",
   "execution_count": 6,
   "outputs": [],
   "source": [
    "# X_encoded = FH(X).general_encoder(num_cols=num,one_hot_cols=[],ordinal_cols=cat)\n",
    "# X_encoded.head()"
   ],
   "metadata": {
    "collapsed": false,
    "pycharm": {
     "name": "#%%\n"
    }
   }
  },
  {
   "cell_type": "code",
   "execution_count": 13,
   "outputs": [],
   "source": [
    "fr = FR('bin',pd.concat([X_cat,X_num],axis=1),y)\n",
    "top,top_df = fr.tree_based(5,100,5)"
   ],
   "metadata": {
    "collapsed": false,
    "pycharm": {
     "name": "#%%\n"
    }
   }
  },
  {
   "cell_type": "code",
   "execution_count": 14,
   "outputs": [
    {
     "data": {
      "text/plain": "     SibSp  Sex  Parch      Fare  Embarked\n0      0.0  1.0    0.0 -0.504428       2.0\n1      5.0  1.0    2.0  0.293167       2.0\n2      0.0  1.0    0.0 -0.385339       2.0\n3      0.0  1.0    0.0  9.608697       0.0\n4      0.0  1.0    0.0 -0.435376       2.0\n..     ...  ...    ...       ...       ...\n841    0.0  1.0    0.0 -0.492419       2.0\n842    0.0  0.0    0.0 -0.490417       1.0\n843    0.0  1.0    0.0  0.825564       2.0\n844    0.0  0.0    0.0 -0.494420       2.0\n845    0.0  1.0    0.0 -0.484413       2.0\n\n[846 rows x 5 columns]",
      "text/html": "<div>\n<style scoped>\n    .dataframe tbody tr th:only-of-type {\n        vertical-align: middle;\n    }\n\n    .dataframe tbody tr th {\n        vertical-align: top;\n    }\n\n    .dataframe thead th {\n        text-align: right;\n    }\n</style>\n<table border=\"1\" class=\"dataframe\">\n  <thead>\n    <tr style=\"text-align: right;\">\n      <th></th>\n      <th>SibSp</th>\n      <th>Sex</th>\n      <th>Parch</th>\n      <th>Fare</th>\n      <th>Embarked</th>\n    </tr>\n  </thead>\n  <tbody>\n    <tr>\n      <th>0</th>\n      <td>0.0</td>\n      <td>1.0</td>\n      <td>0.0</td>\n      <td>-0.504428</td>\n      <td>2.0</td>\n    </tr>\n    <tr>\n      <th>1</th>\n      <td>5.0</td>\n      <td>1.0</td>\n      <td>2.0</td>\n      <td>0.293167</td>\n      <td>2.0</td>\n    </tr>\n    <tr>\n      <th>2</th>\n      <td>0.0</td>\n      <td>1.0</td>\n      <td>0.0</td>\n      <td>-0.385339</td>\n      <td>2.0</td>\n    </tr>\n    <tr>\n      <th>3</th>\n      <td>0.0</td>\n      <td>1.0</td>\n      <td>0.0</td>\n      <td>9.608697</td>\n      <td>0.0</td>\n    </tr>\n    <tr>\n      <th>4</th>\n      <td>0.0</td>\n      <td>1.0</td>\n      <td>0.0</td>\n      <td>-0.435376</td>\n      <td>2.0</td>\n    </tr>\n    <tr>\n      <th>...</th>\n      <td>...</td>\n      <td>...</td>\n      <td>...</td>\n      <td>...</td>\n      <td>...</td>\n    </tr>\n    <tr>\n      <th>841</th>\n      <td>0.0</td>\n      <td>1.0</td>\n      <td>0.0</td>\n      <td>-0.492419</td>\n      <td>2.0</td>\n    </tr>\n    <tr>\n      <th>842</th>\n      <td>0.0</td>\n      <td>0.0</td>\n      <td>0.0</td>\n      <td>-0.490417</td>\n      <td>1.0</td>\n    </tr>\n    <tr>\n      <th>843</th>\n      <td>0.0</td>\n      <td>1.0</td>\n      <td>0.0</td>\n      <td>0.825564</td>\n      <td>2.0</td>\n    </tr>\n    <tr>\n      <th>844</th>\n      <td>0.0</td>\n      <td>0.0</td>\n      <td>0.0</td>\n      <td>-0.494420</td>\n      <td>2.0</td>\n    </tr>\n    <tr>\n      <th>845</th>\n      <td>0.0</td>\n      <td>1.0</td>\n      <td>0.0</td>\n      <td>-0.484413</td>\n      <td>2.0</td>\n    </tr>\n  </tbody>\n</table>\n<p>846 rows × 5 columns</p>\n</div>"
     },
     "execution_count": 14,
     "metadata": {},
     "output_type": "execute_result"
    }
   ],
   "source": [
    "top_df"
   ],
   "metadata": {
    "collapsed": false,
    "pycharm": {
     "name": "#%%\n"
    }
   }
  },
  {
   "cell_type": "code",
   "execution_count": null,
   "outputs": [],
   "source": [],
   "metadata": {
    "collapsed": false,
    "pycharm": {
     "name": "#%%\n"
    }
   }
  }
 ],
 "metadata": {
  "kernelspec": {
   "display_name": "Python 3",
   "language": "python",
   "name": "python3"
  },
  "language_info": {
   "codemirror_mode": {
    "name": "ipython",
    "version": 2
   },
   "file_extension": ".py",
   "mimetype": "text/x-python",
   "name": "python",
   "nbconvert_exporter": "python",
   "pygments_lexer": "ipython2",
   "version": "2.7.6"
  }
 },
 "nbformat": 4,
 "nbformat_minor": 0
}